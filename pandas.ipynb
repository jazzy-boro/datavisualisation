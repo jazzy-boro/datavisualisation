{
 "cells": [
  {
   "cell_type": "code",
   "execution_count": 1,
   "metadata": {},
   "outputs": [
    {
     "name": "stdout",
     "output_type": "stream",
     "text": [
      "   calories  duration\n",
      "0       292         7\n",
      "1       212        13\n",
      "2       134        44\n"
     ]
    }
   ],
   "source": [
    "import pandas as pd\n",
    "data={\"calories\":[292,212,134],\n",
    "     \"duration\":[7,13,44]}\n",
    "myvar=pd.DataFrame(data)\n",
    "print(myvar)"
   ]
  },
  {
   "cell_type": "code",
   "execution_count": 2,
   "metadata": {},
   "outputs": [
    {
     "name": "stdout",
     "output_type": "stream",
     "text": [
      "       calories  duration\n",
      "day1        292         7\n",
      "day2        212        13\n",
      "dayy3       134        44\n"
     ]
    }
   ],
   "source": [
    "myvar=pd.DataFrame(data,index=[\"day1\",\"day2\",\"dayy3\"])\n",
    "print(myvar)"
   ]
  },
  {
   "cell_type": "code",
   "execution_count": 3,
   "metadata": {},
   "outputs": [
    {
     "name": "stdout",
     "output_type": "stream",
     "text": [
      "calories    292\n",
      "duration      7\n",
      "Name: day1, dtype: int64\n"
     ]
    }
   ],
   "source": [
    "print(myvar.loc[\"day1\"])"
   ]
  },
  {
   "cell_type": "code",
   "execution_count": 4,
   "metadata": {},
   "outputs": [
    {
     "name": "stdout",
     "output_type": "stream",
     "text": [
      "<class 'pandas.core.frame.DataFrame'>\n",
      "Index: 3 entries, day1 to dayy3\n",
      "Data columns (total 2 columns):\n",
      "calories    3 non-null int64\n",
      "duration    3 non-null int64\n",
      "dtypes: int64(2)\n",
      "memory usage: 152.0+ bytes\n",
      "None\n"
     ]
    }
   ],
   "source": [
    "print(myvar.info())"
   ]
  },
  {
   "cell_type": "code",
   "execution_count": null,
   "metadata": {},
   "outputs": [],
   "source": [
    "import pandas **************************************"
   ]
  }
 ],
 "metadata": {
  "kernelspec": {
   "display_name": "Python 3",
   "language": "python",
   "name": "python3"
  },
  "language_info": {
   "codemirror_mode": {
    "name": "ipython",
    "version": 3
   },
   "file_extension": ".py",
   "mimetype": "text/x-python",
   "name": "python",
   "nbconvert_exporter": "python",
   "pygments_lexer": "ipython3",
   "version": "3.7.3"
  }
 },
 "nbformat": 4,
 "nbformat_minor": 2
}
