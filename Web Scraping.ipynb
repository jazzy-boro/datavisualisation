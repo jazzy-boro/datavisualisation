{
 "cells": [
  {
   "cell_type": "code",
   "execution_count": 1,
   "metadata": {},
   "outputs": [],
   "source": [
    "import requests"
   ]
  },
  {
   "cell_type": "code",
   "execution_count": 2,
   "metadata": {},
   "outputs": [],
   "source": [
    "import bs4"
   ]
  },
  {
   "cell_type": "code",
   "execution_count": 3,
   "metadata": {},
   "outputs": [],
   "source": [
    "result=requests.get(\"http://www.example.com\")"
   ]
  },
  {
   "cell_type": "code",
   "execution_count": 4,
   "metadata": {},
   "outputs": [
    {
     "data": {
      "text/plain": [
       "requests.models.Response"
      ]
     },
     "execution_count": 4,
     "metadata": {},
     "output_type": "execute_result"
    }
   ],
   "source": [
    "type(result)"
   ]
  },
  {
   "cell_type": "code",
   "execution_count": 5,
   "metadata": {},
   "outputs": [
    {
     "data": {
      "text/plain": [
       "'<!doctype html>\\n<html>\\n<head>\\n    <title>Example Domain</title>\\n\\n    <meta charset=\"utf-8\" />\\n    <meta http-equiv=\"Content-type\" content=\"text/html; charset=utf-8\" />\\n    <meta name=\"viewport\" content=\"width=device-width, initial-scale=1\" />\\n    <style type=\"text/css\">\\n    body {\\n        background-color: #f0f0f2;\\n        margin: 0;\\n        padding: 0;\\n        font-family: -apple-system, system-ui, BlinkMacSystemFont, \"Segoe UI\", \"Open Sans\", \"Helvetica Neue\", Helvetica, Arial, sans-serif;\\n        \\n    }\\n    div {\\n        width: 600px;\\n        margin: 5em auto;\\n        padding: 2em;\\n        background-color: #fdfdff;\\n        border-radius: 0.5em;\\n        box-shadow: 2px 3px 7px 2px rgba(0,0,0,0.02);\\n    }\\n    a:link, a:visited {\\n        color: #38488f;\\n        text-decoration: none;\\n    }\\n    @media (max-width: 700px) {\\n        div {\\n            margin: 0 auto;\\n            width: auto;\\n        }\\n    }\\n    </style>    \\n</head>\\n\\n<body>\\n<div>\\n    <h1>Example Domain</h1>\\n    <p>This domain is for use in illustrative examples in documents. You may use this\\n    domain in literature without prior coordination or asking for permission.</p>\\n    <p><a href=\"https://www.iana.org/domains/example\">More information...</a></p>\\n</div>\\n</body>\\n</html>\\n'"
      ]
     },
     "execution_count": 5,
     "metadata": {},
     "output_type": "execute_result"
    }
   ],
   "source": [
    "result.text"
   ]
  },
  {
   "cell_type": "code",
   "execution_count": 6,
   "metadata": {},
   "outputs": [],
   "source": [
    "soup=bs4.BeautifulSoup(result.text,'lxml')"
   ]
  },
  {
   "cell_type": "code",
   "execution_count": 22,
   "metadata": {},
   "outputs": [],
   "source": [
    "#soup(using soup we convert the string into a readable html file)"
   ]
  },
  {
   "cell_type": "code",
   "execution_count": 8,
   "metadata": {},
   "outputs": [
    {
     "data": {
      "text/plain": [
       "[<title>Example Domain</title>]"
      ]
     },
     "execution_count": 8,
     "metadata": {},
     "output_type": "execute_result"
    }
   ],
   "source": [
    "soup.select('title')"
   ]
  },
  {
   "cell_type": "code",
   "execution_count": 9,
   "metadata": {},
   "outputs": [
    {
     "data": {
      "text/plain": [
       "[<p>This domain is for use in illustrative examples in documents. You may use this\n",
       "     domain in literature without prior coordination or asking for permission.</p>,\n",
       " <p><a href=\"https://www.iana.org/domains/example\">More information...</a></p>]"
      ]
     },
     "execution_count": 9,
     "metadata": {},
     "output_type": "execute_result"
    }
   ],
   "source": [
    "soup.select('p')"
   ]
  },
  {
   "cell_type": "code",
   "execution_count": 10,
   "metadata": {},
   "outputs": [],
   "source": [
    "res=requests.get(\"https://en.wikipedia.org/wiki/Justin_Bieber\")  "
   ]
  },
  {
   "cell_type": "code",
   "execution_count": 11,
   "metadata": {},
   "outputs": [],
   "source": [
    "soup=bs4.BeautifulSoup(res.text,'lxml') "
   ]
  },
  {
   "cell_type": "code",
   "execution_count": 101,
   "metadata": {},
   "outputs": [
    {
     "data": {
      "text/plain": [
       "<!DOCTYPE html>\n",
       "<html lang=\"en\">\n",
       "<head>\n",
       "<meta charset=\"utf-8\"/>\n",
       "<title>Quotes to Scrape</title>\n",
       "<link href=\"/static/bootstrap.min.css\" rel=\"stylesheet\"/>\n",
       "<link href=\"/static/main.css\" rel=\"stylesheet\"/>\n",
       "</head>\n",
       "<body>\n",
       "<div class=\"container\">\n",
       "<div class=\"row header-box\">\n",
       "<div class=\"col-md-8\">\n",
       "<h1>\n",
       "<a href=\"/\" style=\"text-decoration: none\">Quotes to Scrape</a>\n",
       "</h1>\n",
       "</div>\n",
       "<div class=\"col-md-4\">\n",
       "<p>\n",
       "<a href=\"/login\">Login</a>\n",
       "</p>\n",
       "</div>\n",
       "</div>\n",
       "<div class=\"row\">\n",
       "<div class=\"col-md-8\">\n",
       "<div class=\"quote\" itemscope=\"\" itemtype=\"http://schema.org/CreativeWork\">\n",
       "<span class=\"text\" itemprop=\"text\">“The world as we have created it is a process of our thinking. It cannot be changed without changing our thinking.”</span>\n",
       "<span>by <small class=\"author\" itemprop=\"author\">Albert Einstein</small>\n",
       "<a href=\"/author/Albert-Einstein\">(about)</a>\n",
       "</span>\n",
       "<div class=\"tags\">\n",
       "            Tags:\n",
       "            <meta class=\"keywords\" content=\"change,deep-thoughts,thinking,world\" itemprop=\"keywords\"/>\n",
       "<a class=\"tag\" href=\"/tag/change/page/1/\">change</a>\n",
       "<a class=\"tag\" href=\"/tag/deep-thoughts/page/1/\">deep-thoughts</a>\n",
       "<a class=\"tag\" href=\"/tag/thinking/page/1/\">thinking</a>\n",
       "<a class=\"tag\" href=\"/tag/world/page/1/\">world</a>\n",
       "</div>\n",
       "</div>\n",
       "<div class=\"quote\" itemscope=\"\" itemtype=\"http://schema.org/CreativeWork\">\n",
       "<span class=\"text\" itemprop=\"text\">“It is our choices, Harry, that show what we truly are, far more than our abilities.”</span>\n",
       "<span>by <small class=\"author\" itemprop=\"author\">J.K. Rowling</small>\n",
       "<a href=\"/author/J-K-Rowling\">(about)</a>\n",
       "</span>\n",
       "<div class=\"tags\">\n",
       "            Tags:\n",
       "            <meta class=\"keywords\" content=\"abilities,choices\" itemprop=\"keywords\"/>\n",
       "<a class=\"tag\" href=\"/tag/abilities/page/1/\">abilities</a>\n",
       "<a class=\"tag\" href=\"/tag/choices/page/1/\">choices</a>\n",
       "</div>\n",
       "</div>\n",
       "<div class=\"quote\" itemscope=\"\" itemtype=\"http://schema.org/CreativeWork\">\n",
       "<span class=\"text\" itemprop=\"text\">“There are only two ways to live your life. One is as though nothing is a miracle. The other is as though everything is a miracle.”</span>\n",
       "<span>by <small class=\"author\" itemprop=\"author\">Albert Einstein</small>\n",
       "<a href=\"/author/Albert-Einstein\">(about)</a>\n",
       "</span>\n",
       "<div class=\"tags\">\n",
       "            Tags:\n",
       "            <meta class=\"keywords\" content=\"inspirational,life,live,miracle,miracles\" itemprop=\"keywords\"/>\n",
       "<a class=\"tag\" href=\"/tag/inspirational/page/1/\">inspirational</a>\n",
       "<a class=\"tag\" href=\"/tag/life/page/1/\">life</a>\n",
       "<a class=\"tag\" href=\"/tag/live/page/1/\">live</a>\n",
       "<a class=\"tag\" href=\"/tag/miracle/page/1/\">miracle</a>\n",
       "<a class=\"tag\" href=\"/tag/miracles/page/1/\">miracles</a>\n",
       "</div>\n",
       "</div>\n",
       "<div class=\"quote\" itemscope=\"\" itemtype=\"http://schema.org/CreativeWork\">\n",
       "<span class=\"text\" itemprop=\"text\">“The person, be it gentleman or lady, who has not pleasure in a good novel, must be intolerably stupid.”</span>\n",
       "<span>by <small class=\"author\" itemprop=\"author\">Jane Austen</small>\n",
       "<a href=\"/author/Jane-Austen\">(about)</a>\n",
       "</span>\n",
       "<div class=\"tags\">\n",
       "            Tags:\n",
       "            <meta class=\"keywords\" content=\"aliteracy,books,classic,humor\" itemprop=\"keywords\"/>\n",
       "<a class=\"tag\" href=\"/tag/aliteracy/page/1/\">aliteracy</a>\n",
       "<a class=\"tag\" href=\"/tag/books/page/1/\">books</a>\n",
       "<a class=\"tag\" href=\"/tag/classic/page/1/\">classic</a>\n",
       "<a class=\"tag\" href=\"/tag/humor/page/1/\">humor</a>\n",
       "</div>\n",
       "</div>\n",
       "<div class=\"quote\" itemscope=\"\" itemtype=\"http://schema.org/CreativeWork\">\n",
       "<span class=\"text\" itemprop=\"text\">“Imperfection is beauty, madness is genius and it's better to be absolutely ridiculous than absolutely boring.”</span>\n",
       "<span>by <small class=\"author\" itemprop=\"author\">Marilyn Monroe</small>\n",
       "<a href=\"/author/Marilyn-Monroe\">(about)</a>\n",
       "</span>\n",
       "<div class=\"tags\">\n",
       "            Tags:\n",
       "            <meta class=\"keywords\" content=\"be-yourself,inspirational\" itemprop=\"keywords\"/>\n",
       "<a class=\"tag\" href=\"/tag/be-yourself/page/1/\">be-yourself</a>\n",
       "<a class=\"tag\" href=\"/tag/inspirational/page/1/\">inspirational</a>\n",
       "</div>\n",
       "</div>\n",
       "<div class=\"quote\" itemscope=\"\" itemtype=\"http://schema.org/CreativeWork\">\n",
       "<span class=\"text\" itemprop=\"text\">“Try not to become a man of success. Rather become a man of value.”</span>\n",
       "<span>by <small class=\"author\" itemprop=\"author\">Albert Einstein</small>\n",
       "<a href=\"/author/Albert-Einstein\">(about)</a>\n",
       "</span>\n",
       "<div class=\"tags\">\n",
       "            Tags:\n",
       "            <meta class=\"keywords\" content=\"adulthood,success,value\" itemprop=\"keywords\"/>\n",
       "<a class=\"tag\" href=\"/tag/adulthood/page/1/\">adulthood</a>\n",
       "<a class=\"tag\" href=\"/tag/success/page/1/\">success</a>\n",
       "<a class=\"tag\" href=\"/tag/value/page/1/\">value</a>\n",
       "</div>\n",
       "</div>\n",
       "<div class=\"quote\" itemscope=\"\" itemtype=\"http://schema.org/CreativeWork\">\n",
       "<span class=\"text\" itemprop=\"text\">“It is better to be hated for what you are than to be loved for what you are not.”</span>\n",
       "<span>by <small class=\"author\" itemprop=\"author\">André Gide</small>\n",
       "<a href=\"/author/Andre-Gide\">(about)</a>\n",
       "</span>\n",
       "<div class=\"tags\">\n",
       "            Tags:\n",
       "            <meta class=\"keywords\" content=\"life,love\" itemprop=\"keywords\"/>\n",
       "<a class=\"tag\" href=\"/tag/life/page/1/\">life</a>\n",
       "<a class=\"tag\" href=\"/tag/love/page/1/\">love</a>\n",
       "</div>\n",
       "</div>\n",
       "<div class=\"quote\" itemscope=\"\" itemtype=\"http://schema.org/CreativeWork\">\n",
       "<span class=\"text\" itemprop=\"text\">“I have not failed. I've just found 10,000 ways that won't work.”</span>\n",
       "<span>by <small class=\"author\" itemprop=\"author\">Thomas A. Edison</small>\n",
       "<a href=\"/author/Thomas-A-Edison\">(about)</a>\n",
       "</span>\n",
       "<div class=\"tags\">\n",
       "            Tags:\n",
       "            <meta class=\"keywords\" content=\"edison,failure,inspirational,paraphrased\" itemprop=\"keywords\"/>\n",
       "<a class=\"tag\" href=\"/tag/edison/page/1/\">edison</a>\n",
       "<a class=\"tag\" href=\"/tag/failure/page/1/\">failure</a>\n",
       "<a class=\"tag\" href=\"/tag/inspirational/page/1/\">inspirational</a>\n",
       "<a class=\"tag\" href=\"/tag/paraphrased/page/1/\">paraphrased</a>\n",
       "</div>\n",
       "</div>\n",
       "<div class=\"quote\" itemscope=\"\" itemtype=\"http://schema.org/CreativeWork\">\n",
       "<span class=\"text\" itemprop=\"text\">“A woman is like a tea bag; you never know how strong it is until it's in hot water.”</span>\n",
       "<span>by <small class=\"author\" itemprop=\"author\">Eleanor Roosevelt</small>\n",
       "<a href=\"/author/Eleanor-Roosevelt\">(about)</a>\n",
       "</span>\n",
       "<div class=\"tags\">\n",
       "            Tags:\n",
       "            <meta class=\"keywords\" content=\"misattributed-eleanor-roosevelt\" itemprop=\"keywords\"/>\n",
       "<a class=\"tag\" href=\"/tag/misattributed-eleanor-roosevelt/page/1/\">misattributed-eleanor-roosevelt</a>\n",
       "</div>\n",
       "</div>\n",
       "<div class=\"quote\" itemscope=\"\" itemtype=\"http://schema.org/CreativeWork\">\n",
       "<span class=\"text\" itemprop=\"text\">“A day without sunshine is like, you know, night.”</span>\n",
       "<span>by <small class=\"author\" itemprop=\"author\">Steve Martin</small>\n",
       "<a href=\"/author/Steve-Martin\">(about)</a>\n",
       "</span>\n",
       "<div class=\"tags\">\n",
       "            Tags:\n",
       "            <meta class=\"keywords\" content=\"humor,obvious,simile\" itemprop=\"keywords\"/>\n",
       "<a class=\"tag\" href=\"/tag/humor/page/1/\">humor</a>\n",
       "<a class=\"tag\" href=\"/tag/obvious/page/1/\">obvious</a>\n",
       "<a class=\"tag\" href=\"/tag/simile/page/1/\">simile</a>\n",
       "</div>\n",
       "</div>\n",
       "<nav>\n",
       "<ul class=\"pager\">\n",
       "<li class=\"next\">\n",
       "<a href=\"/page/2/\">Next <span aria-hidden=\"true\">→</span></a>\n",
       "</li>\n",
       "</ul>\n",
       "</nav>\n",
       "</div>\n",
       "<div class=\"col-md-4 tags-box\">\n",
       "<h2>Top Ten tags</h2>\n",
       "<span class=\"tag-item\">\n",
       "<a class=\"tag\" href=\"/tag/love/\" style=\"font-size: 28px\">love</a>\n",
       "</span>\n",
       "<span class=\"tag-item\">\n",
       "<a class=\"tag\" href=\"/tag/inspirational/\" style=\"font-size: 26px\">inspirational</a>\n",
       "</span>\n",
       "<span class=\"tag-item\">\n",
       "<a class=\"tag\" href=\"/tag/life/\" style=\"font-size: 26px\">life</a>\n",
       "</span>\n",
       "<span class=\"tag-item\">\n",
       "<a class=\"tag\" href=\"/tag/humor/\" style=\"font-size: 24px\">humor</a>\n",
       "</span>\n",
       "<span class=\"tag-item\">\n",
       "<a class=\"tag\" href=\"/tag/books/\" style=\"font-size: 22px\">books</a>\n",
       "</span>\n",
       "<span class=\"tag-item\">\n",
       "<a class=\"tag\" href=\"/tag/reading/\" style=\"font-size: 14px\">reading</a>\n",
       "</span>\n",
       "<span class=\"tag-item\">\n",
       "<a class=\"tag\" href=\"/tag/friendship/\" style=\"font-size: 10px\">friendship</a>\n",
       "</span>\n",
       "<span class=\"tag-item\">\n",
       "<a class=\"tag\" href=\"/tag/friends/\" style=\"font-size: 8px\">friends</a>\n",
       "</span>\n",
       "<span class=\"tag-item\">\n",
       "<a class=\"tag\" href=\"/tag/truth/\" style=\"font-size: 8px\">truth</a>\n",
       "</span>\n",
       "<span class=\"tag-item\">\n",
       "<a class=\"tag\" href=\"/tag/simile/\" style=\"font-size: 6px\">simile</a>\n",
       "</span>\n",
       "</div>\n",
       "</div>\n",
       "</div>\n",
       "<footer class=\"footer\">\n",
       "<div class=\"container\">\n",
       "<p class=\"text-muted\">\n",
       "                Quotes by: <a href=\"https://www.goodreads.com/quotes\">GoodReads.com</a>\n",
       "</p>\n",
       "<p class=\"copyright\">\n",
       "                Made with <span class=\"sh-red\">❤</span> by <a href=\"https://scrapinghub.com\">Scrapinghub</a>\n",
       "</p>\n",
       "</div>\n",
       "</footer>\n",
       "</body>\n",
       "</html>"
      ]
     },
     "execution_count": 101,
     "metadata": {},
     "output_type": "execute_result"
    }
   ],
   "source": [
    "soup"
   ]
  },
  {
   "cell_type": "code",
   "execution_count": null,
   "metadata": {},
   "outputs": [],
   "source": []
  },
  {
   "cell_type": "code",
   "execution_count": 23,
   "metadata": {
    "scrolled": false
   },
   "outputs": [],
   "source": [
    "#soup"
   ]
  },
  {
   "cell_type": "code",
   "execution_count": 25,
   "metadata": {},
   "outputs": [
    {
     "data": {
      "text/plain": [
       "[<a class=\"image\" href=\"/wiki/File:Justin_Bieber_in_2015.jpg\"><img alt=\"Justin Bieber in 2015.jpg\" data-file-height=\"1401\" data-file-width=\"980\" decoding=\"async\" height=\"315\" src=\"//upload.wikimedia.org/wikipedia/commons/thumb/d/da/Justin_Bieber_in_2015.jpg/220px-Justin_Bieber_in_2015.jpg\" srcset=\"//upload.wikimedia.org/wikipedia/commons/thumb/d/da/Justin_Bieber_in_2015.jpg/330px-Justin_Bieber_in_2015.jpg 1.5x, //upload.wikimedia.org/wikipedia/commons/thumb/d/da/Justin_Bieber_in_2015.jpg/440px-Justin_Bieber_in_2015.jpg 2x\" width=\"220\"/></a>,\n",
       " <a class=\"image\" href=\"/wiki/File:Signature_Justin_Bieber.svg\"><img alt=\"Signature Justin Bieber.svg\" data-file-height=\"791\" data-file-width=\"841\" decoding=\"async\" height=\"141\" src=\"//upload.wikimedia.org/wikipedia/commons/thumb/a/ab/Signature_Justin_Bieber.svg/150px-Signature_Justin_Bieber.svg.png\" srcset=\"//upload.wikimedia.org/wikipedia/commons/thumb/a/ab/Signature_Justin_Bieber.svg/225px-Signature_Justin_Bieber.svg.png 1.5x, //upload.wikimedia.org/wikipedia/commons/thumb/a/ab/Signature_Justin_Bieber.svg/300px-Signature_Justin_Bieber.svg.png 2x\" width=\"150\"/></a>,\n",
       " <a class=\"image\" href=\"/wiki/File:Justin_Bieber_2.png\"><img alt=\"\" class=\"thumbimage\" data-file-height=\"990\" data-file-width=\"640\" decoding=\"async\" height=\"255\" src=\"//upload.wikimedia.org/wikipedia/commons/thumb/6/68/Justin_Bieber_2.png/165px-Justin_Bieber_2.png\" srcset=\"//upload.wikimedia.org/wikipedia/commons/thumb/6/68/Justin_Bieber_2.png/247px-Justin_Bieber_2.png 1.5x, //upload.wikimedia.org/wikipedia/commons/thumb/6/68/Justin_Bieber_2.png/330px-Justin_Bieber_2.png 2x\" width=\"165\"/></a>,\n",
       " <a class=\"image\" href=\"/wiki/File:Justin_Bieber_2010_2.jpg\"><img alt=\"\" class=\"thumbimage\" data-file-height=\"2194\" data-file-width=\"1776\" decoding=\"async\" height=\"210\" src=\"//upload.wikimedia.org/wikipedia/commons/thumb/d/dd/Justin_Bieber_2010_2.jpg/170px-Justin_Bieber_2010_2.jpg\" srcset=\"//upload.wikimedia.org/wikipedia/commons/thumb/d/dd/Justin_Bieber_2010_2.jpg/255px-Justin_Bieber_2010_2.jpg 1.5x, //upload.wikimedia.org/wikipedia/commons/thumb/d/dd/Justin_Bieber_2010_2.jpg/340px-Justin_Bieber_2010_2.jpg 2x\" width=\"170\"/></a>,\n",
       " <a class=\"image\" href=\"/wiki/File:Justin_Bieber_2011_2.jpg\"><img alt=\"\" class=\"thumbimage\" data-file-height=\"680\" data-file-width=\"1024\" decoding=\"async\" height=\"146\" src=\"//upload.wikimedia.org/wikipedia/commons/thumb/b/b8/Justin_Bieber_2011_2.jpg/220px-Justin_Bieber_2011_2.jpg\" srcset=\"//upload.wikimedia.org/wikipedia/commons/thumb/b/b8/Justin_Bieber_2011_2.jpg/330px-Justin_Bieber_2011_2.jpg 1.5x, //upload.wikimedia.org/wikipedia/commons/thumb/b/b8/Justin_Bieber_2011_2.jpg/440px-Justin_Bieber_2011_2.jpg 2x\" width=\"220\"/></a>,\n",
       " <a class=\"image\" href=\"/wiki/File:Believe_Tour_12,_2012.jpg\"><img alt=\"\" class=\"thumbimage\" data-file-height=\"2373\" data-file-width=\"1907\" decoding=\"async\" height=\"212\" src=\"//upload.wikimedia.org/wikipedia/commons/thumb/f/fb/Believe_Tour_12%2C_2012.jpg/170px-Believe_Tour_12%2C_2012.jpg\" srcset=\"//upload.wikimedia.org/wikipedia/commons/thumb/f/fb/Believe_Tour_12%2C_2012.jpg/255px-Believe_Tour_12%2C_2012.jpg 1.5x, //upload.wikimedia.org/wikipedia/commons/thumb/f/fb/Believe_Tour_12%2C_2012.jpg/340px-Believe_Tour_12%2C_2012.jpg 2x\" width=\"170\"/></a>,\n",
       " <a class=\"image\" href=\"/wiki/File:Justin_Bieber_and_Scooter_Braun_in_Rosemont,_Illinois_(2015).jpg\"><img alt=\"\" class=\"thumbimage\" data-file-height=\"2137\" data-file-width=\"3208\" decoding=\"async\" height=\"147\" src=\"//upload.wikimedia.org/wikipedia/commons/thumb/2/2f/Justin_Bieber_and_Scooter_Braun_in_Rosemont%2C_Illinois_%282015%29.jpg/220px-Justin_Bieber_and_Scooter_Braun_in_Rosemont%2C_Illinois_%282015%29.jpg\" srcset=\"//upload.wikimedia.org/wikipedia/commons/thumb/2/2f/Justin_Bieber_and_Scooter_Braun_in_Rosemont%2C_Illinois_%282015%29.jpg/330px-Justin_Bieber_and_Scooter_Braun_in_Rosemont%2C_Illinois_%282015%29.jpg 1.5x, //upload.wikimedia.org/wikipedia/commons/thumb/2/2f/Justin_Bieber_and_Scooter_Braun_in_Rosemont%2C_Illinois_%282015%29.jpg/440px-Justin_Bieber_and_Scooter_Braun_in_Rosemont%2C_Illinois_%282015%29.jpg 2x\" width=\"220\"/></a>,\n",
       " <a class=\"image\" href=\"/wiki/File:Justin_Bieber_at_the_BRIT_Awards_2016.jpg\"><img alt=\"\" class=\"thumbimage\" data-file-height=\"2448\" data-file-width=\"3264\" decoding=\"async\" height=\"165\" src=\"//upload.wikimedia.org/wikipedia/commons/thumb/6/6d/Justin_Bieber_at_the_BRIT_Awards_2016.jpg/220px-Justin_Bieber_at_the_BRIT_Awards_2016.jpg\" srcset=\"//upload.wikimedia.org/wikipedia/commons/thumb/6/6d/Justin_Bieber_at_the_BRIT_Awards_2016.jpg/330px-Justin_Bieber_at_the_BRIT_Awards_2016.jpg 1.5x, //upload.wikimedia.org/wikipedia/commons/thumb/6/6d/Justin_Bieber_at_the_BRIT_Awards_2016.jpg/440px-Justin_Bieber_at_the_BRIT_Awards_2016.jpg 2x\" width=\"220\"/></a>,\n",
       " <a class=\"image\" href=\"/wiki/File:Michael_Jackson_in_1988.jpg\"><img alt=\"Michael Jackson performing\" class=\"thumbimage\" data-file-height=\"503\" data-file-width=\"283\" decoding=\"async\" height=\"231\" src=\"//upload.wikimedia.org/wikipedia/commons/thumb/3/31/Michael_Jackson_in_1988.jpg/130px-Michael_Jackson_in_1988.jpg\" srcset=\"//upload.wikimedia.org/wikipedia/commons/thumb/3/31/Michael_Jackson_in_1988.jpg/195px-Michael_Jackson_in_1988.jpg 1.5x, //upload.wikimedia.org/wikipedia/commons/thumb/3/31/Michael_Jackson_in_1988.jpg/260px-Michael_Jackson_in_1988.jpg 2x\" width=\"130\"/></a>,\n",
       " <a class=\"image\" href=\"/wiki/File:Justin_Bieber_Hallenstadion_Zurich_Switzerland.jpg\"><img alt=\"\" class=\"thumbimage\" data-file-height=\"1368\" data-file-width=\"1368\" decoding=\"async\" height=\"220\" src=\"//upload.wikimedia.org/wikipedia/commons/thumb/b/b1/Justin_Bieber_Hallenstadion_Zurich_Switzerland.jpg/220px-Justin_Bieber_Hallenstadion_Zurich_Switzerland.jpg\" srcset=\"//upload.wikimedia.org/wikipedia/commons/thumb/b/b1/Justin_Bieber_Hallenstadion_Zurich_Switzerland.jpg/330px-Justin_Bieber_Hallenstadion_Zurich_Switzerland.jpg 1.5x, //upload.wikimedia.org/wikipedia/commons/thumb/b/b1/Justin_Bieber_Hallenstadion_Zurich_Switzerland.jpg/440px-Justin_Bieber_Hallenstadion_Zurich_Switzerland.jpg 2x\" width=\"220\"/></a>,\n",
       " <a class=\"image\" href=\"/wiki/File:Justin_Bieber_mugshot,_front.jpg\"><img alt=\"\" class=\"thumbimage\" data-file-height=\"750\" data-file-width=\"600\" decoding=\"async\" height=\"275\" src=\"//upload.wikimedia.org/wikipedia/commons/thumb/e/ef/Justin_Bieber_mugshot%2C_front.jpg/220px-Justin_Bieber_mugshot%2C_front.jpg\" srcset=\"//upload.wikimedia.org/wikipedia/commons/thumb/e/ef/Justin_Bieber_mugshot%2C_front.jpg/330px-Justin_Bieber_mugshot%2C_front.jpg 1.5x, //upload.wikimedia.org/wikipedia/commons/thumb/e/ef/Justin_Bieber_mugshot%2C_front.jpg/440px-Justin_Bieber_mugshot%2C_front.jpg 2x\" width=\"220\"/></a>,\n",
       " <a class=\"image\" href=\"/wiki/File:P_vip.svg\"><img alt=\"P vip.svg\" data-file-height=\"1944\" data-file-width=\"1911\" decoding=\"async\" height=\"21\" src=\"//upload.wikimedia.org/wikipedia/en/thumb/6/69/P_vip.svg/21px-P_vip.svg.png\" srcset=\"//upload.wikimedia.org/wikipedia/en/thumb/6/69/P_vip.svg/31px-P_vip.svg.png 1.5x, //upload.wikimedia.org/wikipedia/en/thumb/6/69/P_vip.svg/41px-P_vip.svg.png 2x\" width=\"21\"/></a>,\n",
       " <a class=\"image\" href=\"/wiki/File:Audio-input-microphone.png\"><img alt=\"Audio-input-microphone.png\" data-file-height=\"128\" data-file-width=\"128\" decoding=\"async\" height=\"21\" src=\"//upload.wikimedia.org/wikipedia/commons/thumb/6/6c/Audio-input-microphone.png/21px-Audio-input-microphone.png\" srcset=\"//upload.wikimedia.org/wikipedia/commons/thumb/6/6c/Audio-input-microphone.png/32px-Audio-input-microphone.png 1.5x, //upload.wikimedia.org/wikipedia/commons/thumb/6/6c/Audio-input-microphone.png/42px-Audio-input-microphone.png 2x\" width=\"21\"/></a>]"
      ]
     },
     "execution_count": 25,
     "metadata": {},
     "output_type": "execute_result"
    }
   ],
   "source": [
    "soup.select('.image') #we are requesting the webpage for infos on images present inside the class=image   "
   ]
  },
  {
   "cell_type": "code",
   "execution_count": 26,
   "metadata": {},
   "outputs": [],
   "source": [
    "jb=soup.select('.image')[0] #now we select just the first one for our use"
   ]
  },
  {
   "cell_type": "code",
   "execution_count": 43,
   "metadata": {},
   "outputs": [
    {
     "data": {
      "text/plain": [
       "<a class=\"image\" href=\"/wiki/File:Justin_Bieber_in_2015.jpg\"><img alt=\"Justin Bieber in 2015.jpg\" data-file-height=\"1401\" data-file-width=\"980\" decoding=\"async\" height=\"315\" src=\"//upload.wikimedia.org/wikipedia/commons/thumb/d/da/Justin_Bieber_in_2015.jpg/220px-Justin_Bieber_in_2015.jpg\" srcset=\"//upload.wikimedia.org/wikipedia/commons/thumb/d/da/Justin_Bieber_in_2015.jpg/330px-Justin_Bieber_in_2015.jpg 1.5x, //upload.wikimedia.org/wikipedia/commons/thumb/d/da/Justin_Bieber_in_2015.jpg/440px-Justin_Bieber_in_2015.jpg 2x\" width=\"220\"/></a>"
      ]
     },
     "execution_count": 43,
     "metadata": {},
     "output_type": "execute_result"
    }
   ],
   "source": [
    "jb"
   ]
  },
  {
   "cell_type": "markdown",
   "metadata": {},
   "source": [
    "<img src=\"//upload.wikimedia.org/wikipedia/commons/thumb/d/da/Justin_Bieber_in_2015.jpg/220px-Justin_Bieber_in_2015.jpg\""
   ]
  },
  {
   "cell_type": "code",
   "execution_count": 44,
   "metadata": {},
   "outputs": [],
   "source": [
    "imge_link=requests.get(\"https://upload.wikimedia.org/wikipedia/commons/thumb/d/da/Justin_Bieber_in_2015.jpg/220px-Justin_Bieber_in_2015.jpg\") #provide the link of the image that we want"
   ]
  },
  {
   "cell_type": "code",
   "execution_count": 46,
   "metadata": {},
   "outputs": [
    {
     "data": {
      "text/plain": [
       "b'\\xff\\xd8\\xff\\xdb\\x00C\\x00\\x04\\x03\\x03\\x04\\x03\\x03\\x04\\x04\\x03\\x04\\x05\\x04\\x04\\x05\\x06\\n\\x07\\x06\\x06\\x06\\x06\\r\\t\\n\\x08\\n\\x0f\\r\\x10\\x10\\x0f\\r\\x0f\\x0e\\x11\\x13\\x18\\x14\\x11\\x12\\x17\\x12\\x0e\\x0f\\x15\\x1c\\x15\\x17\\x19\\x19\\x1b\\x1b\\x1b\\x10\\x14\\x1d\\x1f\\x1d\\x1a\\x1f\\x18\\x1a\\x1b\\x1a\\xff\\xdb\\x00C\\x01\\x04\\x05\\x05\\x06\\x05\\x06\\x0c\\x07\\x07\\x0c\\x1a\\x11\\x0f\\x11\\x1a\\x1a\\x1a\\x1a\\x1a\\x1a\\x1a\\x1a\\x1a\\x1a\\x1a\\x1a\\x1a\\x1a\\x1a\\x1a\\x1a\\x1a\\x1a\\x1a\\x1a\\x1a\\x1a\\x1a\\x1a\\x1a\\x1a\\x1a\\x1a\\x1a\\x1a\\x1a\\x1a\\x1a\\x1a\\x1a\\x1a\\x1a\\x1a\\x1a\\x1a\\x1a\\x1a\\x1a\\x1a\\x1a\\x1a\\x1a\\x1a\\x1a\\xff\\xc0\\x00\\x11\\x08\\x01;\\x00\\xdc\\x03\\x01\"\\x00\\x02\\x11\\x01\\x03\\x11\\x01\\xff\\xc4\\x00\\x1d\\x00\\x00\\x00\\x07\\x01\\x01\\x01\\x00\\x00\\x00\\x00\\x00\\x00\\x00\\x00\\x00\\x00\\x02\\x03\\x04\\x05\\x06\\x07\\x08\\x01\\x00\\t\\xff\\xc4\\x00G\\x10\\x00\\x01\\x03\\x03\\x03\\x01\\x05\\x05\\x05\\x05\\x04\\x08\\x06\\x03\\x00\\x00\\x01\\x02\\x03\\x04\\x00\\x05\\x11\\x06\\x12!1\\x07\\x13\"AQ\\x08\\x14aq\\x81#2B\\x91\\xa1\\x15Rb\\xb1\\xc1$3r\\xd1\\x16C\\x82\\x92\\xa2\\xb2\\xf0\\xf1%4DSc\\xe1Ts\\x83\\xff\\xc4\\x00\\x1b\\x01\\x00\\x02\\x03\\x01\\x01\\x01\\x00\\x00\\x00\\x00\\x00\\x00\\x00\\x00\\x00\\x00\\x01\\x02\\x00\\x03\\x05\\x04\\x06\\x07\\xff\\xc4\\x003\\x11\\x00\\x02\\x02\\x01\\x03\\x03\\x02\\x04\\x04\\x04\\x07\\x00\\x00\\x00\\x00\\x00\\x00\\x01\\x02\\x03\\x11\\x04!1\\x05\\x12A\\x13Q\\x14\"a\\xb1\\x06#B\\x91\\x15q\\xa1\\xf1$2\\x81\\xc1\\xd1\\xe1\\xf0\\xff\\xda\\x00\\x0c\\x03\\x01\\x00\\x02\\x11\\x03\\x11\\x00?\\x00\\xc0u\\xea\\x1a\\x1bR\\xd4\\x12\\x91\\xc9\\xa1\\xbb\\x15\\xd60\\\\N\\x01\\xad\\x05\\\\\\x9a\\xe0@\\x9a\\xf5\\x0bo\\xc0\\xd0\\x90\\xd2\\x9cV\\x129\\xa1\\xe9\\xbf\\x08\\x803G\\xc4o\\xbewi\\x1b\\xb28\\x1f\\x1a-\\xc6T\\xd2\\xb0\\xa1J\\xad\\x8e\\xaa4\\x94\\xb8\\x94\\x85\\x11\\xc6\\x0f\\xa5t\\xe9\\x92W\\xc5X\\xb6\\xce\\xe4d\\x8e\\xc7\\x11\\xc8\\xac=\\xdf6\\x02\\x16r\\t\\xa6\\xcb\\xece\\xad\\xd5\\xc8\\x08)h\\x10\\x90\\xa3\\xe6~\\x14\\xfc\\x9b\\xc4Q\\x18-\\xc3\\x83\\xe6\\xdaz\\xe7\\xe5Q\\xeb\\xbd\\xdds\\x87t\\x86\\xbb\\xb6A\\xdc3\\xd6\\xbe\\x8d\\xd4,\\xe9\\xd5t\\xcfEK>\\xd8\\xe7?\\xecq\\xc1X\\xec\\xcbB{b\\xb1\\xde\\x8f\\x91\\xa7DNe\\x9b|\\x86\\x9cJK\\xeb\\'b\\xb6r\\x07\\xc0\\xf9SL!\\xb0,\\xe7\\x04\\xd3\\xd5\\x9a\\xc3/P\\xca\\xee!\\xe1\\r\\x05$<\\xf2\\x92T\\x96\\x81<p2I>I\\x1c\\x9a\\xf3\\x9a[\\xbe\\x1bK\\xdd/ft\\xb5\\x96\\x11f\\xb2\\\\55\\xc2\\x15\\xabOBz\\xe1t\\x94\\xe6\\xc6Xhd\\x9e2I\\'\\x80\\x00\\xe4\\xa8\\xe0\\x00\\t$\\x01J\\xaf\\x9aJe\\x8akq\\x1c\\x97j\\xb8<\\xb6\\x83\\x8b\\xfd\\x9brfb\\x1a9#j\\x96\\xd9)\\n\\x18\\xe9\\x9f\\xad,\\xd56\\xb8zJ\\xe3*\\xc9\\nQ\\x9e\\xe4|&k\\xd8\\xda\\x16\\xbe\\xa5\\x00\\x02p\\x13\\x90\\x08\\xc9\\xe7 \\xf4\\xa4Q\\x1d\\xb7\\xc8\\x89\\x19\\xa9\\x0e-\\t\\x04\\x853\\xb3\\r\\x83\\xeb\\xc7\\x99\\xf3\\xe3\\xd3\\xady\\x9b:\\x95\\x9d\\xd9\\x87\\x1fR\\xdc\\rj\\x8a\\x96\\xd4R\\xec\\x96\\x10\\xa1\\xd4%{\\xfe\\x9e\\x1c\\x8a1\\x11\\x01IZ\\xdd\\xda\\x93\\xf72\\x93\\xe2\\xa7G\\xac\\xac\\x84\\xa0\\xb6\\xdeR\\xa2\\x00SJ\\xdc3\\x8e\\x83\\xaf\\x97$yy\\xe2\\x8az DM\\xc4;\\xb1\\x9c\\xe1Y\\xcaS\\xe7\\x8c\\xfe\\xbdj\\x8f\\xe26\\xb7\\xe0\\x82;z\\x14\\x87T\\x14\\x92\\x9es\\x8fZ\\x97BBK\\x08Q\\x19\\xc9\\xcf4T]\\x0b\\xa8]\\x82\\xd4\\xc4[\\x1d\\xee\\x96\\xd8q$\\xad#\\t#9<\\xe7\\xa7\\xc2\\x9a\\xd9\\x99!\\x97W\\x11\\xf2Xu\\x94\\xf2\\xda\\x93\\x82+[\\xa7\\xea\\xa1\\xa8\\x8a\\xa1?\\x9b\\xeekt\\xedMz\\x1b\\xbd[W\\x81\\xdal$\\xbe7\\xb3\\x84\\xba\\x9f\\xc8\\x8a\\x8b]\\x1dl\\xc6q%A\\x0e\\x03\\x8d\\xbet\\xf4\\'\\xba\\xb3\\x92\\xb2\\x90<\\xbaf\\xa2\\xd7t\\x019\\xc2\\t;\\xb9$\\x9f:\\xd9\\xd5i\\xef\\xd3\\xd2\\xdc\\xb8`\\xeaZ\\xed.\\xb2jt\\xc5\\xa7\\xe7\\xea%X\\n\\x03\\xbb%G\\x14[O\\xb9\\x1d\\xcd\\xcd\\x9d\\xaa\\x1cP\\x99{\\xb9*\\xcas\\x9a)j\\xde\\xb2\\xae\\x995\\xe4\\xa4\\xfbRi\\xfc\\xd92run-\\xd5\\x158\\xa2\\xa5\\x1f2k\\x95\\xea\\xf5]\\x96\\xf7b\\x861!Q\\xdd\\nG#\\xccz\\xd7\\xa5H\\xf7\\x97K\\x85;x\\xc6(\\xa3\\\\\\xaa\\'e\\x89vga\\x8fWR7(\\x0fZ\\xe5\\x1c\\xd2Frik\\x83\\x9b\\xd9\\x00^\\xccV\\x12\\x91\\xde\\x02\\xae)2\\xd9\\x01D$\\xe0|iK.\\x8d\\x98 \\x9cQn\\x9e\\xf1[\\xbf\\xadz/J\\xa7\\x05\\x85\\x80\\x82\\x8b\\xb9p\\xa59\\xc6[)\\xc1\\xc7L\\xe6\\x92\\xb91\\xe7H\\xef\\x17\\xbb\\x1e\\xa2\\x9f\\xa7Dj\\x13\\xb7f\\x18P,\\xe5\\nN9\\xf3\\xe9L\\x9d\\xcaqV\\xeat\\xd7\\xc60Q\\x96\\xeb)\\xfe\\xe5jA=\\xea\\xfdk\\x85\\xe5\\x8e\\x86\\x8e\\xee\\xd2\\x0f\"\\xba\\xb4\\x00\\x93\\xc0\\x15\\xc5\\xf0\\xfa\\xa9-\\xe6N\\x04\\xe5\\xf5\\x93\\xc9\\xcf\\xccP\\x90\\xf2\\x81\\xce\\xed\\xbe\\x98\\x14Q\\x15\\xda\\xc8W\\\\\\xb6\\x94\\x98\\xe3\\x83Iah\\xde\\xe4\\xd4\\xa1\\x7f\\xbb\\xb0\\x9f\\xe9E>\\xb6\\xd2~\\xc5\\xde\\xfb\\xe3\\xb7\\x14\\x8f\\xcf\\x8a\\xe8\\xae\\xaf\\x8c\\x92\\x8e#\\x14\\x9f\\xbe\\xff\\x00\\xf2\\x12y\\xd9\\xe6\\x80\\x93\\xad\\xbfm\\\\%IM\\xafM\\xe9\\xf8\\x9e\\xf9y\\xb9\\xad\\x05I\\x8e\\xd98m\\xb4\\x81\\xf7\\x9dq^\\x04\\'\\xcc\\xe4\\xf4\\x04\\xd2y:\\xd6@\\xb8\\xc1{O\\xb4-\\x16\\xfbc\\xdd\\xed\\xba0;\\x8bd\\x1c\\xefZ\\xbf\\x1a\\xc9\\xe4\\x93\\xf2\\x1c\\x00*w\\xaeG\\xfa\\x1f\\xd8\\x17f\\xbaj2\\x14\\xc4\\x8dR\\xf4\\xadOw\\xce2\\xe0\\x0b1\\xe2\\'=J\\x03hZ\\xb6\\x93\\x8c\\xb8OZ\\xa7\\x07\\x15\\x9bv\\xa6\\xcb\\xd2R{ \\xe3\\x01\\xd2]rK\\xae=!ju\\xd7VV\\xe2\\xd6r\\xa5\\xa8\\x9c\\x92O\\xa9&\\x85\\x18\\x000}k\\xa4\\x05$\\x1e\\xbf\\n \\x1c\\x1e3\\\\\\x9c\\x84u\\x8f0\\xc2$\\xb6\\xac%\\\\)8\\xcaT=\\x08\\xf3\\x1f\\x0e\\x86\\x97\\xdde\\xb7r\\x80\\xd2\\x9bl2\\x90T\\xb7\\x86\\nJ\\xfc\\xb8?w\\xa6|)H\\x00\\x0e\\xa6\\x98w\\xf1\\xeb\\xf3\\xa7k\\x13\\n\\x94\\xa9-!l\\xa5a\\xbe\\xf1)Z\\xb0\\xa5\\xe3\\xa8H\\xc7\\'\\x1c\\xe2\\x97\\xb7\\xc8[\\xd8\\xbe\\x9b\\xed\\x05W\\xd8\\x91\\xdc\\x99\\x1d\\x10\\xa4\\xa5\\tHR\\x00*! \\x00\\x0f\\x1c\\x82:\\x11\\xe5Mz\\xbcY5\\xb5\\xbdm%\\x87#^b\\xb7\\xba4\\xb4\\xc7\\xd8\\x95\\'\\x1c\\xa1_<\\x11\\xd0y\\x1ae\\xb6\\xeb9\\xe9\\xd3\\xd0\\x18}q\\xdbn+}\\xc9SHm\\xac\\xed\\xe9\\xbdx\\xceH\\xc59\\xb3>\\xeb\\xa9!\\x96\\xed\\x90\\xdf\\x9c\\x10\\x9f\\xbb\\x0e\\x13\\xcfq\\xd4d\\xa5$z\\xfeu\\xc3\\n\\xa5L\\xfb\\xd3\\xc1\\xdf+a8\\xe1,\\x95\\x01\\xb3\\x05`\\tN\\x14\\x9eS\\xc54\\xdca\\x88\\x8f\\x84\\x05\\xf7\\x89Rs\\x92*q6\\x12\\xe1Ov4\\x96\\x1c\\x89 \\'\\xbc\\xee\\x1ciM)9\\xfe\\x15\\x00@\\xfaTCQ/\\x12\\x1a@\\x18\\xc2rx\\xaf\\xab\\xadE\\x1a\\x8e\\x9e\\xae\\x82\\xdfl\\xff\\x00?&6$\\xa7\\x863)G\\xe1A\\xef\\x08\\xf2\\x1f\\x95uF\\x8b5\\xe5\\xef\\xb2p\\xde2,@\\xfb\\xd3\\xe8(\\xf7\\x00C-\\xac\\x0f\\xbe=)%.\\x90?\\xb0D?\\x03\\xfc\\xea\\xcd=\\xf6J\\x13\\xee|,\\x93\\x02R\\xe1\\xf4\\x1f\\x95s\\xbc\\xfe\\x11\\\\\\xeak\\x84b\\xb9]\\xd78\\xf7d8@\\xbb\\xc3\\xe8(is#\\xc8Q5\\xeaX\\xea\\xad\\xe7$\\xc2\\x15\\xb6\\xb1\\xd0\\xa8\\'\"\\x82W\\x83E f\\xb8\\xa4\\x80j\\xef\\x8b\\xbb\\t\\x0f\\xdb\\xb6G\\x80\\xae\\xf13Ty;Rx\\xf9\\xd2@r\\x9a\\x1b\\n\\xda\\xd4\\x91\\xfb\\xe8\\x03\\xf5\\xa2\\x9b>\\x1ek\\xd4C0\\x84c/\\xaf\\xdc\\xa3\\x96s<\\xd7\\x9c\\xe8q\\\\=h\\xc1\\xcf_J\\xaf\\x9c\\xa0\\x89\\nN\\r\\x04\\x82:\\x8a=\\xc4\\xf0\\x00\\xfa\\xd0^O@\\x9e\\x82\\xb15\\x1al\\xe5\\xaf\\x03 \\x80+\\xbeG\\xe4k\\xb84\\xb2\\x1bhZ\\xda\\x0e$\\x10W\\x83\\x9fJ\\xe1\\xabO;\\xa5\\xdb\\xc0K\\xc3\\xda<\\x06\\xe1v6\\xc3$\\xa9\\x86\\xfb:\\xb6)\\n#\\x19*\\xdc\\xa5q\\xfe\"j\\x8e\\xad\\x05\\xdb\\\\/\\xdb\\x1d\\x87v\\x1b\\xaa\\x98V\\xe6\\xdb\\xb3\\xbdfp\\x00F\\xd50\\xfb\\x89\\xe7\\xfd\\xd3Y\\xec\\xf3Y8\\xc6\\xccp\\xce\\xf4\\x84\\x80<\\xa8 \\xf9\\x9a\\r8\\xdb,\\xf2\\xee\\xaf4\\xdcF\\x8a\\x8b\\x87\\tQ\\xe0\\x7f\\xf7\\xfc\\xa9[QYaI\\xc9\\xe1\\t\\n\\x82y\\'\\x02\\xad\\x1e\\xcf\\xbb\"\\xbf\\xea\\t\\r\\xcc\\x93%\\x1ar \\x19m\\xe9\\x0c\\x97\\x1ep\\x1f45\\xc6\\x07\\xc5Dyu\\xa96\\x8b\\xd0v\\xeb\\x12Z\\x95!\\x02]\\xd1>.\\xf5\\xceCg\\xf8\\x07A\\x8f^\\xb5>M\\xfe%\\xa4\\xa5\\xcb\\x8c\\xc6\\xd8\\xf5\\xefU\\xc9\\xff\\x00\\xbdgY\\xab\\xf1\\x03b\\x9d\\x07\\x9b\\x7fb]\\xd9\\xd7g:kH-\\xf7\\x10\\xc1\\xbe\\xcex\\xa4\\xb9*\\xe9\\x1d\\xa7\\x8a\\nzwH\\xdb\\xb5\\xbez\\xf5?\\x1a\\xbd`J\\x94P\\x9e\\xed\\xe7C{q\\xb5\\x0b)N>C\\x8a\\xcd\\x91{h\\xd3v\\xc6\\x14Cs\\xa6<N1\\x19\\x9c\\x8cy\\x1eq\\xf1\\xa9\\xa7g\\xdd\\xafG\\xd5\\x8f*<xs!%\\x1c\\xa7\\xde\\x08\\xca\\x87\\xc8\\x1f\\x9f\\x15\\xc19O=\\xd24#\\x08c\\xb6\\x03\\'\\xb4\\xfe\\x98M\\xc2\\xd5h\\xd4jJ\\x95.\\xde\\xe2\\xe1\\xa9\\xd3\\xd4\\xb2\\xe0$$\\x9f0\\x168\\xff\\x00\\x11\\xacW}V\\xfb\\x8b\\xb8\\xe8\\x8f\\x0f&\\xb6\\x8fl}\\xa3G\\x9a\\'iF`\\xc9\\x9e\\xa3\\x18-\\xe7\\x1bI)\\x8cs\\x94\\x93\\xc7Q\\x8f?*\\xc5\\xd7\\x90\\x7fh\\xbf\\xb4\\xf0\\xa5\\x13_@\\xe8\\x17\\xf7\\xe8eS\\xf0\\xfe\\xe6\\x06\\xbe\\xbe\\xcb\\xb3\\xee5\\xa9=x\\xa2\\x08\\xc5,\\xee\\x16\\xa4\\x95\\x0f\\xbb\\xf3\\xa2T\\xdf\\x88g\\x9a\\xbbUD\\xe5\\x1c\\xe0\\xe1\\t\\xc5/\\x91\\xcd\\xae!\\xf4*\\x1f\\xad\\x15\\xb1#\\xf0\\xf0h\\xd7\\xd4\\r\\xb9\\x94\\'\\xaaVx\\xa9V\\x9at\\xd76\\xdf1&DH\\x1c\\xd0\\xd4\\x01\\x18\\xaf!\\x04\\xf3\\xd2\\x84\\x11\\xcf4t\\xf5\\xbfK\\rr\\x07\\xc8A\\x04W\\xa9R\\xd0\\x92\\x84\\xd2|s\\x8a\\xe5\\xd4i]rX\\xe1\\x8c\\x98tv\\xcb\\xaa\\xda\\x9e\\xb4c\\xb0\\xddJ\\xb1\\x8c\\xf1\\xebE\\xb2\\xe2\\x99PR\\x0e\\xd3\\xebF\\xb91jQ%d\\xfc\\xaa\\xca\\xe9\\xa9C\\xf39,\\xee\\xdb\\x01\\xe9h\\xa0+\\n\\xe4\\x8fJ\\x00c\\x1dU\\xfaQ\\xf8\\xc5\\x075\\xef\\x9e\\x9e\\xb6\\x96W\\x07.BK\\x1c\\xf0\\xbc\\x0f\\x95\\t-m\\xf3\\xe6\\x87^\\xaaV\\x96\\xa4\\xf3\\x80\\xe4\\x02c\\xe4\\xfd\\xe3\\x8f1]\\\\m\\xc4\\x94\\xabo\\xa6E\\x1c\\x9e\\x05w4\\x8fMR\\xca\\xc12%\\xf7%u\\xef\\x07\\xe5F3\\x1c\\xb6A*\\xdcA\\xcf\\x14vhH\\xeb\\xcds\\xfc%1yK\\xfa\\xb1\\xb2_\\xd0\\x945\\'\\xb1\\xfc\\xf8\\xcb\\xdb\\xdfi}V\\xe2\\x827ti\\xf4!i\\xe3\\xcb\\xc5\\xdec\\xcb\\x83T\\x15\\xb7O\\xdd/!J\\xb5ArPK\\xa9h\\x94\\x90\\x06\\xf2\\t\\x03\\x93\\xe8\\x0f\\xca\\xb4\\xdf\\xb2\\x97gW\\x1e\\xd2\\xad\\x1d\\xa2X..\\xb9o\\xd0\\xf7(\\xb1Y\\x9b8\\x14\\x95\"j\\x1d\\x0bo\\xba\\n\\xf0\\x95\\x06\\x8b\\xa5G\\xf0\\x82\\x92|\\x81\\xaf\\xf5%\\xb3HG\\xbe\\xeb;~\\x8cD\\xb1i\\xb6\\xa62\\xed\\xc5\\xe9\\x85o-\\xbe\\xf8%\\xc7T\\xa0\\x07\\xde\\x04(\\xe0`\\x05\\x0fJ\\xf9\\xd7QKOu\\x9d\\xbe\\x1f\\xdc\\xed\\xd3\\xd6\\xaf\\x9a\\x8b\\xf2W,\\xe9yV\\xc9\\nn\\xf5\\x11\\xe6%4|M:\\x9e\\x07\\'\\x1f>\\x9dzS\\xcd\\x9da\\x8b\\x93\\x7f\\xbep\\x84\\xe3\\xcb\\x9a\\xb2\\x1a\\xb3Djl\\xc7\\xa1\\xdc\\x1e\\xb9\\xd9Zh\\xb2\\xd4;\\x82w(6\\xb2\\x12S\\xbf\\xa9HQ\\xc88\\x04u\\xaa\\xdf\\xf6s\\xb6-I*\\x04\\xe1\\x87\\xa2\\xc8S$\\x05\\xee\\xc6\\x0f\\x91\\xf3\\xe3\\x15\\x8f\\xeaz\\x8bs\\xbd\\xd1\\xe9O\\x11.H_h\\xdav\\x9cdt\\xa7)\\x9aI\\xe7\\xd8\\x12[e\\x0f\\xbe\\x06Q\\xde\\x1c\\x92G\\xff\\x00U\\x16\\xb7\\\\v)\\x03vFz\\xd5\\x93\\xa7.\\xed\\x954\\x99)\\xdc?x\\xf3YN]\\xac\\xdd\\x8cT\\xa3\\x92:\\xbd?>f\\x91\\x97\\x15w$\\x0b\\x9b\\xc9PTt\\xb4\\x1aC\\r\\xe0\\xe5[\\xb0TV8#\\x18\\x1c\\xd1\\x9ar\"\\xf4\\xc3\\xd1\\xe5\\xdb\\xdcR\\x9e@\\tQt\\x0f\\x17\\xae\\x7fZ\\xbb\\x98n#\\xf6\\xf7v>\\x956\\xa6\\xd4\\x16\\xae\\x9c\\x1a\\xab5\\xb4\\xb8\\xb6\\xe3\\x12<<{\\xd4\\x9c\\xa1\\x01C\\xc26\\xe3\\xa7\\xa9\\xe4Q\\x94\\xdc\\x96\\x01\\\\\\x14e\\x91\\xb7\\xb5kD\\xab\\xb6\\x96\\xb9j};q\\x97\\x19\\xb6\"\\xad\\xcb\\x8c6\\x96v8\\xa5,\\x05/\\x8eq\\xb5X\\xc1\\xc8\\xf3\\xac\\x8a\\xa6IQ\\xca\\xf2s\\xcdl}\\x1f{\\xb5\\x8b\\x8f\\xecMA -7\\x14\\x18\\xd2b0\\xa4\\xad\\xc5!~\\x12\\nA\\xe39\\xe3\\xe9YOTB\\x81n\\xd4\\xb7\\x98vG\\x9e\\x91m\\x8d9\\xe6\\xa2:\\xf26-m%d$\\xa9>G\\x03\\x91^\\xd3\\xf0\\xcc\\xd4\\xfb\\xea\\x92\\xdfg\\xfd\\xccN\\xa9_l\\x94\\x97\\x0ce\\r(\\x0c%\\xc2\\x07\\xa5\\x16c\\xaf=E*\\x03#\\xfa\\xd0O\\x15\\xee\\x1d1{\\x18Br\\xd1\\x03\\x1c|+\\xae!E\\xa4\\xa58\\xc84a\\xe4Phz0\\xc6\\x02\\x10\\x1aP\\xeak\\xdd\\xda\\xb3\\xc61F\\x9a\\xedO\\x87\\x82X\\xcb\\x17!e$\\xa0\\x0c\\n+\\xbapt\\x02\\x94\\x1a\\xf0\\xa4\\xb3M\\t\\xf9a\\x08\\xee\\x9e\\xf4\\x15\\xde\\xe9\\xcfAG\\xd7qJ\\xb4\\x90^_\\xee\\x11A\\x1e\\x94Y\\xae\\x19\\x19\\xe81\\xf2\\xa0w\\xbe\\x82\\xb7\\'\\xa9\\xab\\xc3+H\\x1e(IO<Q]\\xe7\\xadt?\\x8f,\\xd5/S_\\xb8p\\x1f\\x8cg\\xca\\x82M\\x17\\xef\\x1f\\xc3\\xfa\\xd7\\x83\\xdc\\x1c\\x83\\xf4\\xa4z\\x8a\\xfd\\xc2\\x90h\\x19\\xa7\\x0bM\\xaam\\xea\\xe7\\n\\xd9f\\x8c\\xb9\\x97\\x19\\xf2\\x11\\x1a#\\x08\\x1e\\']Z\\x82P\\x91\\xf3$SZ^\\xc7\\x00\\x13[#\\xd8\\xd3\\xb3\\x16-\\xd0\\xae\\xbd\\xafk \\xdc\\x0bT\\x18\\xcf1d\\x91 \\xe1(\\xc6D\\x99\\x9e_q \\xb6\\x83\\xceT\\xb5q\\x90\\rfk\\xb5\\xf0\\xd3\\xd2\\xe5\\x17\\xbf\\x8f\\xe7\\xff\\x00C(\\xe5\\x966\\xbdU\\xbf\\xd9\\xd3\\xb0;v\\x8a\\xb2\\xcal\\xdd\\xe6\\xb2\\xe3\\x12d7\\xfe\\xb9\\xc5`\\xcd\\x92\\x0e3\\xc9!\\x94\\x13\\xd0`\\x0e\\x95\\x83\\x1c\\xb9\\xcb\\xb7__\\xba4\\x01q\\xf0\\xe0Z\\x15\\xd1\\xc6\\xd46\\xa9\\xb3\\xf0)\\xe2\\xad\\xae\\xd9\\xfbJ\\x7f\\xb4\\xbde.\\xe4\\xd3\\x0f\\xb1nHKPc,\\x13\\xdcFFCh\\xf9\\x9c\\x95\\xab\\xf8\\x95\\xf0\\xaa\\x9a\\xe8\\x94\\xba\\xd0V\\x08(\\x07\\'\\xd0\\x7f\\xde\\xbew&\\xe5\\x9c\\xef\\x93\\xaa9\\x8f\\xcc\\x8b\\xabE\\\\\\xed\\xd7\\x8b\\x8d\\x99v\\xab\\x82\\xb7*:\\x94v\\xb7\\xb5\\xc48\\x9c$!\\xc4\\x1f\\t;I\\xc9O\\xde\\xc6qM\\xba\\xda\\xcc\\x8b>\\xa9[n\\xac\\xc8[\\xd1\\xdbx:\\xf6\\xd2\\xe1\\xea<X\\xf3\\xe0|\\xea\\xa3\\xb5<\\xe4P\\xa56\\xe2\\xd0w\\x05$\\xa5E$yd\\x11\\xc8\\xa7\\xb6\\xdey\\xa9n)\\xd7V\\xeb\\xaa>\\'\\x16\\xb2\\xb5\\x1c|O\\'\\x8a\\xcb\\x95N2\\xd9\\xecmCQ\\x1b \\xb2\\xb7\\'\\xd0\\x1b\\x0e\\x00\\x121\\x8e\\x83\\xd6\\xa66\\xd5\\xa9\\x08@* \\xa0\\xd4/O\\xc8C\\xc1$\\xab?\\x1a\\x9fDi=\\xc8V\\x07O*\\xe0\\xb2;\\x9a5Kl\\x93\\x0b\\x0c\\x97\\x1d[m-\\xed\\xd9;rs\\x8f\\xad+\\xd5:V\\xd3s\\x86\\x1a\\xb9\\xaf\\xde\\x14\\xd2\\xb7\\xb6\\xa6\\xd4B\\x92\\xa3\\x8e\\x98?.*9\\x01\\xf5\\xa0\\xa1\\'<\\x1c\\xe7\\x1d1C\\xd5\\x8d\\\\\\xa6Fm6K\\xacxhS\\x7fj\\xb5\\xb6\\xa5\\xb8\\x93\\x9e\\x83\\x04c\\x8f0ia\\r\\xf0\\\\\\xdbobs\\xa1 i\\x8b\\x1d\\xda\\xd4\\xe4\\x0bl?~gj\\x02\\xd5\\x19\\x1b\\xd2I\\xfb\\xc1X\\xeb\\xf1\\xac+\\xa8RQ\\x7f\\xbb%X\\xcaf\\xbe:\\xe7\\xfdb\\xabS\\xd8\\xac\\xb6\\xf87\\xabv\\xa2r\\xfd\\x06;6\\x88\\xef=\"\\xdf\\x15O\\xadn\\xecAQ.w\\x8e+$`c\\x18\\x15\\x91\\xa4NT\\xd7\\xde\\x94\\xff\\x00/>\\xb5:\\xbf/\\x12\\x89\\'\\xf55\\xed?\\r\\xc5Uu\\x92ol#\\x13\\xaa\\xfe\\x85\\xe7s\\x85C\\x14\\x05\\x1a\\x02\\x9e\\x1ey\\xa0\\x17G\\xd2\\xbd\\xe7\\xad\\x07\\xe4\\xc0`\\xcf5\\xcc\\xd0;\\xd1^\\xef\\x05OV\\x1e\\xe0\\x04Mr\\xb9\\xbcW;\\xc1G\\xd5\\x8a\\xf2+\\x06:\\xd7@\\xa2\\xf7\\x8a\\x17z*;!\\xeeD\\x0e\\xb9@\\xef\\x05{\\xbd\\x14=X\\xfb\\x8cp\\x1a\\xf1\\xa0\\xd7\\xb3Y\\xd8H \\xab\\xd5\\xe0k\\xd4\\xb9\\t\\xea\\xf0\\xafW\\xbe\\x95\\x19\\x01c \\x8f\\x85]Z\\xb3\\xda:\\xff\\x00\\xa8\\xbb/\\xd2\\xdd\\x9f\\xdbm\\xecXm6k{1%\\x18\\xcf\\x93\\xef\\xebk\\xee\\xb8\\xa4\\xe0m\\xe7\\xc4S\\x92\\n\\xb9>@R\\xa0\\xd0\\xf3\\xf9W-\\xb4B\\xd6\\x9c\\xd6pD\\xda\\x1d\\xd3\\xaao\\xc8\\n\\x08\\xbe\\\\\\xd0\\x14w(&Z\\xc0\\'\\xe4\\r\\x18\\xd6\\xa1\\xbcHK\\xa9\\x93t\\x96\\xeba\\x05D8\\xbd\\xc0\\xf9\\x0e\\xb4\\xc9\\x9ap\\x86\\x10mw\\xa1\\xb7.\\x08\\xed\\xa9\\'\\xe0\\x1d\\x19\\xfeb\\xa9\\xb6\\xaa\\xe3\\x1c\\xb4\\x15\\xb8\\xb60\\xf7\\x84\\x85 pS\\x93\\xcdHg\\xc1Ta\\x0eJA-\\xbc\\xd8\\xc9\\xcf\\x01^b\\xa7\\x1d\\xa6\\xda!YdikU\\xbe\\xdf\\x1e,\\x98z>\\xd0.\\x05\\x86\\x82K\\xb2\\xddg\\xbdZ\\x95\\xfb\\xca\\xc3\\x89\\x04\\xfc(\\xcb%\\xb2-\\xea\\xde`K\\x19mD`\\x81\\x85\\x05z\\x83^.\\xf9\\xc5I\\xb5\\xc1\\xafD\\x1c\\x97\\xd4\\x8dX\\xe59\\x1c\\xa4\\xa5^\\x1e\\xbcU\\x8bm\\xbc\\xb4\\xf3I\\nV\\xdc\\x8e\\x95\\x0e\\x91\\xa3.\\xd6\\x89E\\x0c\\xa5\\xb9m~\\x05\\x85\\x80v\\xfcA\\xa3\\x15\\x1aM\\xbf\\xbbU\\xc23\\xd0\\xc2\\xcf\\x85k\\x1e\\x13\\xf5\\x1cW\\x05\\x89KthT\\xdc6e\\x93\\x1aP\\x08>0\\x9d\\xdey\\xc7Z\\x92\\xe9F\\xa2K\\x94\\xa6\\xae\\n\\x0e \\x81\\xb4(\\xfeu^\\xd9-\\x17[\\xb2\\x1e\\x16\\xd1\\xdf!\\x86\\xcb\\xae\\xa8+\\x01\\t\\x00\\x92I\\xe9\\xd0\\x1e:\\xd3,>\\xd3\\xb4\\xec\\x05\\xb6\\xea\\xaf\\xc2II\\xcfv\\xc47\\x89?\\x0c\\x94\\x81\\xff\\x00j\\xae\\x14\\xce\\xd7\\x88,\\x9d.\\xe8\\xd6\\xbeg\\x82\\xf2\\xedF\\xc7n\\xb5\\xf6Q\\xad%\\xd9\\x1bj<\\xc5Z\\xd67\\xa4\\x8d\\xc5\\x05h\\x0b\\x1fT\\xe6\\xb0r\\xb8Q\\xc7L\\xf9U\\xe1\\xda\\'n\\xcdjM57N\\xe9\\xd8/\\xb5\\x1epKr\\xa5\\xc9!%M%AE(@\\xe4d\\xa4d\\x93\\xd3\\xca\\xa9\\x05\\x9c\\x9a\\xf5\\xbd\\'Oe\\x15\\xcb\\xbdc&\\x06\\xba\\xd8\\xdbbqy\\xc2\\x084\\x12(\\xc5u\\xa0\\x1ek\\x7f&hQ\\xf8W\\xb3C\\xc7\\xd2\\x83\\x8fZl\\x8a\\x06\\xbb^\\xc5t\\n\\x048+\\xb4,W\\x8d\\x00\\xe0\\t\\xaef\\xbck\\x84\\xd4\\xe0\\x81\\xd5\\xea\\x0e9\\xa1b\\xbb\\xc0v\\xbb\\\\\\xc5v\\x91\\xa1\\x8fW\\xab\\xd8\\xcdt\\n\\x0f\\x82\\x1d\\xaff\\xbd]\\t\\'\\xca\\x97\\x82\\x1e\\x1djC\\xa3\\xac\\xd35\\x1d\\xf1\\x9b\\x1d\\xb1\\x97\\xe4K\\xba\\xed\\x86\\xd3L$\\x15,\\xad\\xd6\\xc6\\x06x\\xfc\\xf8\\x14^\\x93\\xd1\\xd7\\xfdw{f\\xc9\\xa3\\xedRo\\x17WRV\\x18`\\x0f\\n\\x07U\\xadG\\tB\\x06FT\\xa2\\x00\\xc8\\xe6\\xb4u\\xbbN\\xda\\xfd\\x96\\xafZM\\xfdEmf\\xfd\\xaf\\x1f\\xb7M\\xb8Hv;\\xa1\\xe4[\\x9fR\\x0bq\\x1al\\xe4#\\tQ*qcq\\xc8\\xc2x\\x1e,\\x8dv\\xaa\\x15\\xd6\\xe3\\xe4\\xb6\\xb89\\xcb\\x08\\x8a\\xf6\\x87wsV\\xf6\\x8f\\xab.\\x9e\\xe7\\xee-\\xb9qS\\x0c\\xc6[\\x89Ye\\x96\\x12\\x19Jw\\x02A\\xc0ht$u\\xc1\\xa2\\xb4\\x93\\xe5\\xa9\\xe5$\\xe3\\xce\\x98\\xac\\xc8RP\\xde\\xe5nQ\\x1e<\\xf5R\\xba\\x93\\xf9\\xe6\\x9d\\xed\\xc9\\xf7y\\xe8)\\xe3>\\xbcq^*\\xd9w\\xe4\\xdf\\xaa=\\x98,\\xa9\\x11\\xbd\\xe3a\\xda\\x15\\xc7\\x04\\x1eE=\\xe9\\xdb\\x11\\xb8:\\x98\\xd3\\x1b\\xf7\\x98Nx]m\\\\\\xa4\\x8f\\x97\\x97\\xd3\\x9ao\\x80\\x82\\xf4v\\x88V\\x15\\xf2\\xab\\'M\\xb2\\x98\\xcc\\x85\\x1c\\x02y?\\x0f\\xadp&h4\\x92\\xc8T\\x1bDk\\x04w\\xad\\xb1\\xa3\"$T\\x85\\x8d\\xa9\\x18\\x04)$d\\x9f>\\xbdk\\n\\xea\\xed#x\\xd17\\xb7\\xec\\xfa\\xa2\\n\\xed\\xd3Z\\t^\\xd5\\x90\\xa4\\xad\\xb22\\x97\\x10\\xb1\\xe1Z\\x08\\xe4)9\\x15\\xf4\\x91\\x87\\x0b\\x8dm\\xc6\\xe0|\\x8f4\\x86\\xd3u\\xb2J\\xd4\\xf0\\xf4>\\xbd\\xb5\\xda\\xefV{\\xa6E\\x9c\\xdd!7!\\x11\\xa5\\xe3r\\x98\\x1b\\xc1\\xda\\x1cH%8#\\xc4\\x92?\\x15it\\xfdc\\xd2X\\xde6fn\\xae\\x97l2\\xb9G\\xcc\\xd2\\x93\\x8c\\xe3#\\xe1E\\xa8\\x7f\\xda\\xbe\\x89kOeN\\xcc\\xef\\xf1f\\xc5\\xb5ZN\\x8e\\xbe\\xba\\xe2\\xc4y\\xd0_y\\xe8\\xe1\\xc1\\xc8B\\xe3\\xa9D\\x04\\x11\\xfb\\xb8#<zV{\\xbe{\\x15\\xf6\\x97\\x060\\x91\\xa7\\xdc\\xb1j\\xb4a[\\x85\\xba\\x7fv\\xa0\\xb0\\x7f\\xbb\\tx#*\\xc1\\xce\\x05z\\xcau\\xf5Y\\xce\\xc6\\x14\\xa2\\xd1\\x9b\\ns@)\\xc5I5.\\x89\\xd4\\x9a>K\\x91\\xf5^\\x9f\\xbaY^iXZe\\xc3q\\xb0>J\\xc6\\x08\\xf8\\x82E0\\r\\xab\\x1e\\x05\\x05|\\x8ekB6\\xc6\\\\2\\xbc\\x04\\xed\\xa0\\x94\\xd1\\xdb\\x0f\\x98\\xa0\\x91V\\xf2\\x00\\xad\\xb5\\xdcP\\xf0Mx\\xa7\\xd6\\x80\\x02\\xeb\\xc6\\x84h42\\x10\\x06\\xb9B\"\\xbd\\x8a \\x0c\\x1dk\\xb4\\x9f\\xbe>\\x95\\xde\\xf8\\x9f*o\\x8c\\xa5\\xf9&\\x03\\xf3]\\xa2\\x03\\x87\\xd2\\x87\\xde`r0=i\\x1e\\xb2\\x95\\xcb\\x08p\\xa3Y\\x8e\\xe4\\x99\\r\\xc7\\x8c\\x85\\xbd!\\xd5\\x04\\xb6\\xd3h+Z\\xd4z\\x00\\x91\\xc95\\xa3\\xbb5\\xf6Xvl(\\x97\\x8e\\xd7\\'\\xca\\xd3\\x91% 9\\x16\\xc9\\x05\\xb4\\xaa\\xe4\\xfbdd-\\xc2\\xbf\\x04d\\x9e1\\xb8)G\\x9f\\x08\\xe0\\x9dC\\xa3t\\xe5\\x87AG,\\xf6w\\xa7\\xe0\\xe9\\x94);W)\\x94\\x97\\xe6\\xba\\x0f]\\xf2\\x97\\x95\\xf2|\\x93\\xb4\\x0c\\x9c\\x0cW\\x1d\\xddF<V\\xb2\\x1c\\x18\\xcfG\\xfb.v\\x97\\xaa\\xde\\x8ee\\xd8\\xc6\\x94\\xb7:\\x02\\x95?P\\xba!!\\x03\\xd7\\xbbW\\xda\\xab>@#\\xf2\\xad\\x01\\xa5\\xbd\\x97\\xfb:\\xd3P\\xcb\\x1a\\x864\\x9e\\xd0\\xae.\\x80W-r^\\x81\\x11\\xaf\\x83-4\\xa0\\xb5\\x1cg\\xc4\\xb5y\\x0c$U\\xcf\\xb8-\\xc5)\\xd0V\\xe2\\xceT\\xa5x\\x94\\xa2|\\xc9<\\x9a\\x10\\r(\\xf1!l\\x91\\xf0\\xf3\\x15\\x99f\\xa2\\xdbyc!\\x96\\xd1\\xa2\\xed\\x1a?O\\xdd vub\\xb7id>\\xda\\x1cS\\xb1\\x12\\xe3\\xcf\\xc9\\xee\\xf2\\xa4\\x07\\x1cuJ*\\x00\\x93\\xe1<\\x1f\\xd2\\xa8\\xae\\xd7\\xacru+\\x16\\xedG&C\\xb2\\xe62\\xd2a\\xce.\\x0eP\\xe6\\xe5)\\x0b\\xf8\\x05\\x05+\\xea\\x0f\\xadiv^\\x0c\\xb9\\xb8L\\x0e\\x83\\xc9IF3\\xf25\\xc5Zm7\\x17^S\\xcc!h\\x92\\xd1fKX\\xc2^A\\xeb\\xf5\\xf8\\xf9\\x1cV}\\x95w\\x9d\\x15[\\xe9\\xbc\\xe0\\xc2\\xf1a\\xa9\\xb3\\x84\\x8eFx<d\\xd4\\x8dv\\xa5&3RP\\x01\\t\\xc1$\\x0cb\\xac\\xedC\\xd8e\\xe6\\xd9qyv\\x08n\\xde-\\xaaV[S$)\\xd4\\xa3\\xf7V\\x8f2=GZKs\\xd3\\x92\\xad\\xf0\\\\\\x8f.\\x1c\\x98\\xee%8\\xda\\xeb\\nI\\'\\xea+.p\\x9c^\\x1a6ad&\\xb2\\x98\\xe3\\xa5\\xed\\x8a\\x93h\\x8f%)%$g5%\\x89!I\\x92\\xd4q\\xd4\\xf9Q]\\x9a\\x96\\xd7\\xa3\\x1em\\xe5\\'\\xbe\\x8c\\xe2\\x9bVF\\x0e~?\\x9d\\x19jq\\x81wq\\xf7\\x96KL\\xa7\\x82\\x12NU\\xe9\\xc7\\x9dq\\xf6\\x9d\\xbd\\xcb\\xc9;\\xb7\\xb6R\\x10\\x95rO\\xc6\\xa1:\\x83L\\\\\\xb5\\xf5\\xf7\\xf6n\\x94Si\\x98\\xd4\\xd8\\x92\\x1a\\x96\\xb5\\x94&)e\\xd4\\x92\\xeeG>D|sNOI\\xd4\\xb7\\x80\\xb64\\xde\\x9f\\xb9\\xbc\\x95\\x02\\x15 \\xc7SI\\xc7\\xc1J\\xc0\\x1f:\\xb4\\xb4\\x0e\\x97:>\\xd0\\xe2]SN^fm\\\\\\xc7\\xb7dd\\x02\\x03i\\xfe\\x14\\xe4\\xfc\\xc9&\\xae\\xaa\\x89M\\xf1\\xb1\\xcbv\\xa25,\\xa7\\xb8+\\xf4\\xc5\\\\\\x1d\\x94\\x96[Q\\x98\\xec\\x90\\x10\\xdaU\\xf7\\x1c\\x04\\xe4\\xe7\\xd0\\x1es\\xe9O\\xa8\\x86\\x86!\\xb6\\xda\\xc0Yl\\xa9j8\\xe1n\\xab\\xef\\x1f\\x97?\\xca\\x91\\xdam_\\xb3no\\t\\xab.\\xb9%\\x1d\\xeb.(rH\\xe1C\\xe7\\x8d\\xa7\\xe8i\\xe7h-\\xe1#\\xa7\\x02\\xb6+\\x87i\\x819wp5&]\\xc226G\\x9a\\xfbM\\x81\\x80\\xde\\xf2\\xa4c\\xd3i\\xc8\\xfd*3q\\xec\\xdfDj4:\\x9dI\\xa2\\xb4\\xcd\\xc5N\\x0f\\x13\\xaa\\xb44\\xd3\\x87<\\x92\\x1cl%@\\xfcsR\\xf7Y\\xdc\\xd8\\xc7RH\\xa4\\xed\\xc7*R\\x8az$\\xed\\xab\\xd3efm\\xd7\\x1e\\xc4:>\\xf8\\x97dv}z\\x9d\\xa5&+%1&\\xe6lO\\x82B\\xb8u\\x03\\xe2w\\xd6B\\xed3\\xb1\\xed]\\xd9%\\xd5\\x10u\\x95\\xb0\\xb0\\xd3\\xe4\\xfb\\xac\\xe6\\x15\\xde\\xc5\\x94\\x07\\xee:8\\'\\x1c\\xed8P\\xf3\\x15\\xf5\\x92\\x13Iq\\xf7\\xd1\\xff\\x00\\xb2\\x94\\x93\\xf34\\rM\\xa4,\\xba\\xdbOM\\xb0j\\xa8\\r\\\\\\xed3\\x13\\x87\\x98s\\xc8\\xf9-\\x07\\xaaV<\\x949\\xae\\xaa\\xb56V\\xf9\\x06\\x0f\\x8cE8\\xf2\\xa0\\x9a\\xb8\\xbd\\xa0\\xbb\\t\\xba\\xf6#\\xa9\\x92\\xcb\\x9d\\xed\\xc3L\\xcf%V\\xab\\x9fw\\x80\\xb1\\xe6\\xd3\\x98\\xe1.\\'\\xccy\\x8c\\x11\\xd7\\x8am\\xc5\\x11Z+Y[\\xe4F\\x80\\x93\\x8a\\x0eh\\xb5-Y\\xe6\\x82Vi\\x96\\xaa\\xb0\\x06\\xe7\\xd6\\x83\\x9a,\\xac\\xfc\\xab\\x9b\\xcdO\\x8b\\xac hT\\x1a\\x10\\xebY*X !ZO\\xd9\\x8fA\\xc0\\x8c\\xd4\\xee\\xd3uTdJ\\x89i\\x94 i\\xf8\\x8e\\xa4)\\x12.\\x85!}\\xea\\xd2z\\xa1\\x84\\x90\\xac\\x11\\x82\\xa5\\xa3\\x91\\x82*\\x8a\\xd1Z:\\xef\\xda\\x06\\xab\\xb4\\xe9\\x9d3\\x1c\\xc9\\xba\\xdd\\x1f\\x0c\\xb0\\x9c\\x1d\\xa9\\xf3S\\x8a \\x1c!)\\x05J>A$\\xf9V\\xf2\\xbd\\xc0\\xb2Z\\x98\\xd2Z/F\\xee\\xff\\x00F\\xac\\x80\\xc2\\x84\\xe2\\x8f\\x8a\\\\\\x82w= \\x8e\\x99qYW\\xa61\\x80\\x06\\x05$\\xa5\\xdc:$\\x9au\\x0f\\\\\\xddzT\\xe7\\xd7\"[\\xab.\\xbc\\xb7\\x8e\\xe5\\xac\\xa8\\xf2\\xa2~u7b*\\x10\\xdaA9\\xf9Tj\\xcc\\x83\\x0b\\x0f\\xa8\\xe3\\xbb_t\\x7f\\x88zqR\\x97\\xbe\\xc9HWV\\xdc\\x1f<|)@\\x12\\xb8\\xe9\\x04\\xf0Eu\\xb8\\xed\\xa9xtg\\x1d3F2\\xe2T\\xe3\\x8d\\x15x\\x80\\xc84%\\xa3\\xefc\\xaaOA\\xc5\\x12\\x02L(\\xc9\\xfb\\xcc%_>i[M\\xc7\\x18\\x01\\x94$|\\x061H\\x90\\xe6\\xd2=\\x08\\xfc\\xa9J<C)\\'\\xf3\\xe9@\\x82\\xf4\\xf5\\xda\\x95\\x94\\x01\\xd3\\x14\\xa4\\xcb\\x94\\xcf\\xfa\\xc5m\\xf2\\xe4\\xd2(\\xcf%JKn\\x90\\x0f\\x914\\xb1\\xc6\\xb2\\x08\\xe78\\xa80S\\x93\\xf7\\x10T\\x94\\xa8\\xfa\\xed\\x14\\xbd\\xa2\\xb2\\x90\\xa4\\xa8\\x84\\x91\\xf88\\xa6\\x92\\xd1\\xe4\\x90y\\xa5\\xd1\\x1d\\xee\\x91\\xb3\\xcb=*\\x10W\\x9d\\xc4oR\\x96\\x7f\\x89Y\\xa5Q\\xd4\\x94\\x1f\\nR\\x0f^\\x94\\x8dK\\x07$\\x0c|(q\\xd7\\x95/\\x9e\\x80R\\x90\\xed\\xe5KTv\\xe4\\xb27=\\r\\xc0\\xf2G\\xa8\\x1fy?T\\xe4}i\\xc6)C\\xad)m\\x10\\xb6\\xd5\\x85!C\\xcc\\x11\\x91I\\xa3+|\\xa4\\x83\\x82\\x13\\xc9\\x1dh6/\\xb1bDU\\x11\\xfd\\x99\\xd2\\x81\\xfe\\x13\\xca\\x7fC\\x8f\\xa5\\x06Ab\\x19\\xdc\\x94\\x9e\\xb8W\\xadz\\x1b\\x03\\xdf$\\xb6G\\x19\\x04|iTd\\xf8T<\\xf3\\x9a:;X\\x9c\\x15\\xe4\\xa3\\x8a$\\x1b\\xac\\xbb\\x8c\\x8b\\xb9W\\x96\\xd3N\\x0c\\xbb\\x88/?\\xe4B\\x8a~B\\x90\\xc0Ii\\xeb\\xc8\\x1dJ\\x07\\xf3\\xa1O|F\\xb4\\x86\\xc1\\xe4\\xb1\\x93\\xeb\\xcdB\\x085\\xae\\x8a\\xb1v\\x97\\xa3d\\xe9\\xed]\\x0b\\xdfmS\\xdbJ\\x88J\\xb6\\xb8\\xd3\\x83\\xee\\xba\\xda\\xbf\\n\\xd2z\\x1f\\xa1\\xc85\\xf3\\'\\xb7\\x1ff\\xfdU\\xd8\\xc4\\x95\\xcc\\x96\\x83x\\xd2\\x8e\\xba\\x11\\x16\\xf4\\xc20\\x8c\\xab;P\\xearKk\\xe3\\x91\\xd3=\\t\\xaf\\xaaJ\\n\\x8do\\x88\\xca\\x00.\\x86\\xd2\\x90>4\\xd9\\xa84\\xdd\\xbfY\\xe9k\\xd6\\x98\\xbc\\xfd\\xac\\x1b\\xccG!\\xc9$gb\\x96\\x9c%`y\\x14\\xab\\x04|\\xb3E2\\x1f\\x15\\x14\\x9cQdS\\xee\\xa8\\xd3\\x93\\xb4\\x9d\\xfe\\xe9b\\xbd#\\xba\\xb8\\xda\\xe59\\x12B\\x7f\\x8d\\n)?\\xcb?Zd\"\\x98\\xac,\\xf4\\xaeP\\x88\\xaeb\\x80Q\\xe1B\\x15\\xc0(C\\x8e}9\\xa6\\x01\\xab\\xfd\\x964\\xbc\\xb6tm\\xfa\\xf3\\t\\xe7aK\\xd47\\x16\\xec\\xadHi\\x03z\"4\\x90\\xec\\x81\\x93\\xf8\\x16\\xe3\\x91R\\xa1\\xc6BJ~\\x15l\\\\\\x1ev\\x1fh\\xfa>\\xc5!\\x1d\\xdc\\xa8s\\\\\\x91\\'\\xba\\x1ff\\xe3=\\xd9\\r\\xad>\\x99$\\xf0y\\x185)\\xecGJ\\xabLvq\\xa5,\\xee\\xef\\x0e\\xb1\\x05\\x97\\xdfJ\\xc60\\xeb\\xa92\\x9c\\x07\\xe4d\\xb6\\x8f\\x9b5\\x12\\xba&d\\x8fh\\x99.\\xb2\\xe3Y\\x81\\x19\\xa46\\xcb\\xb9\\xc3\\x8dw)!\\x19\\xfc\\'*$\\x1f_\\x9d\"{2\\xc2\\xe2\\xfd\\x88&F\\xbc\\xdbQ\\xf6k\\x96\\x95\\x16V\\x0e6\\xb9\\x8c\\xa4\\x83\\xe5\\xce+\\xb6k\\x8ao\\xbab\\r\\xc1i\\xda\\xa7PP\\xfa|\\xd0\\xea\\x0e\\xd5\\x8f\\xa2\\x81\\xa7\\x98\\x8b\\x12\\x10\\x89Mg!X\\x19\\xea\\x92:\\x83\\xf1\\x06\\xa2\\xf6&\\xc5\\x9fZ\\xea\\xcd6\\xeaB!\\\\\\x80\\xbd\\xdbp8\\xc3\\x9c>\\x81\\xfe\\x17\\x06\\x7f\\xda\\xa2\\x00\\xd7\\x1fu\\x95\\x02<E\\x93\\xe5\\xe6\\x9atC\\xc8\\x90\\xdaV\\x9ct\\xe7\\xe5Q\\xc5\\xcc\\xda\\xf1\\xde\\n\\xd4\\xd2\\xcbN\\x0f\\xe5N\\x16\\xb9-/s!\\xc0V\\x92N\\xdf1\\xe9D\\x03\\xa1H-\\xf4\\xe8qF4\\x14\\x9f\\x12NA\\xea(\\xa6\\xbe\\xf2\\xd0\\xac\\x1eE\\x1e\\xd0\\xe7\\n\\xceE\\x02\\x06,u\\xc6@\\xf8\\nw\\x85#\\xde\\x1a-\\xbb\\x8e\\xf5\\x1f\\xa8\\xa6\\xe0\\x8c\\x9ehm\\xefiiZOO*\\x81\\x16\\xb8\\x82\\x82q\\xc8\\xeb@\\x1c\\x1fA\\x9aV\\x95&K[\\xd0y\\xe8E&ZH\\xcex>\\x95\\x08\\x18\\xa5\\xa7\\x07\\x148\\xea\\xc3j>d\\xd25(\\xe3\\x8e)Ck\\xc3[}*\\x10q\\xb6\\x9d\\xd2Vz\\xe15\\xd6\\x88\\x8duq+\\xe13\\x11\\xe1>EI\\xcf\\x1f=\\xa4\\xfeT\\x1b1\\xcf\\xbc(\\xf4\\xe0Q\\xd3\\x982c\\xecB\\x8a\\\\\\n\\x0be_\\xba\\xe2pS\\xfeG\\xe0M+\\x08\\xf0\\xc8\\xe0R\\xa6\\x91\\xe3A\\xf44\\x8a\\x13\\xc2Lv\\x9eH)\\xde\\x9c\\x94\\x9e\\xa9>c\\xe8i\\xc9\\x91\\xc8\\xa5 \\xcf\\x1d9\\x9fwO\\xaa\\x7f\\x91\\xa4w1\\xbd\\xf6\\x90\\xac\\xed\\x05\\x1f\\x90\\xe7\\xf9\\xd3\\x8cQ\\xff\\x00\\x8b\\xcd\\x07\\xa2\\xf2)\\xbajK\\xb7\\x17R?\\n\\x82G\\xc2\\x98\\x83\\xba\\x17\\xde)\\xb5\\xf9\\xfd\\xd4\\xff\\x00ZF\\xc2\\xc7\\xed\\x89\\r\\x0f\\xba\\xbc\\xe0|\\xa8\\xcbk\\x9e\\xf1#z?\\xbao\\x08G\\xc7\\xd4\\xd2\\x06\\xd6\\x13~oi\\xe0\\xa9Y?\\x9dB\\x18;\\xdb\\xc3\\xb3u\\xe9\\xfe\\xd2!k8\\xad\\x8f\\xd9\\xda\\xa5\\x80\\x97\\x8aF\\x02&2\\x90\\x95\\x83\\x8f\\xdeF\\xc5\\x0fR\\x15Y!B\\xbe\\xbd\\xfbDvl\\x9e\\xd5;!\\xd466[\\x0e]#5\\xfbF\\xd5\\xc7>\\xf2\\xcaJ\\x82G\\xf8\\xd3\\xb9\\x1f\\xed\\n\\xf9\\x10\\xb1\\x9c(\\x8cd~T\\xc9\\x8a\\xc4\\xe4Ph\\xc5\\n\\x01\\x14y\\x14\\xf0\\xa9\\x0e\\x89\\xb0\\rU\\xact\\xed\\x89{\\xb6].\\x91\\xa1\\xac\\xa0r\\x12\\xe3\\x89I?@I\\xa6\\x00*\\xea\\xf6Q\\xb57r\\xed\\xe3K;)%P\\xed\\xa2]\\xcaA\\x03;R\\xc4g\\x16\\x0f\\xfb\\xc1#\\xebQ\\xf04y>\\x84Z\\x12T\\xb9o\\xb8\\x92\\x9d\\xcbW\\x1eI\\xdc\\xa5/\\x03\\xe07\\x84\\xff\\x00\\xb3T\\x12\\xfb\\xb8\\xbd\\xbb]\\x1dx\\x9d\\xae\\xdd\\x9bW9\\xc1N\\xd4\\x10>Y\\x15\\xa1X\\x0b\\x8f\\xa7\\xcb\\xee\\x0c\\xba\\xa6\\xcb\\xca\\x1f\\xc4\\xac\\xa8\\x8f\\xd6\\xa8m_ln\\xe4\\xdd\\xbbTBO\\xf6\\x86\\xc8D\\xb2:\\xe5*\\xe1_1\\x8c})q\\x841w\\xe9yD\\tlL\\xe1\\xd5Ip\\xf3\\xf8\\xd2I \\x8f\\x88\\x14\\xd9\\xda\\x12\\x05\\xa1\\xbbF\\xa4G\\xf7\\x969\\x83\\xbdX\\xea\\xa8o\\x90\\xdb\\xa3\\xe8v+\\xe8i]\\xabl\\x88\\xd1\\xdd8P^\\xd7\\x10\\xb4\\xf9\\x13\\xcfZt\\xd4\\x90\\xd3y\\xd2\\x97\\xbb{\\xe8\\xef\\x14\\xfc\\x07\\x92?\\x88\\xed\\xc8\\xfdE0\\x08d4\\xa1\\xf9\\xd7\\x89\\\\.:\\x15\\x9d\\xde\\\\\\x02r)\\x9e\\xc5<Kq\\xb9m\\xaf\\x05[\\x9b#\\xd59\\xf0\\xfdzSN\\x98\\xbd\\x01\\xd9d\\xd7\\x1d^d\\xa1\\xc5@%J\\xc6I\\xc0\\x07?\\xe1?\\xa53X.b\\x0c\\xa1o{\\tSn\\x86\\x87\\'9\\xc7\\xfd\\x1a\\x04\\xc1q\\xc5\\x90I\\x18\\xeb\\xc59 \\xf8\\x87J\\x8eE\\x7fj\\xd0\\t\\xc1\\xc6)\\xf1\\xa7\\x02\\xd2\\x93\\x9f*\\x80\\x1c\\x91\\xc8\\xf8\\xd2\\x84\\xa0\\x11\\xc5\\x10\\xc9\\xe7>X\\xebK\\x11\\x83\\x9e\\x99\\xcdB\\x046\\xf9\\x86\\xf0$}\\x9a\\xba\\x8c\\xd2\\xe9\\x01+\\xfbF\\xf9I\\x1eT\\x96s\\x1d\\xf4Um\\x1e,Rkl\\xc2\\xb8\\x88\\xef\\x0f\\x84\\xf0>\\x06\\xa1\\x03J\\x86y\\xe3\\x9aP\\xcaJ\\xd0O\\x92i4\\xb1\\xb1\\xa2\\xbe\\x80\\x1e)\\xc6\\x1a6\\xda\\xbb\\xc5p\\\\W\\x19\\xa8\\x14+\\xb7\\'\\xba\\x8e|\\xb7\\x9ei~\\xd2\\xa6\\x94\\xa4\\xe7z\\x08Rq\\xea)\\xad\\x99\\tCI@\\x05X\\x1f*C\\xa8\\xaf3m\\xdav\\xe3.\\x13n:\\xebM\\x83\\xdd\\xb4\\x92\\xa5\\xa9;\\x80Q\\x00rp\\t\\xa5a$6\\xd9\\xc8\\xf7\\xe90T\\xda\\xdb\\xc2\\x94\\xeb%C\\x85$\\xe0\\x91\\xf3\\x04\\xfeU dg\\x1f\\x1a\\xa7t<\\xbdP\\x99\\x8dGz;\\x01\\x0e\\x90V\\xe6\\xc0V\\x96\\xceT\\xa5d\\x93\\x80T1\\xb4c\\x8f\\x95\\\\mq\\xb7\\x1d3U\\xc5\\xe4i,\\r-e7\\x83\\x8f\\xc6\\xafJh}\\xc2\\xe4\\x89\\xce$\\xf0_ZF=3N\\xee\\r\\x97\\xa6\\xff\\x00\\xc4\\r1IQ\\x8c\\xff\\x00vG\\x85\\xc9.\\x83\\xfe\\xf1\"\\xacB\\x8e\\r8\\xb8\\x90\\x1aKD%\\xc7I9\\xf4\\x1e\\xb4\\x92\\nssk\\x00\\xe1=>T\\xaer\\xfb\\xae\\xed\\xbf\\xdd@\\xcd%\\xb6\\x9cJ\\xdf\\xe7D\\x84\\xa9\\xb7Ko!c\\x92\\x92\\x0e+\\xe4\\x9f\\xb4\\xbfg\\xc8\\xec\\xdf\\xb6\\x9dSg\\x86\\xdfwmy\\xf1>\\xde\\x06q\\xdc>7\\x84\\x8c\\xf9%EI\\xff\\x00f\\xbe\\xb2%y\\xf1g\\x9a\\xc9\\xde\\xde\\xbd\\x9d\\x0b\\xde\\x85\\xb3k\\x98,\\x95\\xcc\\xb0>!NRA$\\xc3x\\xe5*?\\x04\\xb9\\x81\\xff\\x00\\xf45\\x10\\x19\\xf3\\xb1TY\\xa3\\xdcN\\t\\xa2H4\\xe2\\x1eMi\\x9fc\\x9bc\\x89\\xbdk\\xeb\\xf1i.G\\x89\\xa7E\\xb0g\\xa8~l\\x86\\xdbF?\\xd8C\\xbf@k4$r+m\\xfb4\\xd9[\\xd3\\x1d\\x92\\xda\\xae.4\\x14\\xfe\\xac\\xbe\\xb91\\xe7\\x12yL(\\x89TvR\\xa1\\xff\\x00\\xee[\\xe7?\\n\\x12\\xe0h\\x9a\\x9e{{\\xec/\\x01\\xc0\\xeeH\\xe3\\xcb\\x8a\\xa5\\x9fe\\xdb}\\xbdr\\x1b\\x01\\xd8o\\xa0\\xa1\\xe4+>\\x15\\xfa\\xfdz\\xd5\\xe4y\\xb6xF\\xe4\\xed\\xe7\\xd0\\xd5{q\\xb1\\x80\\xc4\\xc6YN\\xe8\\xd2A#\\x03;\\x15\\xf2\\xa8\\x11N\\x8a\\x9c\\x87\\xecQ\\x14\\x83\\x90\\x13\\xb4\\x82|\\xc1\\xc5N\\xd0\\xb4\\xb0\\xa6\\xcb\\xa9\\xfb>\\x84z\\x8f1\\xf9UE\\xd9\\xd4\\x82\\x84;\\x15@\\x85\\xb4\\xf9\\x04\\x7f_\\xd2\\xac\\x19W\\xd1\\nb\\xa2\\\\\\x8a\\x19\\x88\\xea2\\xd3\\xe5$\\x00\\xa1\\xe4O\\xad\\x02\\x145\\xce*\\xf4\\xc6\\xab\\xbfi\\x95+|6nI\\x92\\x81\\xfc\\x0e$mW\\xd1$}E!\\xb7E\\xfd\\xa7\\xda1\\x08;\\x98\\x8e\\xf0S\\xbcp\\xa5\\xa5\\x039\\xf2\\xf3\\xa7~\\xd7\\x1ea}\\xa0\\xda\\xe5Ey\\xb7\\x13:\\xd8\\x86\\x9cP\\xfcJ\\x1b\\x823\\xf9&\\xbd\\xa1\\xe11j\\xb6\\xdcnk*R\\xe4\\xbe\\xa5n=r|\\xa8\\x04\\x933|\\x0b\\xbd=\\x1c(x]\\xdb\\xc1\\xe3\\xa8\\x15?\\xb4\\xab\\xde\\x1ey\\xb0B\\xbb\\xbe\\xbf\\x03T\\x85\\x91\\xd5?\\xa9e\\xbc\\xf7\\x84#\\xc7\\xf0\\xebWF\\x86\\xcc\\x8b|\\x99\\x8b\\xcf\\xdb:v\\x93\\xc6@\\xe2\\x88\\x07\\x88\\x12\\x03\\x93\\x1cc<\\xa4g4\\xea\\x83\\x85\\x11\\xe6\\x08\\xebQ{\\x1b\\x9d\\xee\\xab\\xba\\xa0\\x0f\\x0b\\r68\\xf5VMI\\\\P\\x0e\\xab\\xe2q\\x9cT \\xac\\x8d\\xcc\\xacc8\\x07\\xa8\\xa68\\x8c\\x7f\\xe1\\x92\\x00\\xe7\\x04\\x91O\\xb9\\to\\xe9\\xe7H#\\xb5\\xdd0\\xfa<\\x8aI\\x00\\x9f*\\x84\\x10\\xbb4*\\xca\\x1dQ\\x19Q\\xd8\\t\\xf5\\xce*H\\xeceG\\x83\\x11\\x05\\x04\\x02\\x81\\xcf\\x915\\x06\\x8b\\x99lY\\xe1\\';\\x970-x\\xfd\\xd4\\x9f\\xf3\\xab&\\xf2\\xac)\\x84\\x03\\x80\\x91\\x9a\\x81\\x1b\\x18aK#8\\x1c\\x13K\\x9dB!\\xc6B\\x90O{\\x9e\\xb9\\xafCo\\xc6\\xa3\\xfc4\\x9e\\xe0\\xf6\\xf5\\x94\\x03\\xc0>T\\x08H\\xad\\xc1\\t\\x86\\x90\\xc3hl\\x1eHB\\x02r~\\x94\\xbb;P\\xdf\\x974\\xdbjVc\\xa0|)\\xc5\\xce;\\xa4\\xfa\\xaa\\x90\\x83t\\xd1\\x8b\\xba\\x0f\\xca\\xa3\\x97U\\x13zb89\\xf1\\xba\\xef\\xfc{G\\xf5\\xa9D\\xb4\\xee\\xb9\\xb4G\\xc2\\xa2\\x92\\xd4\\x95k\\x15\\x15/\\xff\\x00/\\rn\\x14\\xf9\\x8c\\xc8 \\x1f\\xd2\\x98\\x81\\x97Y\\n\\x17\"\\x91\\xcaJq\\xf9Q\\x91\\x97\\xb1`\\xf9\\xd3m\\xc9\\xcc\\xdc\\xdb$\\x92H\\xe7\\x1f\\x1aX\\x85\\xa8t g\\xd6\\x89\\t\\x03O\\xeeH\\x1di>\\xac\\xd2\\xf1u\\xd6\\x8f\\xbei\\x8b\\x86\\xdfw\\xbc@v\\x19R\\x86v)i\\xf0\\xaf\\xe6\\x95m?J\\x04\\x17\\x161\\x9cc\\x1c\\xd3\\xcbK\\xc8\\x04q\\x8f:\\x04>&^\\xad\\x13,7I\\xd6\\xab\\xbb*b\\xe3\\x02C\\x91\\xa4\\xb6\\xa1\\xf7\\\\B\\x8aU\\xfa\\x83M\\x84V\\xb8\\xf6\\xdc\\xec\\xa8\\xe9\\xfe\\xd1\\xe5kf\\x9cb%\\x9bP0\\xcb\\x9d\\xd8\\'\\xbczp\\xf0:\\x84\\'\\x18\\xce\\x12\\x87\\x14T@\\xc2\\x8e2x\\xac\\x94\\xa4\\xf2qV\"\\xb7\\xb0z\"-\\xc5\\xa5\\xb8\\xe9S\\x8f,\\x846\\x84\\x8c\\x92\\xa2p\\x00\\xfa\\x91_M\\xac\\x9aq\\xbd;\\n\\x0e\\x9bF\\xc7#\\xe9\\xfbtk>\\xe4\\xa3h[\\xac#\\xed\\x96?\\xc4\\xf2\\xdd5\\x89}\\x9dt\\xe3Z\\x83\\xb6\\r:\\xab\\xa3Jr\\xdbf/^\\xe5\\xa5 \\x12\\xb4Cl\\xbc\\x11\\x83\\xc6\\x14\\xb4\\xa1\\'\\xe0\\xaa\\xdd\\xd6w}\\xe6\\x08z\\xecT\\x99O\\x95>\\xf3\\x8a\\x04\\x058\\xe1*Q\\xf8\\xf2Mt\\xea\\xe9T]\\xe9\\xa7\\x9c!\\xd7\\x04\\xae\\xc0\\xb2\\xe5\\xb9\\xc8\\xcaQ*lxs\\xe6)\\xb9\\xd6\\xb1\\xb9I\\xc8\\x1c\\xd2\\xcd:\\x82\\xcb\\xc1)_x\\x81\\xcaT\\x0er(\\xe9\\xf0\\xc8K\\xb8Fs\\x92\\x08\\xaeT\\x02\\xb7\\xd3\\xcc*\\x1e\\xb2\\x94\\x10>\\xcd\\xf5\\x95t\\xcf\\'\\xfe\\xd5g\\x14\\xb15\\x95\\xdb\\xa56\\x1dih>\\x0crx<\\x8fCPX\\xac%\\xbb\\xda\\x1e\\xda\\xa0I\\xf4=jS:Y\\x81-\\x89!{;\\xbc,\\x93\\xd3\\x03\\x9f\\xe9@&L\\xd4Wg/\\x0f\\xb2\\xf2\\x92[\\xb86\\xf0iaG\\xa3\\x88V\\xd4\\xfc\\xb8\\xc7\\x15<no\\xbcI\\xb2\\xd9\\xa3nV\\x17\\xef\\x12BG\\x00\\x0c\\x90\\x08\\xf2\\xe7?\\x95@-\\xb2\\x9a\\xbck9\\x85\\xc4\\xa5]\\xdb\\xee\\xbd\\xb7\\xa9\\x1e\\x99\\xf8\\xe5_\\xa5M4t^\\xea\\xe9>{\\xe3\\x1d\\xdbKYQ\\x1c\\'\\x83\\xc7\\xff\\x00T<\\x85\\x86\\xcbh\\xb1z[\\x0c\\xf0\\xe4\\x99%<\\x0f,\\xe7\\'\\xe1\\x8a\\xbft\\xfcD\\xc1\\xb3\\xb2\\xcaq\\x84\\xb6\\x05RZ2:\\xb5\\x06\\xa9nS\\x80\\x94\\xb2\\xc8^\\t\\xc8\\n=9\\xf9U\\xe39\\xf4\\xc0\\xb5\\xc8yG\\tm\\x95+\\x9f\\x82h\\x80\\x8fhW=\\xee\\xef\\xa8\\xe5\\x92~\\xd2hBy\\xe3\\x08H\\x1c~U+yD\\xc9@\\xc7\\x04\\x9f\\xce\\xa2\\x1d\\x996Sc/9\\x9e\\xf1\\xf7\\x0b\\xaa>\\xb9\\xa9AV\\xe9\\x9f/\\x8dB\\x0e\\xcb\\xf1!8\\xcei<\\x83\\xb1\\xa5\\x94\\xf5\\xd8E(A\\xca\\x004\\x96jN\\xc2\\xdbi+R\\xc6\\x00ORj\\x13$oE\\x0f|\\xbd:\\xf1 \\xa5\\x87J\\x11\\xf0\"\\xac\\x1b\\x82\\xbb\\xd7\\xf3\\xd7\\xca\\xb3\\xad\\xaf\\xb7\\xee\\xcft$\\xe1o\\xd4\\x17\\xa7\\x9c\\x9e\\xb9kL\\xa1n\\x86\\xa9H\\x87\\xe2#s\\xcb\\x04\\x01\\x8cr\\x13\\xb8\\x8ex\\xad\\r\\x02D{\\xa3Qg\\xdb\\xa4\\xb3:\\x0c\\xb6\\xd2\\xf4y,8\\x16\\xdb\\xcd\\xa8xT\\x95\\x0e\\xa0\\xd2\\xe7p\\x8e\\r\\x80\\xd3\\x05\\xc5t\\xd9Q\\xf5\\xab{\\xbc\\xf5&\\x9f.*\\rEe\\xbe\\xb9\\xcf\\x1f\\n\\x8f\\xff\\x00\\xae\\xc5B\\x12\\xcb1\\xcbi\\xf3\\xa7\\'\\x8f\\xdb\\xb4>\\xb4\\xd9c\\xe54\\xbd\\xc5f\\xe1\\xb7\\xf7EB\\x1c}9\\xb86}1P\\xa7\\x06ue\\xe1de=\\xc3-\\x83\\x9e\\xbfh\\xb5c\\xfe\\xbdjp\\xb1\\xfd\\xb5\\'\\xe2*\\x1b)]\\xd5\\xc1\\xf7\\x8e:\\x9d\\xc4\\xf9\\x90\\xa5\\x00?Z\\x99 \\x92\\xe2\\xda\\xdc\\x98\\xa5\\'\\x80\\x08\\xe7\\xce\\x94\\xefI\\xe1#q\\xf8RU<\\xc8m\\xc7d8CI\\x04\\xac\\x80~~T\\xde\\xd5\\xeds\\x9b\\x06\\xd5\\x15\\xe54yJ\\xcb{w|@<\\xd0rK\\x91\\x94[$\\xf0\\xdd!i\\x0bQ\\x03\\xd0\\xd4\\x9d\\x8d\\x9bGA\\x91U\\x83\\xa2\\xf8\\xac*-\\xb08\\xa2:\\xca\\x9e\\x96\\x10>\\x80\\x12~\\\\R\\xf8V\\x9dY1\\x91\\xef\\xba\\xa5\\x9bB0\\n\\xa2\\xdbb\\xf22:\\x17TI \\xfa\\x8cUN\\xd8\\xa1\\xd5o\\xdc\\x8b\\xfba\\xe9v5\\x0f\\xb3\\xd6\\xa7~K\\x0brE\\x9dL\\\\b(\\'\\xee\\xad.\\x04(\\xfc\\xb6-y\\xaf\\x95\\x8b@\\xdcs\\x81_Q{]\\xec\\xf2~\\xaa\\xec\\xb3X\\xd84\\xfd\\xce\\xe2\\xadM&\\x1aV\\xa6\\xa5Iq\\xdf{e\\xb5\\x87\\x16\\xda\\x01QNV\\x13\\xc1\\x1ec\\x07\\x19\\xaf\\x98N6R\\xb2\\x15\\x82\\xac\\xf3\\xf3\\xad\\x9e\\x9bUz\\xa5.\\xfeQT\\xe3\\xda\\xcb\\xdb\\xd9\\xa2\\xed\\xa74\\xfb\\xba\\xe6\\xe9\\xa9\\xaf\\x90m2\\x9d\\xb5\\xc7\\xb5\\xc3nS\\xa1\\x1d\\xebo\\xc8J\\xa4-9\\xfd\\xd40\\x01\\xc7\\xfe\\xe0\\xf5\\xad\\xb7\\xa7\\x1c\\x87|\\xb4\\xa6e\\x92dK\\xbd\\xb9\\x7f\\xfa\\x88/!\\xf6\\xc7\\xcc\\xa0\\x90>\\xb5\\xf2u\\xc7\\xbb\\xee\\x08\\x18\\x1e\\xbeunv/c\\x91\\x12\\x05\\xfbY\\xb5p\\xb8Z\\x8d\\xb9\\xd8\\xf0 \\x18O\\x16}\\xe2[\\xa5K!D\\x1eR\\x86[qDz\\xa9\\x19\\xf8\\xb7Sp\\x95\\xf2\\xb6\\x0f)\\x82\\x0b;\\x1fE\\xe2An\\x1b\\xc5M\\x9e\\xebz\\x8e\\x14\\x93\\x81\\x93\\xea:R\\xf7eJ\\x8b\\x84\\xbe\\xc0\\x92\\x80>\\xf28W\\xe5Y\\x9bDv\\xcb\\xaf\\xe4(E0\\x98\\xd5\\xd1Q\\xe1R\\xa5$0\\xe8\\xf9>03\\xfe j\\xfa\\xb3j\\xe7.v\\xf4\\x1b\\xc5\\xaee\\x8d\\xf08%h\\x94\\xd8\\xff\\x00m\\xb2N>`VB\\xb2,yV\\xe2rk\\x96\\xe5>\\x1c\\x8c\\xe3\\x8d=\\xbf\\x96\\x16\\xd1\\x07?:E\\xae\\'\\xa6\\x1e\\x91\\x9b<\\x84\\x95!\\x92\\x84\\x823\\xca\\xfc q\\xf3\\xa7\\xf2\\xe2gCL\\x845\\x1e\\xe0\\xc1\\x19\\x0e\\xc6XZO\\xf9\\x1a\\xa8\\xbbj\\xd4\\x0c\\xb3\\xa6\\xa2\\xd9ce\\xa5I\\x93\\xef\\x0e\\xa4\\x8cmi\\xb1\\xc7\\x9f\\x9a\\x94?\\xdd5cb\\xe0\\xa34\\x99B5\\xa5\\xd9yOx\\xf4\\x03\\xb3\\'\\xae\\x14\\x8c\\xfe\\x83\\xadN\\xa5\\xdd\\xd5\\x0e\\xc5\"+${\\xd5\\xcd}\\xc3g\\xa9\\xc1\\xe1G\\xf2\\xcdV\\xfaFG\\xbc\\xea\\xcfy\\xd9\\x84\\x98\\x8f!$\\xfaq\\x8f\\xcf\\x15/\\x8e\\xe2n\\xfa\\xb9\\x0c\\xb0\\x01b\"\\xc4v\\xb6\\xe7\\x04\\x8e\\x14\\xa2}rO\\xe5H\\x98\\xcd\\x17of\\x16\\x8fui\\xc7\\x94\\x9c\\x15a#\\xe4\\x00\\x00\\x0f\\xca\\xa4\\xbd\\xa2L0\\xf4\\xac\\xb4\\xa7\\xef\\xbd\\xb5\\xa1\\x83\\xfb\\xc4\\x0f\\xe5Kt\\xd4\\x01\\x06\\xdc\\xdaR9P\\xc98\\xe6\\xa2\\x9d\\xa8JS\\xa2\\xdf\\t\\x07\\x05\\xd7\\xb7q\\xe8\\x069\\xfa\\xa8S\\xe0BQ\\xa2\\x99\\xee,\\x10\\x87\\xff\\x00\\x10\\xe7\\xf5\\xa7\\x06\\x15\\xber\\x86GZ\\x05\\xa5\\xafv\\xb6GF\\x08\\xda\\x801\\\\\\xb4\\x9fxt\\xbcp\\x907)JR\\xb0\\x02GRI\\xe0\\x01\\x83\\xcdB\\x0f\\xe9\\xe3\\x1c\\xd6q\\xf6\\xbf\\xed\\x0fR\\xe8\\xdd=a\\xb3\\xe9\\x87\\x17m\\x89\\x7fL\\x81:\\xe4\\xca\\x88x\\xa5\\x05#\\xdd\\xd0\\xaf\\xc0\\x14\\x15\\x95\\x11\\xc9\\x1cd\\x0c\\xe5\\xd7\\xb4/iX6\\xa7\\x9c\\xb7vz\\xc4k\\xcc\\x96\\xd4R\\xe5\\xd2XW\\xba$\\x8e\\xa1\\xa4\\x02\\x14\\xef\\xf8\\x89\\t\\xf4\\xcdC\\xb5\\xee\\xbc\\xb0v\\xe1\\xd9\\r\\xce\\xd3\\xa8L[\\x16\\xb1\\xb5\\x83>\\x02\\x14\\xb2\\x19\\x92\\xea\\x13\\x85\\x06TzoI \\xa0\\x9c\\xe4\\'\\x04\\xd4\\xc8{Y\\x90my[\\x8d\\xc5\\x8c\\x85)d\\xedm\\xb6\\xd1\\xb8\\x93\\xe8\\x00\\xe4\\xd6\\xcd\\xf6e\\xbf\\xeb\\xae\\xcf\\xe0M\\xb4\\xea->\\xfc\\x8d0\\xe8/A\\x8a\\xec\\x945\"4\\xa2y)\\x078i`x\\x81\\xe8y\\x03\\x93T\\x17e\\xfa~M\\x8ad+\\xca\\x99\\xdf%j\\x05\\xc4\\xe3\\x96\\xd0z$z\\x13\\xe7\\x8ej\\xfa\\xb8\\xf6\\xdb\\t\\xa7\\x91k\\xd16\\xf5\\xea+\\xc1V\\xd9\\r\\xc6\\x04\\xa27\\x91S\\xaech\\xe7\\xcb9\\xcdg]\\xa8jM@\\xd5\\xd3\\xe9\\x14\\xa3\\xdd?%\\xde\\x8dy|\\xba\\xdcJf\\xc1\\xb6\\xc0g\\x18m\\x96\\x94\\xe3\\x8a\\x03\\xe2\\xb2z\\xfc\\x80\\xa5\\xa7P\\xa9\\x97\\xbf\\xb4C;@\\xe4\\xb4\\xe0?\\xce\\xa9\\x01w\\xbe)+\\x90\\xf3\\xed\\xb2\\xfa\\x8f\\x8b\\xbbNR\\xd8\\xf4\\x19\\xeb\\xf1>\\xb5cY\\x1f\\x8bt\\x80\\xda\\xcc\\x85:\\xa20\\xa1\\x9es\\xe6Mq\\xadM\\xab\\xc9\\xdd-%8\\xe0\\x9f\\xc0\\xed2\\xdbo\\x04?o\\xb8\\x90\\x0e\\tGvG\\xfc\\xd4\\x96\\xef\\xdb\\x04{\\x7f\\xbcL\\x83b\\x9d9\\xec\\x80\\xcb\\x0e\\xbc\\x86\\x02\\x81<\\x92\\xbeq\\x81\\xe5\\x8e}j.\\x88\\xe8H-\\xb6\\x921\\xc7<\\xd1\\x0f\\xc3m\\xd4-\\xb5\\xe0\\x021\\xd34\\xcbUiC\\xd2U\\x8d\\x87\\x87\\xfd\\xa7tb\\x1d\\x8c\\xb5\\xc6\\xbcES\\x8a(u2b\\x80#\\xaf\\xc9+RI\\x03w\\x91\\xc9\\x1e\\xb8\\xa8oh\\x1d\\xaa\\\\\\\\\\x9c\\x97\\xf4{S\\xa1H\\x8b1I\\x95\\x02\\xe1\\x19-/i\\x00\\xedu\\x04\\xe4\\x13\\x90A\\x07\\xa1\\x04U5\\xda5\\xa6E\\x8a_\\xedF#\\xc4-\\xcbZm\\xb7\\x10\\xe4p\\xf2\\x90\\xd9%M\\xb8\\x85+%\\xb2U\\xe1$rB\\x85L$\\xc8\\xb5^4\\x9e\\x83\\xbd\\xc7u\\xf7\\xef\\xd7\\x08\\xf2l\\xf2\\xdbX\\xc9\\x0e\\xc39A$\\xf5PA)\\xc9\\xce\\xe0S\\xd3\\x14\\xf2\\xb6\\xdd\\xb2\\xf6g*\\xae\\xb4\\xf6[\\x96\\xd7g~\\xd0z\\x7fS\\xddm\\x96\\x0b\\x9afi\\xedQ(-\\x1e\\xe9.*\\x90\\xda\\xdcO;[xxTT\\x06@\\xe0\\xf1\\x8e\\xb5h\\xcea\\xc7\\\\&:\\xd2\\xd3\\xe7\\x91\\xde\\x02P\\xb3\\xd7i\\xc7#\\xe6+$j\\r0\\xa8\\xb0\\xe3]#),\\xce\\x80\\xb6\\xa7\\xb0\\xb3\\xc9K\\x8c\\xac-C\\x8e\\x9c\\x023[\\x01o\\xa1\\xd56\\xe8\\x1e\\x15\\xa5+\\xfa+\\x9f\\xeb\\xfa\\xd1\\x84\\xdb+\\xb2\\n-4!B\\xd4\\x13\\x89\\r\\x94\\xa5\\\\\\x11\\xd7\\x1f\\x0c\\xf9\\xfc\\rx\\'\\xdd\\x90\\xe9\\'\\ti9O\\x1c`\\x9eA\\xf8\\x1f\\xd0\\xf2(n/\\xbas\\xba_!K(\\xfa\\x81\\x90\\x7f*I.B\\x98\\x8c\\xfb\\x8b\\tSm`\\xa8\\x1e\\x8bl\\xf0A\\xfa\\x1f\\xd2\\x9c\\xacs\\x8e\\xf8\\x01\\xb7Jr\\xf4G76\\xa29\\x1d3\\xfeG\\xd6\\xbeO\\xf6\\xd7l\\x87e\\xed\\x87^[\\xad\\x9fg\\x0e-\\xf6R\\x1aH\\xe8\\x07xN\\x07\\xcb8\\xfaW\\xd5\\x8bzsq\\x8f\\x11j\\xde\\n\\x92\\x85\\xf3\\xc9\\x01[s\\xf5\\x18\\xfa\\x8a\\xf9!\\xda]\\xe6E\\xe7\\xb4\\xadir\\x98\\xd0jD\\xbb\\xec\\xd7\\\\ltA/+\\xc3\\xf4\\xe9[]&\\xe5E\\xceR\\xe3\\x056rA\\xc7\\x1f!\\xc9\\xadwa\\xd30\\xb4\\xc7e\\x9aN\\xddqm*\\x9c\\xe3*\\xba>\\xc9%?\\xda%mP*O\\xef\\x06\\x12\\xcay\\xc60\\xae9\\xac\\xc1\\xa4l*\\xd4\\xfa\\xae\\xc3e\\x01D\\\\\\xee,EV\\xde\\xa0-\\xc0\\t\\xfa\\x0c\\x9a\\xd4\\xfa\\xaa\\xea\\xde\\xa7\\xd7/\\xb3\\x184\\xa8\\x8c\\xab\\xbcR\\xb7\\xe0\\x00O\\x81\\x03\\xe401Tj\\x9bO\\xb5\\x8bZ\\xf2M\\xbb9\\x8e\\x851\\xde2N\\xd6\\x15\\xb5H\\xdb\\x8c\\x03\\xfd*\\xe2\\x86U\\x15\\x08[AX\\x04\\x12w\\xf2\\x9f<\\x8a\\xaftl\\x06m\\xcam\\xe4\\xbc\\xd0yI\\xda\\xeaR\\x8e\\x14\\x9f\\xdd\\xcdX\\xe9d?\\x15}\\xc9\\xdaG#\\xcb5\\xc2\\x8b\\x9b\\x18\\xaf\\xfaz\"c\\xdd\\xdc\\xb1\\x96\\xf4\\xfc\\xf7\\xe3\\xf7\\xbf\\xb4a\\xb6R\\xe3jI\\xdcV6\\x9eT@#\\xeak\\'\\xeaMa\\x7f\\xd4\\xf2\\xdd7\\xeb\\xb3\\xf7\\x13\\xdd\\xa5\\xa6\\xdcu(\\n\\xee\\xc6|$\\xa4\\x0f2y\\xf8\\xd6\\xcerS\\x08\\x86\\xe2\\xe7%)\\r4\\xf2\\xd4\\xa2z$6s\\x9a\\xc40\\x9a\\xf7\\xb7\\xd02\\\\QZRO\\\\\\x92\\xa1\\xfet\\xf9\\xd80\\xc6^I\\x1d\\xa2\\xde\\xabs\\xf2^\\x18*b2\\xd2\\x92\\x0eS\\xe5\\xcdL\\xbb\\x1f\\xb7\\xfb\\xf6\\xa4\\x8c\\nS\\xb5.\\x15\\xab\\x9eF\\x06O\\xe6M4\\xdc\\x19m\\x91-\\x96G\":\\x8f\\x1dpr\\x05Y=\\x81[\\x0b\\x8e\\xcc\\x9c\\xa1\\x96\\xdb\\x01\\x00\\xff\\x00\\x11<\\xfc\\xf8\\x15|J[\\xce\\xe5\\xecKp\\xa28\\xeb\\xbe\\x16\\xdbFI\\xcdW\\x9a\\xc6#\\x8b\\xd66f\\xc9R\\x90\\xecT;\\xb7#\\x8c\\xadY\\x1c\\xfc\\x85K\\xb5$\\x9e\\xf5\\xfb=\\xad\\xb2\\x02\\xe7\\xca\\x1b\\x87\\x99B<J\\xfe\\x94\\x9bR\\xc2\\x0e\\xeb\\x9bJ\\xf6\\x9d\\x89\\x82\\xa4\\x9e=\\x14\\x7f\\xce\\xae*\\x1c^pG\\xb7\\x12|\\x93\\xc6\\x07\\x9dT\\xfd\\xb4\\xb7t_eG\\xf6[\\xcbf!\\x96\\x84\\xdc\\x92\\x8e\\x14\\xe3\\'8\\x04\\x8f\\xc1\\xbf\\x19\\x1e~uc\\xea\\tE\\x11\\x92\\xc2~\\xf2\\xd6\\x94\\x1cy\\x12h\\xdb\\xcb\\x16\\xb6t\\r\\xed\\x1a\\x95\\xd1\\x1e\\xcem\\xee\\x89N\\x11\\xbb`\\xc7\\x84\\x81\\xe6\\xad\\xdbp<\\xce(\\x0c`\\xd5\\x8e\\x06\\x06\\xd0\\x07OJH\\xf4\\xa3\\r\\n|\\xa1N\\x86\\xd3\\xbbbz\\x9fLR\\xd5\\x92y\\xc1\\xe4\\xe7\\x91\\x83\\xf9Qm6\\x14@#)>\\xa3\\xfaR2\\xd8\\xb4\\x9e\\xe0\\xed:\\xd2D\\x88q\\xe1!\\xb5\\xc1m\\xd5\\xec\\x94\\xb4\\xab\\xc4\\x84\\x93\\xce\\xc5\\xf5\\x07\\x1cg\\xa8\\xe6\\xae\\xabt\\xbd3\\xa1\\xf4\\xf3r\\\\v-\\xb6\\xd0\\xc8\\xfb4\\xa7\\xa6\\x7f\\x9a\\x94}z\\xf3T\\xc3l0\\xd3\\xf8-\\xa5#\\xae\\x00\\xe0\\x9ap\\xb1C\\x81s\\xd5\\x8cJ\\xd4(r\\\\v\\x19\\t\\x88\\xd4\\x93\\x96[p\\x13\\x95l\\xe8z\\xf0O\\xf9VU\\x95v\\xbc\\xb3j\\x9b\\xfb\\xd6\\x17%\\xbbo\\xd425r\\x13.\\xd8\\xca\\xe3Y\\xd5\\xcc]\\xcd\\xa9.<0\\tY\\x04\\r\\xa9\\xcfN9\\xa9\\xe6\\x8c\\x9am\\x8f\\xb9\\x1er\\x86\\x16\\xa1\\xdd\\x80\\xa1P\\x98\\xd7\\xf5<\\x89\\x10\\xf4\\xe2\\xa3\\xca\\x9a\\xd9\\tvK\\xdb\\x8b,(\\xf9d}\\xe5\\x01\\xce\\xde<\\xb2iC6\\xf6m\\x05\\xb9\\x93\\xe78\\xf3\\xc9V\\xe5>\\xfa\\x86V|\\xf8\\xe8>^U\\xc6\\xd6\\xe7zi\\xac\\x17J\\xc0V]\\'\\x03\\x1e\\xb8\\x14\\xdd2lhm*D\\xa5\\x86\\xd8lek*\\xe0\\x0f\\x9dC]\\xed\\x05\\xab\\x8a\\x98\\x8bkbE\\xd2N\\xcd\\xc2$\\x16\\x94\\xe2\\xd7\\xf1$\\x0e\\x07\\xc6\\xab=sl\\xd5\\xfa\\xf0\\xc9f\\xe4\\xb9\\x96\\x11\\r\\xf4\\xaa4\\x06\\\\,\\xf3\\x80\\x12\\x85\\x0f\\xbc\\xb5\\x1c\\xe7\\x91\\xf4\\xc5]\\n\\xa5/\\x07\\r\\x96\\xc6\\x1bdS\\xda\\xf7h\\xfar~\\x99\\xba\\xc1\\xb6J\\xf7\\xa9\\xb3CH\\x8c\\xd3g?j\\x1cI\\x0e\\x1f\\x90\\x06\\x92\\xa7U3\\x12\\xcb\\xa6[\\x81\\x06\\xe0\\xe3\\xce_d]\\x99R#$\\x85E-\\x96V\\xe6\\xf1\\x92S\\xca\\x8e\\xe3\\x81\\xe5\\xd6\\xa2Wm\\x03\\x06\\xdd=Q.\\xcc\\xdc\\xd7q\\x835\\xc4:\\xd2f$:\\xa6\\xf0\\x02\\x1bR\\x8a\\x02R3\\x95nJI!C\\x06\\x91\\x16\\xaf\\xff\\x00\\xe9\\x11\\x8em\\xd2\\x13\\x1e\\\\&\\x98T[|S7sM\\x05)\\xb1\\xb9(\\xdc\\x80\\ns\\x84\\x84\\x823\\x9c\\xd7K\\xaf1Y\\xf0q)\\xfc\\xcd\\xfb\\x93\\x89\\xfa\\xd6L\\xcb\\x1bL\\x15\\x97&\\\\\\x1c\\xf7(\\xec\\x84\\x9d\\xca\\x0e\\x90\\x84\\x82z\\xf1\\x9c\\xe2\\xb6l\\x89)\\x88\\x96\\xe3\\xf7\\x99-4\\x96r9\\xc9\\x1bS\\xfd\\rd.\\xc9{;\\x9e\\xf6\\xb1\\xb6\\xea]em\\x95f\\xb4YV_\\x88\\xdc\\xe6\\x8bNL\\x91\\x8c \\x84+\\x90\\x84\\xe4\\xab\\'\\x198\\xc5hIZ\\x89\\x99\\x0e\\xa5m,\\xba\\xe6|\\x08\\xf5Q\\xe3\\'\\xf5\\xa5\\x84p\\x84\\xba]\\xcd$K\\xaeW4&t4\\xee\\xc9\\xef{\\xc2\\x01\\xfc)\\x1c\\x9f\\xca\\x8b\\x97=.Z\\x1co#s\\xcf\\xa22A<\\xe5K\\x07\\x1fD\\x83P\\xc97\\x06\\xe1\\xba\\xb7g:\\x0c\\x85\\xb7\\xb5\\tQ\\xfb\\xa9\\xceI#\\xfe\\xb8\\xa0\\xa2\\xee\\x88\\x9d\\xc3\\xd2T\\x03,\\x15,w\\xce\\x06\\xc1\\' \\xb8\\xa5\\x1e\\x06\\x01=qL\\xca\\xb0X(\\xb8\\xb3\\x0fQ\\xb3.C\\xa9f$v\\xdc\\x93%\\xd5\\x1e\\x10\\xd3cr\\x94~\\x00d\\xd7\\xc8MAtM\\xebP]\\xee\\x8dd\"|\\xe7\\xe4\\x80\\xa1\\x83\\x85\\xb8\\xa5\\x0f\\xd0\\xd6\\xa9\\xf6\\x86\\xf6\\x92\\xb5^ J\\xd1\\xba2\\xe6$\\xc3\\x96\\xd0j\\xf1r\\x8a\\x92\\xa4:\\x8e\\t\\x8e\\xca\\xfc\\xd2O\\xdf_B\\x00\\x03#&\\xb1\\xea\\xd4\\x02\\xd4\\x1a$\\xa0\\x1f\\t\\xc7Q[Z}4\\xab\\xa7\\xd5mo\\xe3\\xc9\\xc99e\\x97\\x07d0XGk:Ux\\xe6+\\x12\\xe6d\\x1cn\\\\x\\x8f:\\x9c\\xfdP3VWg\\xdaz\\xe0g\\xc7\\x9dx\\xb5HCS\\xd0$GzCJG|\\x8e@Z\\x01\\xc6RH +\\xa7\\xa5C=\\x95\\xa2\\xfe\\xda\\xed\\xf3ME\\xb8\\xc4M\\xc0\\xfb\\xad\\xc8\"*\\x87\\x81\\xc5{\\x93\\xb8J\\x89?w\\x9ekJ\\xeaT\\x1b\\xbfj\\xfa\\x94\\xae2e;\\x15ha%Sv\\xa0%\\x00\\x04\\xa1\\x03\\x18JG\\x90\\x1c~u\\xd5\\xd6\\xef\\xabS\\xad\\x9c\\xeaX\\x8e\\xdfbT\\x9ca\\x86M\\xb4\\xfcW\\x18\\x8e\\xd8b\\x0bM\\x022F\\xf0\\x9e~\\x95!i\\xb9I\\xe1\\xc8\\x84\\xb7\\xd1E\\xb7\\xc1\\xc0\\xfa\\x81\\x8aj\\xb40\\xe2\\x1aHS2X\\x04d\\x86\\xe4!@\\xfdO4\\xf2\\x85C\\x1e7\\x94\\xa7\\xca\\x07E8W\\x83\\xf4\\xe2\\xb0K\\x88\\xbfir\\xa3\\xdbtF\\xa3\\x91\\x1d)\\x04CS(\\xe7\\xcdj\\x08\\xc7\\xe4Me\\x8d#\\x04:\\xebKV~\\xf1u_,\\xe4V\\x9a\\xed\\x9d\\xf45\\xd9f\\xa1R\\x19B|,\\xa1\\t\\xc8\\xc8%\\xd1\\x83\\xfaV}\\xd2L\\x96\\xed\\xb2\\\\\\xe8[d$\\x13\\xe5\\xcf\\x15f6A\\x8f\\x0cq\\x98\\xa4\\xae\\xef!\\x08>\\'\\x1b-\\xab<d\\xe3\\x8a\\xbc{\\x0e\\xeeQ\\xa4\\xd6\\x8ca\\xf4LXQ\\xf9\\x80G\\xe8k;\\xddf%\\xbb\\x82\\x960:(\\x03\\xf2\\xcd^\\x1d\\x89\\xdc\\x03\\xd1.- \\xe5\\x05\\xc4:\\x06:e8?\\xa8\\xab\\xd7%MlL\\xd3$\\xcc\\xed\\x8cDQ\\xdc\\xdd\\xb2\\xd8\\x8e=\\x16\\xe7\\x88\\xfdq\\xb6\\xa6\\x17\\xe8e7F\\'\\x04\\xe7k;s\\x9eG<\\xd5o\\xa2%~\\xd2\\xed\\xab\\xb4\\x07A\\xc8\\x8e\\xa6X\\x18\\xe86\\xa5)\\xfe\\x86\\xad\\xcb\\xc2\\x03\\x91\\x14O\\xa5X\\x84d\\t[\\xa7^\\xd0\\x83\\x82\\x94\\x8d\\xe7>g<Tk\\xda\\x16-\\xc5\\xfd\\t\\x02=\\xbd\\xa5\\xb9\\x14\\xdc\\x12\\xa9a\\xb4\\x92N\\x12vd\\x01\\xd3w\\xeb\\x8a\\x99\\xe9\\xd8\\xa1\\xe9\\xafH# qS\\x04:\\xa6\\x08q\\xb2RRx\\xc1\\xc5@\\x9f<_\\x8a\\xd3Q\\xdf\\x0f)\\xf6\\xee\\x08y)C\\x05\\x8f\\x08N\\x0e\\xe2\\xa5\\xe7 \\xe7\\x8d\\xb8\\xfa\\xd11\\x99\\xdc\\xb1\\xce\\x08\\xf3\\xf3\\x15\\xa1u\\xdf\\xb3\\xd5\\xfa\\xe9\\xa8\\xe5\\xdc\\xf4\\xe4\\xc8R\\xe3\\\\\\x1f[\\xeb3\\x1f\\xee\\x96\\xc9R\\x8a\\x95\\xbf \\xee\\x1c\\x9eG\\xa7J\\xa7\\xd1hm\\x99\\x12\\x19\\xb7<\\xab\\x88eE\\xb0\\xe3l\\x14\\x87U\\x9cx\\x11\\xf7\\x88\\xcfN3\\xd3\\x8a\\\\\\r\\x922\\xaf\\x13\\x87#\\xa7\\xe9K\\x1eOx\\xd2ZV\\x10\\x82F\\xf5\\xa4x\\x88\\xf4\\x07\\xcb4\\xe1\\x1a\\xdf>\\xd7:JdZ\\n\\xdf\\x84r\\xfbr\\xd9*K*\\xce<i\\xe3\\x07>G\\xf2\\xa4n\\xab~\\xee\\x99\\xcf \\x0c\\x0f\\xa5U(\\xe7b\\xf8I\\xc5\\xa6*\\x87\\xac\\xed\\xfd\\x9d\\xc3!yv\\x1a\\xf3\\xdd\\xc5m;\\x96TG\\x91\\xe83\\xeaO\\x9f\\x9d:D\\xd4Lv\\xa3\\xa1c\\xea\\x0b\\x02\\x85\\xa3[ii\\xbb\\xee\\x91VW%\\x95FR\\xd4\\xa6e\\xb6\\xda\\xb8!9\\r8:tV\\x06i\\xba\\xd3a\\xd2\\xd7\\xf8\\xb7[~\\xb1\\x9b.\\xda\\xeb\\xf1\\xf6\\xdb_i\\xad\\xd1\\xd2\\xf1=^#\\xc4\\x07N\\x83\\xe3\\xe5\\x8a\\xaa\\xf4\\xd6\\xa0\\xbb\\xf6U\\xad\\xe3\\xdd \\xa5\\x0e\\xcb\\xb7\\xb8[\\x90\\xc2\\xb0\\xa6\\xa6\\xc6W\\x0e4\\xa0x(Zr?ZHS\\x08\\xef\\xcb,\\xbbQd\\xb6\\xe1\\x1fN\\xfb\\x1e\\x8f\\xa7\\xaf\\xfa&\\r\\xfbNom\\xdb\\x8aO\\xed\\x05(\\xa4\\xbe\\x89I\\xc0y\\xa7H\\xe9\\xb5C\\x01#\\x03n\\xd2\\x06\\x0ehz\\x8fGY\\xae\\xf7f\\xe6\\xdea\\xa6c\\xc9\\x01\\x97\\x02\\xd6\\xad\\xab@\\xce\\x02\\x93\\xe7\\x8c\\x9a\\xcf\\xfd\\x93k\\xab_f:\\xa2-\\xde\\xcd5N\\xf6a\\xad\\x90\\x97\\xc1P\\xdd\\xee\\x0e\\'\\xc2J\\x8f\\x18[*!\\xb7\\x07R\\xde\\xd5s\\xb2\\xb5\\x1d\\xd9;d\\xb8\\x01\\xcf\\x88\\x1c\\x83\\x90A\\xe4\\x11W\\xafc\\x8f>D\\x97M\\x03o\\xbd\\xea\\x18\\xd7\\xa9=\\xd7~\\x94.;\\x81M\\x82\\x92\\x97\\x1a\\xee\\xca\\xc0\\xc7\\\\\\x04\\xe3\\'\\x03\\x06\\xb3\\x1e\\xae\\xec\\xde\\xfd\\xa2\\xf5%\\xb2\\xe12\"\\xe2B\\x88\\xb7\\x10\\'0v\\xf7\\xe5@%>4\\xf3\\xf7J\\x8e\\t\\xe3$V\\xc3\\x85\\xf6\\xd1\\x9a!X*JA=yM\\x13\\x7f\\xd3\\xb0u]\\xb16\\xab\\xba]TG\\x1fB\\x8ft\\xbd\\x8a\\n\\x04\\xe0\\x83\\xf5\\xa5iKfD\\xda>>\\xc5\\xed3W\\xe9\\xbb\\xf4\\xe96\\xadC<\\x13!\\xc4\\xad\\xb9\\x0f\\x19-\\xad!g\\x01Hs \\xf4\\xeb\\xd7\\xe3VF\\x95\\xf6\\x89\\xd6s%\\xa22\\xdd\\xb5EJ\\x81\\xdc\\xfbV\\xf1\\xde\\x13\\xe47(\\x9c}1\\xd6\\xa9\\xadO\\t0\\xb5\\x05\\xe5\\xa6J\\x94\\xcbW\\t\\x08mG\\xa9Hu@\\x1f\\xd2\\x9bXJB\\x87}\\xde!\\'\\xf1$\\xe3\\x15\\xab\\xa2\\xaa\\xb5tge}\\xcb\\xea+\\x94\\xb8\\xc9o\\xeb~\\xd7u\\xa4P\\xd9\\x87\\x7f\\x93\\x1dO\\xe4:\\xa6\\xdb@Q\\xf9+nG\\x1e\\x86\\xaak\\xae\\xa2\\xbc_\\x96\\xa5_.\\xf7\\x0b\\x9a\\x96r\\xa3.Z\\xdd\\xc9\\xff\\x00h\\xd1W\\t\\x92\\x1e\\x08\\x8f!\\xf5>\\x86\\x7f\\xbbR\\x8ex\\xa4JB\\xc27\\x94\\xabg\\xefc\\x8a\\xd0\\xea\\x15\\xd1u\\xcetV\\xa2\\x92\\xe1.\\x04NIa\\xbc\\x8e,\\xc9\\x88Z\\x08q \\x11\\xea:Sk\\xb8+%$\\x01\\x9e1\\\\OP)\\xc9\\xbb$\\x97\\x90\\x16\\x84\\xa7i\\xf5\\xebIJ\\xb7W\\x1e\\xc8\\xc38\\xf6\\x0f&\\x8c\\xf6=\\xb6\\xb2{|\\xb6]\\x061b\\xb3\\xdcn\\x0b\\xde\\xad\\xa9\\x1fc\\xdc\\xe4\\x9fO\\xb6\\xabb\\xc4\\xb2\\xec\\xd9\\xb2\\xe6\\\\#NzT\\xc7\\\\q\\xd6\\x9a[\\xa5\\xd0Vp\\xa0\\x7f\\xe8\\x01T\\xff\\x00\\xb3K\\xaf\\xe9\\xbb\\xdfi7\\x86\\xf9L}\\x0e\\xfcn\\xf0\\xa3v\\xc7$Ja\\t8\\xf8aG\\x1f\\n\\xb64+kL&U\\x0et\\xf7\\xdbJ\\x12\\x8f\\x04\\x11\\xe0\\x18\\xe9\\xc9\\xe7\\xce\\xb1\\xb5\\xef7\\xcbo\\xfd\\x82\\xe4\\\\\\x96\\x854\\xa6\\xd2\\x04gT@\\xc8*O_\\xa5H{\\xd2\\x96\\x02R\\xc1G\\x9aGw\\xb4c\\xd6\\xa3VYR\\x14\\xa0\\x86\\xe3\\xc9Q\\xc6\\xec\\xba\\x94\\xa3?\\x1f\\x95HV]SI\\x0e\\x84\\x02\\x900\\x90\\xbd\\xdf<\\x9e\\x95\\x9a9^v\\xf111{8\\x93\\x13\\x94\\xaa\\xe1-\\x96\\x80H\\x00\\x14\\xa7+Q\\xfd\\x07?\\x1a\\xa5\\xac\\x8c\\xa6\\x0e\\x95\\x0e\\xab\\x85Jp\\x00\\x7f>\\xb5q\\xf6\\xed\\x11R\\xec\\xdav\\x12\\x0f2.JI\\t?\\xc0\\x01\\xfedUi\\xab\\x9aj\\x15\\xb6,V\\xc8JR\\xe6\\xc0:\\xf4\\x1f\\xe5\\xcd:\\xf0\\x1c\\xe2%m\\x7f\\x91\\xb6\\xe4\\xa0\\x92N\\x10\\x8e3\\xc0\\xe2\\xad\\xefg{\\x88z|\\xe8\\xe5i\\n\\x01<\\x11\\xe5\\xbb?\\xd6\\xaa\\xedef\\\\Kf\\x9e\\xbe\\xb4Tc^\\xa1\\xa9\\xc4\\x921\\xb5m\\xa8\\xa4\\xa7\\xf2\\t?Z3\\xb2\\xadR\\xad3\\xa9\\xd51G)\\x0c,\\xe3\\x92\\x14BN\\x06<\\xfa\\xd7B*\\xe5\\x1a\\x03\\xb0\\x17Uu\\xd4\\x9d\\xa0]\\xd4\\x0e\\xd9\\x17U\\x04\\xe5>ED\\xf3\\xf4\\xc5]w\\xd7\\x8bv\\xd76\\xfd\\xe5\\r\\xa0c\\xcc\\xd5G\\xec\\xc5k\\\\]\\x02\\xf5\\xc5\\xe4\\x90\\xbb\\x9d\\xc1\\xd7A\\xc6\\tJp\\x9f\\xe6\\r[\\x970\\x1e}\\xa6\\xc8 \\'\\xc5\\x8fZq\\x1f\";D1\\x12:\\x11\\xd5G\\xa9\\xf8\\xd2\\xc7\\x17\\xbd\\xd4\\xb4\\x8c\\xe0u\\xaf)\\xc1\\x1d\\x85,\\xf0q\\x91^\\x80\\x82\\xbf\\xb5X9W\\xd6\\xa0C\\xe4\\x8d\\x8cxx5V\\xd9\\xec\\x16\\xd8Z\\xc6D\\xab<\\x06!\\x86\\xd5\\x90[\\x1f\\x8c\\xf2H\\xf4\\xf9\\n\\xb2\\xaf\\xaf\\xfb\\xbc\\x07\\x16:\\x84\\xf1P\\xfd9\\x1f\\xfbK\\xab\\xda7)d\\x92\\x0fZ\\x84\\x10\\xdd;\\x10\\xd3\\xf7\\xd5\\xceP\\x9fq\\xb7~\\xd2\\x92$:\\xdbE\\x0bGy\\x9c\\xfe!\\x9cd\\xe7\\xaf\\x15\\x94.\\xb6Y\\x16\\xbb\\x9c\\xb8rP\\xa4\\xbb\\x1d\\xe56\\xb4\\x91\\x8eRq\\xd3\\xe9[\\xe5\\r\\xe5)\\x1dES\\xdd\\xb1vboR\\xd5\\x7f\\xb1\\xb1\\xbeb\\x80L\\xd6\\x07\\xdes\\x1c\\x07\\x13\\xf1\\xc7Q\\xf5\\xa0\\xd6B\\xa4\\xd1\\x96]`\\xb7\\x82\\xa0q\\xe9\\x8a~\\xd5\\x9d\\x8eJ\\xd5\\xba\\x0f\\xfd \\xb0\\xb5\\xdf^-\\x88S\\x8f\\xb0:\\xbc\\xc0\\xe5J\\x1e\\xbb@\\xe4zs\\xe4hW\\x9b[\\xd1f\\xc7\\x8c\\xebKa\\xfd\\xc0mZH<\\x9fC\\x8a\\xd2=\\x9f%\\xdb<\\x08K\\x8f\\xc3\\xac\\xe0\\xa79!_\\x03\\xea\\x08\\xe0\\x8f\\x89\\xaa\\x1bqe\\x9c\\xa3\\x19\\xf63\\xacaCT\\xcd\\x15\\xabd\">\\x9b\\xbf\\xb8\\x17\\x16[\\xa3\"\\xd5q\\x00\\x84=\\xf0B\\xff\\x00\\xbbpy\\x85g\\xca\\xb67bz\\xdaj\\xd0\\xfe\\x80\\xd5\\xe1l_\\xac\\x89Sp{\\xd5nS\\xb1\\xdb\\xfb\\xcc\\xee?yM\\x8eR\\x7f\\x13D\\x1f\\xc2k9\\xfbSv*\\xce\\x8e\\xba\\xb3\\xab\\xb4\\xcce\\r%~Q%\\xb4\\x9c\\x88R:\\xa9\\xb3\\xe8\\x9e\\xb8\\xf2\\xc6=\\r&\\xd1\\x1a\\xa6\\xf3\\xae\\xf4\\x8b\\xb2ls\\xc4n\\xd1\\xf4+,\\xcaea\\xb2\\xa7.\\x16\\xf6\\x8f\\x85\\xf4\\xe3\\xab\\xacgj\\xd3\\xf8\\xdaY\\xeb\\x8cU\\xb8\\xf2S\\xc3>\\x8aY\\x9d\\xccr\\x9c\\xf2\\x82\\x08\\xf9S\\xccC\\x97\\x87\\x84\\xa8\\xa4\\x95\\x00:\\x92\\x015W\\xf6;\\xda$\\x1e\\xd3t\\xa4-A\\x01\\xa1\\x11\\xe7\\x87up\\x85\\xff\\x00\\xe2J\\t\\x05H\\x1e\\xa8P!hW\\x9a\\x14>5e\\xc5V\\xc9i\\xc9\\xc7)\\'\\xf3\\xe6\\x80O\\x8a\\xd7\\xd7\\x17*\\xef :\\x02W\\xef\\x0e\\x15\\xa7\\xd1Ed\\x91\\xf9\\xd1R\\x1bT\\x86\\x08RBBRrjg\\xdb^\\x9foM\\xf6\\xbb\\xab-1\\xbc\\x08\\x8dv\\x90\\x07\\xd5\\xc2G\\xe8ECd\\xab\\xbaJ\\x91\\xbb\\x01c\\x195\\xec\\xf4\\x13vQ\\x90\\x11\\xf5\\x12q\\x9f.)ca\\xd5\\xc0SJ|\\x86\\x81*\\r\\xe3\\xce\\x93\\xa9\\x01\\xb5\\x90FG\\xad82R\\xe2\\x13\\x9cxF~u\\xc7\\xa7\\x8b\\x8d\\xb2\\xcb\\xc6|\\x00k\\x08\\xc1\\xe4T\\x99\\x97\\xd0\\x96\\x93\\xb1\\xc2\\xa4\\xe3\\x83\\xc9\\xa698Z\\x89\\xe9\\xcf\\x15\\xe8\\xe8QA\\x00\\xa8`\\xe3\\x8a\\xee\\xd1\\xff\\x00\\x85\\x93\\x8a\\xf2N\\rG\\xec\\xedmU\\xd3\\xb3\\xbe\\xd6n\\n\\x9dn\\xb7\\xb6\\xfb\\xd6\\xc8i~|\\x8e\\xe9\\xa6\\x92\\x84\\xbe\\xe2\\xb7pI\\xc9\\xda\\x12\\x90\\t*\\xf9U\\x9f\\xd9\\xdcD\\x88\\xbf\\xd9\\xe5H\\xb88\\xcaB\\x88\\x8a\\x8d\\x89\\xdaG\\x1f{\\x07\\xa0\\xebU\\x1f\\xb2m\\xb1\\x9dUc\\xd6\\xfaz[H\\x92\\x1e\\xb8[$\\xb2\\xcb\\x8a\\xc0[\\xa8bhO\\xd3qA?\\x01\\xf1\\xabwAGIHJT\\x89\\xb2\\xd4\\x0fx\\xfb\\x01I\\x1d\\xd8\\xf29\\xea\\x07\\xfd\\xab\\xc5\\xea\\xad\\xf5.\\x9c\\xbe\\xa5\\xb1_)k\\xd9\\xd17k\\xae\\xa86\\xd2\\x13\\xe1\\x01\\xe7;\\xc5\\x8f\\xa0\\x1f\\xd6\\x9e[mkHK\\xae\\xef\\xdc\\xa00\\x12\\x12\\x0f4\\x86\\xd6\\xc1n+\\r\\xe3\\xdd\\xb7\\'p\\xdb\\x85dyg\\xd2\\x9dc\\xb2[ZHR\\xd4\\x01\\x19*\\xc7\\xadr\\x0f\\xe0\\x81v\\xcb%\\xb8\\x7f\\xe8\\x12\\x9eP\\x06V\\xa8n+c\\x19\\xce\\xe6\\x96I\\xff\\x00\\x85?\\x9dE\\x91c\\x0fh\\xedW\\xa9\\xa4\\xb5\\xde{\\xa5\\xb2L[rH\\xc82\\x1e!\\xb2\\xa1\\xea@;G\\xcc\\xd4\\x7f\\xda\\n\\xfe\\xfd\\xf7\\xb5\\xfe\\xc9t\\x9d\\x94\\x17\\xfd\\xcer\\xee\\x0e\\x84\\x9f\\xbc\\xb2\\xbc~\\x89e_\\xad]Z\\x8e\\xc8\\xa8ZJ\\xcdfc\\x96\\x19q\\n\\x94@\\xe5E>/\\xf9\\xab\\xa2\\x11\\xe1\\x88\\xe5\\xb6\\nk\\xb4\\xbd<\\x98]\\x8c\\xda!\\xaf=\\xfd\\x8d\\xa6\\\\\\x07\\xa1\\xf1\\'k\\x83\\xf3 \\xfd+?\\xd8\\xe4\\xfb\\xad\\xcd\\xa7GD\\xe7#\\x1fxt#\\xf5\\x15zv\\xf7tv=\\x92\\xd7n\\xce\\x119\\xe5:G\\xaa\\x11\\x8c\\x0f\\xcc\\xfaUM\\xd9\\xb5\\x93\\xf6\\xfe\\xb9\\xb2\\xc1\\xc1R\\x15 -\\xccy!>#\\x9f\\x87\\x02\\xad\\xc0\\xa9\\xe0\\xdc}\\x9bY\\x13\\xa7t]\\x92\\xd8\\x84\\xed\\xf7x\\x89\\xdc\\x0f\\x1e%eG\\x8f\\x9a\\xaaK)\\tQ\\nP\\xe4\\x0cf\\x8b\\x84\\x00lu\\x1cP\\xa6+j\\t\\xeb\\xf0\\xa2 \\xd9-]\\xe2\\xc3c\\x80:\\xe2\\x9d\\xa2\\xb6\\x10\\xd2S\\xe8)\\xa22{\\xd7\\xcf\\x19\\xc1\\xa7\\xc1\\xe0l\\xfa\\n\\x81#\\xda\\x91\\xdd\\xc8\\r\\x9e\\x94\\xdf\\xa6#\\x10T\\xa3\\x8c\\x13\\xc6\\x05wQ,\\xa9\\xa5\\x94\\xfd\\xe5\\x10\\x94\\xfc\\xe9\\xda\\xc5\\x14\\xb0\\xc2F0p3P#\\xdbi\\x00|>t\\xc9ww\\xc2\\xa4\\x83\\xc98\\xa7\\xc5\\x1d\\xa9$\\xd4^\\xe2\\xbe\\xf5\\xef>\\xb8\\x1c\\xf9\\xd4 \\x8eN\\x90\\x81\\xabm\\xc6%\\xcd\\x94\\x95\\x8f\\x14i\\x18\\x05l\\xaf\\xc8\\x83\\xe9\\xea:~T\\xd9o\\x82\\xbb{\\xce\\xc3\\x92\\x8d\\x8e2v\\x11\\xe9\\x8a\\x9fZX\\xee\\x9a@#\\xf0\\xd2mYh$\\xb7ra<\\x00\\x1b|\\x03\\xfe\\xea\\xbf\\xa5U5\\x942x\\x1b`Zm\\xba\\xcbM]\\xb4\\x8e\\xa8m.[.hWv\\x08\\xc9mc\\xf1\\xa7>`\\xe0\\xfe~\\xb5\\xf3\\xebTvo\\x7f\\xecg^\\xcaiW9v;\\x95\\x99\\xf0\\xe4\\x0b\\x9b\\n \\xba\\xc2\\xc1N\\x1bP\\xc6\\xe5\\x14\\x126\\xf4RI\\x07\\xce\\xb7s\\xf2^\\xb7\\xc7m\\xf8\\xea\\xd8\\xeb\\'\\xbcmX?{\\xfe\\xb851\\xd6\\x9a>\\xd9\\xdan\\x8b\\x99\\xa7\\xf5\\x00H\\x8dp\\x8e\\x954\\xfbxY\\x8c\\xf0\\x19C\\xa8>`\\x13\\xf5\\x04\\x8a\\x10yX#\\xe7%\\x11\\xec\\xe3\\xa9\\xb4\\xf5\\x92\\xe1\\x02\\xc5\\t\\x11\\x98\\xfd\\xb1\\x17dg\\x99\\x92\\xb7\\x97\\xdf6\\xa2\\xa4\\xc7\\x90\\xe1=\\xda\\x96\\x12\\xa5%\\x01\\x03\\x08\\xfb\\x999\\x15\\xaa\\xc2\\xbcm+\\x9c,\\x10~u\\xf3\\xc3C\\xf6K\\xda\\r\\x97\\xb4\\x99\\xfa2\\xdfi\\x90\\xf3\\x90\\x1c\\x0e\\xbd/wu\\x1608(\\x7f\\xbc<\\x00\\xa021\\x92H\\xe0d\\x1a\\xfa\\t\\x0b\\xde\\xd3m\\x8e.O5&{M\\xa0\\xc8u\\x94\\x94\\xa1\\xc7\\x00\\x1b\\xd4\\x90y\\x00\\x9c\\x9a(\\x0c\\xf9\\xa9\\xed\\xa5dM\\x9f\\xb7\\xadC\"2\\x14\\x94Nn4\\xbc\\xf9\\x15-\\xa4\\x82\\x7f4\\x9f\\xd6\\xb3\\x93\\xebS\\x87\\xed\\x14U\\x8a\\xda^\\xdfzfC\\x9a\\xe7N^\"\\x8f\\xb0\\x95d\\r\\xb83\\xf7\\x9ci\\xd5\\x8f\\xf9\\\\Mb\\xb5\\xf9\\x8e\\x86\\xb5`\\xe5\\x1a\\x93[\\'\\xfdEag\\x93\\x92rje\\xa74\\xb9\\xbf\\xdb;\\xf8r\\xdbm\\xf4\\x92\\x95\\xb2\\xa3\\x83\\x81\\x9a\\x86\\x9at\\xb3\\xdc\\xe4@\\xdf\\xee\\xeb\\xda\\x13\\x95\\x7f\\x98\\xadN\\x97*~%|B\\xcaeo8\\xd8I9\\xb7#\\xc9q\\x95\\xa7\\nB\\x88$Q\\x91e\\xad\\x86\\xf6\\xec\\'\\'9\\xdbN\\xd2/Q\\x94\\xda\\n\\x12^yC+\\xf0s\\x9f:\\n/\\x91\\xb6\\x8c\\xf8O\\xa6:~\\x95\\xecWM\\xe9\\xf5\\xda\\xe7\\x1dZ_G\\xfd\\xceOZ\\xd7\\xfa\\x0b\\xd3\\xd9$=c\\x93\\xaa\\xb55\\xdaKp4\\xb3Q\\x11\\x01\\xe7@\\x0b}\\xe9k%M\\xb6\\xc2\\x07%}\\xdfzs\\xc0H\\xe4\\x9cU\\xe1\\xd9\\xd8\\xb6\\xb1\\x1a24\\xfcI\\x82\\r\\xc0(\\xa53\\xa4%n-\\xa4\\x9d\\xaa^R\\x00\\xe7\\x19\\xc2x\\xf8\\x9a\\xa4}\\x9d4?\\xed^\\xcdu\\xdd\\xfbQ\\\\\\xd5g\\xd3\\xc9\\x97\\x1a,g\\x9b\\x01n\\xb9)\\tQu-\\xa0\\xf5Wt\\xe0O\\xa6V\\x9f kKvso\\xb3&\\xc3\\nN\\x9c\\x12#F}\\x947\\x19\\x99nw\\xae\\xb4\\xda<)Fp\\x06z\\x92@\\x19\\xcd|\\x82\\xf7\\xf9\\x8c\\xd6\\x87\\xf9K\\x06,e\\x96\\xf7D\\x94\\xda\\x1b a=\\xce0=3\\x9a8\\xb8#0\\xe3\\xd2\\xa4\\xa7\\xec\\x81^7\\x01\\x92:\\n.+/\\xc7x\\xf7\\xae8\\xbe9J\\x92\\x02j1\\xaceO\\x0f\\xc6\\x81h\\xb6-\\xc4\\xb8\\x859\\xdf+\\x08l\\xaf\\x18\\t*>C\\xa9\\xf9\\xd5Y\\x1e1\\xcb+n\\xce-l\\xea\\xbe\\xdf\\xb5\\x86\\xa6\\x98\\xcb\\x84\\xe9\\x96\\xe3\\xda\\xediP\\xf04;\\xa2\\x1d_\\'\\x95\\x15g\\x1f\\x05\\x13WV\\xa2\\x90{\\x85\\x1cyxFj/\\xd8\\xf3q\\xa4@\\xd4W(r\\x11-\\xb9w1\\x1dR\\x92r\\x99\\n\\x8e\\xca[Z\\xd2q\\xcaw\\xee\\x03\\xfc4\\xe9\\xa8\\xdf\\x0e\\xa9\\x08^G\\x8c\\xfc8\\xae\\xe8\\xf0s\\xc9bX3\\xdf\\xb4r\\xca\\'if\\xb6\\x80?g\\xba\\xad\\xde\\xa4\\xbb\\xe9\\xf4\\xa1\\xfb3\\xd9D\\xbdWp\\xb8\\x14\\xe5\\x11#\\xf7i\\xf9\\xa8\\xf2\\x7f.)\\xbb\\xda&P\\x95\\xa9,(\\x07=\\xd5\\xa4x\\x8f\\x18\\xcb\\xab\\xe3\\x1f\\x95Y\\xfe\\xcb\\xd6?v\\xd2\\xb2n\\x0b\\x033$\\xabnS\\x83\\x84\\xf1\\xd6\\xa3\"\\xe0\\xd0q\\x86\\xd0\\x01\\xe3\\x8aO9\\xd0\\x01\\xf9R\\x9cl\\x1d8\\xa6\\xb9\\x8b\\xdc1\\xcf\\x88\\xe2\\x88\\x81\\xd6\\xe6\\x80\\xca\\xb1\\xcd/\\x9a\\xe8f9\\xc9\\xeb@\\x86\\xde\\xd4!8\\xe7\\x19&\\x92^\\x9e\\xc6\\xd6\\xd1\\xd4\\xf4\\x15\\x021:\\x8fy\\x94\\x9d\\xc3(J\\xb3\\xf0&\\xa4\\xd0Q\\xb5\\x1c\\xf5\\xa66\\x1a\\x02RP\\x01\\xc8\\xea3\\xe5R&\\x80\\t\\xc8\\xe8\\x9f\\x85@\\x81\\x98\\xe6\\xc6\\x88\\xf8Tv:}\\xe2n\\xe3\\x9d\\xa9\\'4\\xe5r{\\x85`\\xf2:Q6\\x961\\x92\\xacnQ\\xc9\\xa8BA\\x1b\\x01)\\xe3\\x8avB\\x10\\xfb*e\\xe1\\xb9\\x0bN\\xd5\\'\\xd4SRF\\xc4\\x8f\\x9d:DQ \\x1fN\\x05)\\x08\\x06\\xb2\\xb5\\x8bJ\\xdb,\\x95\\xa9\\x85r\\xd9=s\\xe6\\r\\x1b\\xd9\\xc5\\xedO\\xb2\\xfd\\xaaIQS\\x19u\\x82\\x7fp\\x9eQ\\xf4<\\x8f\\x81\\xa9\\xc5\\xe6\\xd6\\xc5\\xe6\\n\\xa3J\\xc8\\x19\\x05+OT\\x9fZEo\\xb4\\xc4\\xb2\\xc7,@d6\\x0f.,\\xf2\\xa7\\x0f\\xaa\\x8d&0\\xc6\\xce\\xc3\\xb6\\xe5\\x14c\\'i\\xc6G\\xcb\\xa5\\x1f\\x1c\\x0c\\xe0\\xf4P\\xc5\\x10\\xd7(\\xf8Q\\xec\\x8c+\\x8aqL\\xb1\\xed\\xc7ivV\\x8e\\xd1\\xd7F\\xc6\\x13\\x06d\\x98\\xaf+?\\xbe\\x94\\xa9?\\xf2\\x1a\\xf9\\xe9u\\x84\\xb8\\xce\\x05\\xe3\\xec\\x9d>\\x03_Q\\xfd\\xae-f\\xe1\\xd8\\x85\\xfd|b\\x0c\\xd8\\xb3s\\xfb\\xa0\\xab\\xbb\\'\\xfe1_5.V\\xef\\xda\\x0c\\x84\\xc3X}\\xe6\\x15\\xc0O\\xe2\\x18\\xe4|\\xeb\\xd1\\xe8j\\x86\\xa7K\\xe9\\xfe\\xa4\\xc0\\xf8\"&\\x86\\xdb\\x85\\xb4\\xb8\\x07%I\\xc5q\\xc1\\x8c\\x9c\\x10A\\xc1\\x1e\\x86\\x8a\\xcf5\\xca\\xf3\\xa6\\xb3g\\xc0\\x83\\xb5\\xb6D8\\xac,\\xc8R\\xbb\\xec\\x8c\\x00\\x8c\\x82)\\x14\\xde\\xe9\\xd9..1=\\xd9<g\\x8f\\xd2\\x89JJ\\xf0\\x07$\\xfaQ\\xe6\\xdb-=XWOJ\\xeeW[e*\\x11\\xad4\\xbc\\xe3\\x7f\\xf5\\x18\\xd0\\xbd\\x83\\xa6M\\xefMj\\xad6\\xfa\\x14\\xc4K\\x18]\\xe13\\x97\\xb8\\xb2\\xda\\xde\\xee\\x98\\xeeH\\x1f\\x8djK{1\\xd7\\x0b\\xcf\\x02\\xb4v\\x82\\x80\\x96m\\xac-\\x95\\xa9,%A\\xb5\\xba\\x95\\r\\xebP\\xea\\x12\\x0fL\\x1fA\\xc5g~\\xc7$\\xbb\\x1b\\xb3\\x8dx\\xa8\\xee\\x16\\xd5\\'P[\\x1ax\\xa7\\x82\\xb4%\\x89% \\xfc\\x01$\\xd6\\x94\\xec\\xf5\\xa6\\xd9D~\\xe9\\tN\\x10H\\xc2G\\x18I\\xc6=:\\n\\xf2z\\xc8\\xc67\\xcf\\xb7\\xdd\\x9dQm\\xac\\x16\\x8c8\\xec0\\xd6P\\x95\\xa0u\\xf1(\\xadg\\xeaj\\x8a\\xf6\\x8a\\xba]\\xd8\\xd3\\xb7\\x11\\xa6\\xe4wl\\xb6\\xa6\\xda\\x9a\\xe2\\x94\\xa4\\xad\\x96\\x96\\t\\xd8\\x02\\xbc\\xd4\\xac\\x02\\xa1\\xd0U\\xe7k\\x05\\xe0\\xda\\x1cR\\xd4\\x95\\x0e|g?\\x9de.\\xde\\xae\\xd3\\x93\\xa4b\\xb5\\xefN\\x14N\\xb8\\xba%n9.\\x86\\xc2\\x8a\\x01\\'\\x9c\\x0c\\n}\\r~\\xb6\\xa2\\x11\\xf7c=\\x91~\\xf6+\\x056\\x9e\\xc8ttT\\xa0 \\x8bSn:\\x00\\xea\\xb72\\xb5\\x1f\\x99\\xddJ.\\xce\\x10\\x97\\xddu!c\\n\\tI\\xe8|\\xff\\x00\\x95\\x1d\\xa0\\xbc\\x1a#N\\xa5\\x1e\\x14\\x8b{\\x03\\x03\\xd3`\\xa0j1\\x86H\\x1c\\r\\x89\\x18\\x1f\\x15sW=\\xceC\\'\\xf6\\xc7?\\xdf\\xf5\\x8b\\xc1\\xb2O\\xbbFm\\x84\\xf9\\xf3\\xd7\\x8f^UZ\\xdf\\xb2\\x0b0\\xb2\\xe8\\x8b<5\\'b\\xdb\\x8e\\x9d\\xdds\\x922s\\xf55\\x8f5\\x08\\x0fk\\xa9\\tw\\xc6\\x15t) \\xfa\\x07q\\x8f\\xca\\xb7^\\x99m(\\xb6C\\xda\\x00\\xfb1\\xfc\\x85W\\xcb\\x19\\xf0:\\xbc\\xbc \\x9e)\\xb5\\x86\\xfb\\xf99\\x00\\xe1$\\xe4R\\xd9|7\\x91\\xe6(\\xabZAI$d\\xe6\\x98\\\\\\x0el\\x80\\x94\\xa9\\\\\\x8fJep\\x89\\x17^\\xa0\\xa5\\x03&\\x9es\\x88\\xc3\\x14\\xc0\\xdf\\xfei\\xe3\\xe7\\x8cT |F\\x02\\xa5\\xbc\\xf8\\x1c+\\tO\\xd2\\x9c\\x9cXO\\x81<\\x1cQq\\x92\\x06\\xdc\\x00)4\\x9ed/\\xe6*\\x04A-e\\xc9\\x01\\xbc\\xf1\\x9eM;Al\\x02\\x9cu\\xa6h\\xfe)J*\\xe4\\xe4\\xd4\\x8a\\nS\\xe38\\x14\\x19\\x03\\xe6\\x820\\x96\\x88\\x07\\xd7\\xa8\\xa78J\\xca\\x00?JnX\\xceI\\xa5\\xb0\\xc7\\xe9@\\x83\\x99\\xfe\\xef\\x1di\\x0b\\xc3\\x93\\x8f:TzRw\\xd21\\xf4\\xa8@\\xc8\\xe7\\x8c\\x13\\xc5)o\\xef\\xd2\\x08\\xa4\\xee#\\xe2i{\\x7f|T!\\x1c\\xed7M\\x8da\\xa0u=\\x88\\r\\xcb\\xb8\\xda$4\\xd0\\xff\\x00\\xe4\\t\\xde\\x8f\\xf8\\x92+\\xe4E\\x86b\\xa1NTWv\\xa0\\x95\\x14\\xe4\\xf2B\\x87\\x18\\xaf\\xb4\\xc9HT\\x88\\xc0\\x8c\\x82\\xb2\\x0f\\xc8\\x8a\\xf8\\xbd\\xaf\\x99D=gzDa\\xdd\\xa5\\x13\\xdd\\xda\\x01\\xe9\\x85\\x90?AZ\\xbd.\\xf9\\xe9\\xf51\\xb6\\x1e>\\xc2M)E\\xa6\\x13\\xa8\\xedL\\xb0\\xc2\\xdfg\\xc2\\xa2\\xbc\\xab\\xd0\\x93Q\\\\\\x13V\\x05\\xdb\\xed-\\xd2\\x82\\xc08h\\x91\\xc7\\x9ej\\n?\\xb9\\xfa\\xd7\\xad\\xeb\\xbah;a8\\xacw,\\x9c\\xf46\\xd6\\x18\\xa6\\xd4\\x93\\xefi)\\xc6\\xe4\\x82Fi\\xedrT\\xa5}\\xa2\\x92T8\\xa8\\xecu\\x14\\xbe\\x8c\\x1cf\\x9c\\xb7\\x1f\\xd4\\xd7>\\x82\\xcf\\xcaq^\\x0e\\xa4\\x7f\\xff\\xd9'"
      ]
     },
     "execution_count": 46,
     "metadata": {},
     "output_type": "execute_result"
    }
   ],
   "source": [
    "imge_link.content #this is a raw image in binary format"
   ]
  },
  {
   "cell_type": "code",
   "execution_count": 49,
   "metadata": {},
   "outputs": [],
   "source": [
    "f=open(\"jb's_image.jpg\",'wb') #we create a file and convert the binary into readable"
   ]
  },
  {
   "cell_type": "code",
   "execution_count": 52,
   "metadata": {},
   "outputs": [
    {
     "data": {
      "text/plain": [
       "17539"
      ]
     },
     "execution_count": 52,
     "metadata": {},
     "output_type": "execute_result"
    }
   ],
   "source": [
    "f.write(imge_link.content) #now we just  write on it"
   ]
  },
  {
   "cell_type": "code",
   "execution_count": 55,
   "metadata": {},
   "outputs": [],
   "source": [
    "f.close() #close the file  and done"
   ]
  },
  {
   "cell_type": "code",
   "execution_count": 56,
   "metadata": {},
   "outputs": [],
   "source": [
    "#GOAL: SELECT THE TITLE OF THE BOOK WITH 2 STAR RATING"
   ]
  },
  {
   "cell_type": "code",
   "execution_count": 62,
   "metadata": {},
   "outputs": [],
   "source": [
    "base_url= \"http://books.toscrape.com/catalogue/page-{}.html\""
   ]
  },
  {
   "cell_type": "code",
   "execution_count": 65,
   "metadata": {},
   "outputs": [
    {
     "data": {
      "text/plain": [
       "'http://books.toscrape.com/catalogue/page-10.html'"
      ]
     },
     "execution_count": 65,
     "metadata": {},
     "output_type": "execute_result"
    }
   ],
   "source": [
    "pagenum=10\n",
    "base_url.format(pagenum)"
   ]
  },
  {
   "cell_type": "code",
   "execution_count": 67,
   "metadata": {},
   "outputs": [],
   "source": [
    "res=requests.get(base_url.format(1))"
   ]
  },
  {
   "cell_type": "code",
   "execution_count": 68,
   "metadata": {},
   "outputs": [],
   "source": [
    "soup=bs4.BeautifulSoup(res.text,'lxml')"
   ]
  },
  {
   "cell_type": "code",
   "execution_count": 74,
   "metadata": {},
   "outputs": [
    {
     "data": {
      "text/plain": [
       "[<article class=\"product_pod\">\n",
       " <div class=\"image_container\">\n",
       " <a href=\"a-light-in-the-attic_1000/index.html\"><img alt=\"A Light in the Attic\" class=\"thumbnail\" src=\"../media/cache/2c/da/2cdad67c44b002e7ead0cc35693c0e8b.jpg\"/></a>\n",
       " </div>\n",
       " <p class=\"star-rating Three\">\n",
       " <i class=\"icon-star\"></i>\n",
       " <i class=\"icon-star\"></i>\n",
       " <i class=\"icon-star\"></i>\n",
       " <i class=\"icon-star\"></i>\n",
       " <i class=\"icon-star\"></i>\n",
       " </p>\n",
       " <h3><a href=\"a-light-in-the-attic_1000/index.html\" title=\"A Light in the Attic\">A Light in the ...</a></h3>\n",
       " <div class=\"product_price\">\n",
       " <p class=\"price_color\">Â£51.77</p>\n",
       " <p class=\"instock availability\">\n",
       " <i class=\"icon-ok\"></i>\n",
       "     \n",
       "         In stock\n",
       "     \n",
       " </p>\n",
       " <form>\n",
       " <button class=\"btn btn-primary btn-block\" data-loading-text=\"Adding...\" type=\"submit\">Add to basket</button>\n",
       " </form>\n",
       " </div>\n",
       " </article>, <article class=\"product_pod\">\n",
       " <div class=\"image_container\">\n",
       " <a href=\"tipping-the-velvet_999/index.html\"><img alt=\"Tipping the Velvet\" class=\"thumbnail\" src=\"../media/cache/26/0c/260c6ae16bce31c8f8c95daddd9f4a1c.jpg\"/></a>\n",
       " </div>\n",
       " <p class=\"star-rating One\">\n",
       " <i class=\"icon-star\"></i>\n",
       " <i class=\"icon-star\"></i>\n",
       " <i class=\"icon-star\"></i>\n",
       " <i class=\"icon-star\"></i>\n",
       " <i class=\"icon-star\"></i>\n",
       " </p>\n",
       " <h3><a href=\"tipping-the-velvet_999/index.html\" title=\"Tipping the Velvet\">Tipping the Velvet</a></h3>\n",
       " <div class=\"product_price\">\n",
       " <p class=\"price_color\">Â£53.74</p>\n",
       " <p class=\"instock availability\">\n",
       " <i class=\"icon-ok\"></i>\n",
       "     \n",
       "         In stock\n",
       "     \n",
       " </p>\n",
       " <form>\n",
       " <button class=\"btn btn-primary btn-block\" data-loading-text=\"Adding...\" type=\"submit\">Add to basket</button>\n",
       " </form>\n",
       " </div>\n",
       " </article>, <article class=\"product_pod\">\n",
       " <div class=\"image_container\">\n",
       " <a href=\"soumission_998/index.html\"><img alt=\"Soumission\" class=\"thumbnail\" src=\"../media/cache/3e/ef/3eef99c9d9adef34639f510662022830.jpg\"/></a>\n",
       " </div>\n",
       " <p class=\"star-rating One\">\n",
       " <i class=\"icon-star\"></i>\n",
       " <i class=\"icon-star\"></i>\n",
       " <i class=\"icon-star\"></i>\n",
       " <i class=\"icon-star\"></i>\n",
       " <i class=\"icon-star\"></i>\n",
       " </p>\n",
       " <h3><a href=\"soumission_998/index.html\" title=\"Soumission\">Soumission</a></h3>\n",
       " <div class=\"product_price\">\n",
       " <p class=\"price_color\">Â£50.10</p>\n",
       " <p class=\"instock availability\">\n",
       " <i class=\"icon-ok\"></i>\n",
       "     \n",
       "         In stock\n",
       "     \n",
       " </p>\n",
       " <form>\n",
       " <button class=\"btn btn-primary btn-block\" data-loading-text=\"Adding...\" type=\"submit\">Add to basket</button>\n",
       " </form>\n",
       " </div>\n",
       " </article>, <article class=\"product_pod\">\n",
       " <div class=\"image_container\">\n",
       " <a href=\"sharp-objects_997/index.html\"><img alt=\"Sharp Objects\" class=\"thumbnail\" src=\"../media/cache/32/51/3251cf3a3412f53f339e42cac2134093.jpg\"/></a>\n",
       " </div>\n",
       " <p class=\"star-rating Four\">\n",
       " <i class=\"icon-star\"></i>\n",
       " <i class=\"icon-star\"></i>\n",
       " <i class=\"icon-star\"></i>\n",
       " <i class=\"icon-star\"></i>\n",
       " <i class=\"icon-star\"></i>\n",
       " </p>\n",
       " <h3><a href=\"sharp-objects_997/index.html\" title=\"Sharp Objects\">Sharp Objects</a></h3>\n",
       " <div class=\"product_price\">\n",
       " <p class=\"price_color\">Â£47.82</p>\n",
       " <p class=\"instock availability\">\n",
       " <i class=\"icon-ok\"></i>\n",
       "     \n",
       "         In stock\n",
       "     \n",
       " </p>\n",
       " <form>\n",
       " <button class=\"btn btn-primary btn-block\" data-loading-text=\"Adding...\" type=\"submit\">Add to basket</button>\n",
       " </form>\n",
       " </div>\n",
       " </article>, <article class=\"product_pod\">\n",
       " <div class=\"image_container\">\n",
       " <a href=\"sapiens-a-brief-history-of-humankind_996/index.html\"><img alt=\"Sapiens: A Brief History of Humankind\" class=\"thumbnail\" src=\"../media/cache/be/a5/bea5697f2534a2f86a3ef27b5a8c12a6.jpg\"/></a>\n",
       " </div>\n",
       " <p class=\"star-rating Five\">\n",
       " <i class=\"icon-star\"></i>\n",
       " <i class=\"icon-star\"></i>\n",
       " <i class=\"icon-star\"></i>\n",
       " <i class=\"icon-star\"></i>\n",
       " <i class=\"icon-star\"></i>\n",
       " </p>\n",
       " <h3><a href=\"sapiens-a-brief-history-of-humankind_996/index.html\" title=\"Sapiens: A Brief History of Humankind\">Sapiens: A Brief History ...</a></h3>\n",
       " <div class=\"product_price\">\n",
       " <p class=\"price_color\">Â£54.23</p>\n",
       " <p class=\"instock availability\">\n",
       " <i class=\"icon-ok\"></i>\n",
       "     \n",
       "         In stock\n",
       "     \n",
       " </p>\n",
       " <form>\n",
       " <button class=\"btn btn-primary btn-block\" data-loading-text=\"Adding...\" type=\"submit\">Add to basket</button>\n",
       " </form>\n",
       " </div>\n",
       " </article>, <article class=\"product_pod\">\n",
       " <div class=\"image_container\">\n",
       " <a href=\"the-requiem-red_995/index.html\"><img alt=\"The Requiem Red\" class=\"thumbnail\" src=\"../media/cache/68/33/68339b4c9bc034267e1da611ab3b34f8.jpg\"/></a>\n",
       " </div>\n",
       " <p class=\"star-rating One\">\n",
       " <i class=\"icon-star\"></i>\n",
       " <i class=\"icon-star\"></i>\n",
       " <i class=\"icon-star\"></i>\n",
       " <i class=\"icon-star\"></i>\n",
       " <i class=\"icon-star\"></i>\n",
       " </p>\n",
       " <h3><a href=\"the-requiem-red_995/index.html\" title=\"The Requiem Red\">The Requiem Red</a></h3>\n",
       " <div class=\"product_price\">\n",
       " <p class=\"price_color\">Â£22.65</p>\n",
       " <p class=\"instock availability\">\n",
       " <i class=\"icon-ok\"></i>\n",
       "     \n",
       "         In stock\n",
       "     \n",
       " </p>\n",
       " <form>\n",
       " <button class=\"btn btn-primary btn-block\" data-loading-text=\"Adding...\" type=\"submit\">Add to basket</button>\n",
       " </form>\n",
       " </div>\n",
       " </article>, <article class=\"product_pod\">\n",
       " <div class=\"image_container\">\n",
       " <a href=\"the-dirty-little-secrets-of-getting-your-dream-job_994/index.html\"><img alt=\"The Dirty Little Secrets of Getting Your Dream Job\" class=\"thumbnail\" src=\"../media/cache/92/27/92274a95b7c251fea59a2b8a78275ab4.jpg\"/></a>\n",
       " </div>\n",
       " <p class=\"star-rating Four\">\n",
       " <i class=\"icon-star\"></i>\n",
       " <i class=\"icon-star\"></i>\n",
       " <i class=\"icon-star\"></i>\n",
       " <i class=\"icon-star\"></i>\n",
       " <i class=\"icon-star\"></i>\n",
       " </p>\n",
       " <h3><a href=\"the-dirty-little-secrets-of-getting-your-dream-job_994/index.html\" title=\"The Dirty Little Secrets of Getting Your Dream Job\">The Dirty Little Secrets ...</a></h3>\n",
       " <div class=\"product_price\">\n",
       " <p class=\"price_color\">Â£33.34</p>\n",
       " <p class=\"instock availability\">\n",
       " <i class=\"icon-ok\"></i>\n",
       "     \n",
       "         In stock\n",
       "     \n",
       " </p>\n",
       " <form>\n",
       " <button class=\"btn btn-primary btn-block\" data-loading-text=\"Adding...\" type=\"submit\">Add to basket</button>\n",
       " </form>\n",
       " </div>\n",
       " </article>, <article class=\"product_pod\">\n",
       " <div class=\"image_container\">\n",
       " <a href=\"the-coming-woman-a-novel-based-on-the-life-of-the-infamous-feminist-victoria-woodhull_993/index.html\"><img alt=\"The Coming Woman: A Novel Based on the Life of the Infamous Feminist, Victoria Woodhull\" class=\"thumbnail\" src=\"../media/cache/3d/54/3d54940e57e662c4dd1f3ff00c78cc64.jpg\"/></a>\n",
       " </div>\n",
       " <p class=\"star-rating Three\">\n",
       " <i class=\"icon-star\"></i>\n",
       " <i class=\"icon-star\"></i>\n",
       " <i class=\"icon-star\"></i>\n",
       " <i class=\"icon-star\"></i>\n",
       " <i class=\"icon-star\"></i>\n",
       " </p>\n",
       " <h3><a href=\"the-coming-woman-a-novel-based-on-the-life-of-the-infamous-feminist-victoria-woodhull_993/index.html\" title=\"The Coming Woman: A Novel Based on the Life of the Infamous Feminist, Victoria Woodhull\">The Coming Woman: A ...</a></h3>\n",
       " <div class=\"product_price\">\n",
       " <p class=\"price_color\">Â£17.93</p>\n",
       " <p class=\"instock availability\">\n",
       " <i class=\"icon-ok\"></i>\n",
       "     \n",
       "         In stock\n",
       "     \n",
       " </p>\n",
       " <form>\n",
       " <button class=\"btn btn-primary btn-block\" data-loading-text=\"Adding...\" type=\"submit\">Add to basket</button>\n",
       " </form>\n",
       " </div>\n",
       " </article>, <article class=\"product_pod\">\n",
       " <div class=\"image_container\">\n",
       " <a href=\"the-boys-in-the-boat-nine-americans-and-their-epic-quest-for-gold-at-the-1936-berlin-olympics_992/index.html\"><img alt=\"The Boys in the Boat: Nine Americans and Their Epic Quest for Gold at the 1936 Berlin Olympics\" class=\"thumbnail\" src=\"../media/cache/66/88/66883b91f6804b2323c8369331cb7dd1.jpg\"/></a>\n",
       " </div>\n",
       " <p class=\"star-rating Four\">\n",
       " <i class=\"icon-star\"></i>\n",
       " <i class=\"icon-star\"></i>\n",
       " <i class=\"icon-star\"></i>\n",
       " <i class=\"icon-star\"></i>\n",
       " <i class=\"icon-star\"></i>\n",
       " </p>\n",
       " <h3><a href=\"the-boys-in-the-boat-nine-americans-and-their-epic-quest-for-gold-at-the-1936-berlin-olympics_992/index.html\" title=\"The Boys in the Boat: Nine Americans and Their Epic Quest for Gold at the 1936 Berlin Olympics\">The Boys in the ...</a></h3>\n",
       " <div class=\"product_price\">\n",
       " <p class=\"price_color\">Â£22.60</p>\n",
       " <p class=\"instock availability\">\n",
       " <i class=\"icon-ok\"></i>\n",
       "     \n",
       "         In stock\n",
       "     \n",
       " </p>\n",
       " <form>\n",
       " <button class=\"btn btn-primary btn-block\" data-loading-text=\"Adding...\" type=\"submit\">Add to basket</button>\n",
       " </form>\n",
       " </div>\n",
       " </article>, <article class=\"product_pod\">\n",
       " <div class=\"image_container\">\n",
       " <a href=\"the-black-maria_991/index.html\"><img alt=\"The Black Maria\" class=\"thumbnail\" src=\"../media/cache/58/46/5846057e28022268153beff6d352b06c.jpg\"/></a>\n",
       " </div>\n",
       " <p class=\"star-rating One\">\n",
       " <i class=\"icon-star\"></i>\n",
       " <i class=\"icon-star\"></i>\n",
       " <i class=\"icon-star\"></i>\n",
       " <i class=\"icon-star\"></i>\n",
       " <i class=\"icon-star\"></i>\n",
       " </p>\n",
       " <h3><a href=\"the-black-maria_991/index.html\" title=\"The Black Maria\">The Black Maria</a></h3>\n",
       " <div class=\"product_price\">\n",
       " <p class=\"price_color\">Â£52.15</p>\n",
       " <p class=\"instock availability\">\n",
       " <i class=\"icon-ok\"></i>\n",
       "     \n",
       "         In stock\n",
       "     \n",
       " </p>\n",
       " <form>\n",
       " <button class=\"btn btn-primary btn-block\" data-loading-text=\"Adding...\" type=\"submit\">Add to basket</button>\n",
       " </form>\n",
       " </div>\n",
       " </article>, <article class=\"product_pod\">\n",
       " <div class=\"image_container\">\n",
       " <a href=\"starving-hearts-triangular-trade-trilogy-1_990/index.html\"><img alt=\"Starving Hearts (Triangular Trade Trilogy, #1)\" class=\"thumbnail\" src=\"../media/cache/be/f4/bef44da28c98f905a3ebec0b87be8530.jpg\"/></a>\n",
       " </div>\n",
       " <p class=\"star-rating Two\">\n",
       " <i class=\"icon-star\"></i>\n",
       " <i class=\"icon-star\"></i>\n",
       " <i class=\"icon-star\"></i>\n",
       " <i class=\"icon-star\"></i>\n",
       " <i class=\"icon-star\"></i>\n",
       " </p>\n",
       " <h3><a href=\"starving-hearts-triangular-trade-trilogy-1_990/index.html\" title=\"Starving Hearts (Triangular Trade Trilogy, #1)\">Starving Hearts (Triangular Trade ...</a></h3>\n",
       " <div class=\"product_price\">\n",
       " <p class=\"price_color\">Â£13.99</p>\n",
       " <p class=\"instock availability\">\n",
       " <i class=\"icon-ok\"></i>\n",
       "     \n",
       "         In stock\n",
       "     \n",
       " </p>\n",
       " <form>\n",
       " <button class=\"btn btn-primary btn-block\" data-loading-text=\"Adding...\" type=\"submit\">Add to basket</button>\n",
       " </form>\n",
       " </div>\n",
       " </article>, <article class=\"product_pod\">\n",
       " <div class=\"image_container\">\n",
       " <a href=\"shakespeares-sonnets_989/index.html\"><img alt=\"Shakespeare's Sonnets\" class=\"thumbnail\" src=\"../media/cache/10/48/1048f63d3b5061cd2f424d20b3f9b666.jpg\"/></a>\n",
       " </div>\n",
       " <p class=\"star-rating Four\">\n",
       " <i class=\"icon-star\"></i>\n",
       " <i class=\"icon-star\"></i>\n",
       " <i class=\"icon-star\"></i>\n",
       " <i class=\"icon-star\"></i>\n",
       " <i class=\"icon-star\"></i>\n",
       " </p>\n",
       " <h3><a href=\"shakespeares-sonnets_989/index.html\" title=\"Shakespeare's Sonnets\">Shakespeare's Sonnets</a></h3>\n",
       " <div class=\"product_price\">\n",
       " <p class=\"price_color\">Â£20.66</p>\n",
       " <p class=\"instock availability\">\n",
       " <i class=\"icon-ok\"></i>\n",
       "     \n",
       "         In stock\n",
       "     \n",
       " </p>\n",
       " <form>\n",
       " <button class=\"btn btn-primary btn-block\" data-loading-text=\"Adding...\" type=\"submit\">Add to basket</button>\n",
       " </form>\n",
       " </div>\n",
       " </article>, <article class=\"product_pod\">\n",
       " <div class=\"image_container\">\n",
       " <a href=\"set-me-free_988/index.html\"><img alt=\"Set Me Free\" class=\"thumbnail\" src=\"../media/cache/5b/88/5b88c52633f53cacf162c15f4f823153.jpg\"/></a>\n",
       " </div>\n",
       " <p class=\"star-rating Five\">\n",
       " <i class=\"icon-star\"></i>\n",
       " <i class=\"icon-star\"></i>\n",
       " <i class=\"icon-star\"></i>\n",
       " <i class=\"icon-star\"></i>\n",
       " <i class=\"icon-star\"></i>\n",
       " </p>\n",
       " <h3><a href=\"set-me-free_988/index.html\" title=\"Set Me Free\">Set Me Free</a></h3>\n",
       " <div class=\"product_price\">\n",
       " <p class=\"price_color\">Â£17.46</p>\n",
       " <p class=\"instock availability\">\n",
       " <i class=\"icon-ok\"></i>\n",
       "     \n",
       "         In stock\n",
       "     \n",
       " </p>\n",
       " <form>\n",
       " <button class=\"btn btn-primary btn-block\" data-loading-text=\"Adding...\" type=\"submit\">Add to basket</button>\n",
       " </form>\n",
       " </div>\n",
       " </article>, <article class=\"product_pod\">\n",
       " <div class=\"image_container\">\n",
       " <a href=\"scott-pilgrims-precious-little-life-scott-pilgrim-1_987/index.html\"><img alt=\"Scott Pilgrim's Precious Little Life (Scott Pilgrim #1)\" class=\"thumbnail\" src=\"../media/cache/94/b1/94b1b8b244bce9677c2f29ccc890d4d2.jpg\"/></a>\n",
       " </div>\n",
       " <p class=\"star-rating Five\">\n",
       " <i class=\"icon-star\"></i>\n",
       " <i class=\"icon-star\"></i>\n",
       " <i class=\"icon-star\"></i>\n",
       " <i class=\"icon-star\"></i>\n",
       " <i class=\"icon-star\"></i>\n",
       " </p>\n",
       " <h3><a href=\"scott-pilgrims-precious-little-life-scott-pilgrim-1_987/index.html\" title=\"Scott Pilgrim's Precious Little Life (Scott Pilgrim #1)\">Scott Pilgrim's Precious Little ...</a></h3>\n",
       " <div class=\"product_price\">\n",
       " <p class=\"price_color\">Â£52.29</p>\n",
       " <p class=\"instock availability\">\n",
       " <i class=\"icon-ok\"></i>\n",
       "     \n",
       "         In stock\n",
       "     \n",
       " </p>\n",
       " <form>\n",
       " <button class=\"btn btn-primary btn-block\" data-loading-text=\"Adding...\" type=\"submit\">Add to basket</button>\n",
       " </form>\n",
       " </div>\n",
       " </article>, <article class=\"product_pod\">\n",
       " <div class=\"image_container\">\n",
       " <a href=\"rip-it-up-and-start-again_986/index.html\"><img alt=\"Rip it Up and Start Again\" class=\"thumbnail\" src=\"../media/cache/81/c4/81c4a973364e17d01f217e1188253d5e.jpg\"/></a>\n",
       " </div>\n",
       " <p class=\"star-rating Five\">\n",
       " <i class=\"icon-star\"></i>\n",
       " <i class=\"icon-star\"></i>\n",
       " <i class=\"icon-star\"></i>\n",
       " <i class=\"icon-star\"></i>\n",
       " <i class=\"icon-star\"></i>\n",
       " </p>\n",
       " <h3><a href=\"rip-it-up-and-start-again_986/index.html\" title=\"Rip it Up and Start Again\">Rip it Up and ...</a></h3>\n",
       " <div class=\"product_price\">\n",
       " <p class=\"price_color\">Â£35.02</p>\n",
       " <p class=\"instock availability\">\n",
       " <i class=\"icon-ok\"></i>\n",
       "     \n",
       "         In stock\n",
       "     \n",
       " </p>\n",
       " <form>\n",
       " <button class=\"btn btn-primary btn-block\" data-loading-text=\"Adding...\" type=\"submit\">Add to basket</button>\n",
       " </form>\n",
       " </div>\n",
       " </article>, <article class=\"product_pod\">\n",
       " <div class=\"image_container\">\n",
       " <a href=\"our-band-could-be-your-life-scenes-from-the-american-indie-underground-1981-1991_985/index.html\"><img alt=\"Our Band Could Be Your Life: Scenes from the American Indie Underground, 1981-1991\" class=\"thumbnail\" src=\"../media/cache/54/60/54607fe8945897cdcced0044103b10b6.jpg\"/></a>\n",
       " </div>\n",
       " <p class=\"star-rating Three\">\n",
       " <i class=\"icon-star\"></i>\n",
       " <i class=\"icon-star\"></i>\n",
       " <i class=\"icon-star\"></i>\n",
       " <i class=\"icon-star\"></i>\n",
       " <i class=\"icon-star\"></i>\n",
       " </p>\n",
       " <h3><a href=\"our-band-could-be-your-life-scenes-from-the-american-indie-underground-1981-1991_985/index.html\" title=\"Our Band Could Be Your Life: Scenes from the American Indie Underground, 1981-1991\">Our Band Could Be ...</a></h3>\n",
       " <div class=\"product_price\">\n",
       " <p class=\"price_color\">Â£57.25</p>\n",
       " <p class=\"instock availability\">\n",
       " <i class=\"icon-ok\"></i>\n",
       "     \n",
       "         In stock\n",
       "     \n",
       " </p>\n",
       " <form>\n",
       " <button class=\"btn btn-primary btn-block\" data-loading-text=\"Adding...\" type=\"submit\">Add to basket</button>\n",
       " </form>\n",
       " </div>\n",
       " </article>, <article class=\"product_pod\">\n",
       " <div class=\"image_container\">\n",
       " <a href=\"olio_984/index.html\"><img alt=\"Olio\" class=\"thumbnail\" src=\"../media/cache/55/33/553310a7162dfbc2c6d19a84da0df9e1.jpg\"/></a>\n",
       " </div>\n",
       " <p class=\"star-rating One\">\n",
       " <i class=\"icon-star\"></i>\n",
       " <i class=\"icon-star\"></i>\n",
       " <i class=\"icon-star\"></i>\n",
       " <i class=\"icon-star\"></i>\n",
       " <i class=\"icon-star\"></i>\n",
       " </p>\n",
       " <h3><a href=\"olio_984/index.html\" title=\"Olio\">Olio</a></h3>\n",
       " <div class=\"product_price\">\n",
       " <p class=\"price_color\">Â£23.88</p>\n",
       " <p class=\"instock availability\">\n",
       " <i class=\"icon-ok\"></i>\n",
       "     \n",
       "         In stock\n",
       "     \n",
       " </p>\n",
       " <form>\n",
       " <button class=\"btn btn-primary btn-block\" data-loading-text=\"Adding...\" type=\"submit\">Add to basket</button>\n",
       " </form>\n",
       " </div>\n",
       " </article>, <article class=\"product_pod\">\n",
       " <div class=\"image_container\">\n",
       " <a href=\"mesaerion-the-best-science-fiction-stories-1800-1849_983/index.html\"><img alt=\"Mesaerion: The Best Science Fiction Stories 1800-1849\" class=\"thumbnail\" src=\"../media/cache/09/a3/09a3aef48557576e1a85ba7efea8ecb7.jpg\"/></a>\n",
       " </div>\n",
       " <p class=\"star-rating One\">\n",
       " <i class=\"icon-star\"></i>\n",
       " <i class=\"icon-star\"></i>\n",
       " <i class=\"icon-star\"></i>\n",
       " <i class=\"icon-star\"></i>\n",
       " <i class=\"icon-star\"></i>\n",
       " </p>\n",
       " <h3><a href=\"mesaerion-the-best-science-fiction-stories-1800-1849_983/index.html\" title=\"Mesaerion: The Best Science Fiction Stories 1800-1849\">Mesaerion: The Best Science ...</a></h3>\n",
       " <div class=\"product_price\">\n",
       " <p class=\"price_color\">Â£37.59</p>\n",
       " <p class=\"instock availability\">\n",
       " <i class=\"icon-ok\"></i>\n",
       "     \n",
       "         In stock\n",
       "     \n",
       " </p>\n",
       " <form>\n",
       " <button class=\"btn btn-primary btn-block\" data-loading-text=\"Adding...\" type=\"submit\">Add to basket</button>\n",
       " </form>\n",
       " </div>\n",
       " </article>, <article class=\"product_pod\">\n",
       " <div class=\"image_container\">\n",
       " <a href=\"libertarianism-for-beginners_982/index.html\"><img alt=\"Libertarianism for Beginners\" class=\"thumbnail\" src=\"../media/cache/0b/bc/0bbcd0a6f4bcd81ccb1049a52736406e.jpg\"/></a>\n",
       " </div>\n",
       " <p class=\"star-rating Two\">\n",
       " <i class=\"icon-star\"></i>\n",
       " <i class=\"icon-star\"></i>\n",
       " <i class=\"icon-star\"></i>\n",
       " <i class=\"icon-star\"></i>\n",
       " <i class=\"icon-star\"></i>\n",
       " </p>\n",
       " <h3><a href=\"libertarianism-for-beginners_982/index.html\" title=\"Libertarianism for Beginners\">Libertarianism for Beginners</a></h3>\n",
       " <div class=\"product_price\">\n",
       " <p class=\"price_color\">Â£51.33</p>\n",
       " <p class=\"instock availability\">\n",
       " <i class=\"icon-ok\"></i>\n",
       "     \n",
       "         In stock\n",
       "     \n",
       " </p>\n",
       " <form>\n",
       " <button class=\"btn btn-primary btn-block\" data-loading-text=\"Adding...\" type=\"submit\">Add to basket</button>\n",
       " </form>\n",
       " </div>\n",
       " </article>, <article class=\"product_pod\">\n",
       " <div class=\"image_container\">\n",
       " <a href=\"its-only-the-himalayas_981/index.html\"><img alt=\"It's Only the Himalayas\" class=\"thumbnail\" src=\"../media/cache/27/a5/27a53d0bb95bdd88288eaf66c9230d7e.jpg\"/></a>\n",
       " </div>\n",
       " <p class=\"star-rating Two\">\n",
       " <i class=\"icon-star\"></i>\n",
       " <i class=\"icon-star\"></i>\n",
       " <i class=\"icon-star\"></i>\n",
       " <i class=\"icon-star\"></i>\n",
       " <i class=\"icon-star\"></i>\n",
       " </p>\n",
       " <h3><a href=\"its-only-the-himalayas_981/index.html\" title=\"It's Only the Himalayas\">It's Only the Himalayas</a></h3>\n",
       " <div class=\"product_price\">\n",
       " <p class=\"price_color\">Â£45.17</p>\n",
       " <p class=\"instock availability\">\n",
       " <i class=\"icon-ok\"></i>\n",
       "     \n",
       "         In stock\n",
       "     \n",
       " </p>\n",
       " <form>\n",
       " <button class=\"btn btn-primary btn-block\" data-loading-text=\"Adding...\" type=\"submit\">Add to basket</button>\n",
       " </form>\n",
       " </div>\n",
       " </article>]"
      ]
     },
     "execution_count": 74,
     "metadata": {},
     "output_type": "execute_result"
    }
   ],
   "source": [
    "soup.select(\".product_pod\")"
   ]
  },
  {
   "cell_type": "code",
   "execution_count": 72,
   "metadata": {},
   "outputs": [],
   "source": [
    "example=soup.select(\".product_pod\")[0]"
   ]
  },
  {
   "cell_type": "code",
   "execution_count": 75,
   "metadata": {},
   "outputs": [
    {
     "data": {
      "text/plain": [
       "[<p class=\"star-rating Three\">\n",
       " <i class=\"icon-star\"></i>\n",
       " <i class=\"icon-star\"></i>\n",
       " <i class=\"icon-star\"></i>\n",
       " <i class=\"icon-star\"></i>\n",
       " <i class=\"icon-star\"></i>\n",
       " </p>]"
      ]
     },
     "execution_count": 75,
     "metadata": {},
     "output_type": "execute_result"
    }
   ],
   "source": [
    "example.select(\".star-rating.Three\")"
   ]
  },
  {
   "cell_type": "code",
   "execution_count": 76,
   "metadata": {},
   "outputs": [
    {
     "data": {
      "text/plain": [
       "[<a href=\"a-light-in-the-attic_1000/index.html\"><img alt=\"A Light in the Attic\" class=\"thumbnail\" src=\"../media/cache/2c/da/2cdad67c44b002e7ead0cc35693c0e8b.jpg\"/></a>,\n",
       " <a href=\"a-light-in-the-attic_1000/index.html\" title=\"A Light in the Attic\">A Light in the ...</a>]"
      ]
     },
     "execution_count": 76,
     "metadata": {},
     "output_type": "execute_result"
    }
   ],
   "source": [
    "example.select('a')"
   ]
  },
  {
   "cell_type": "code",
   "execution_count": 78,
   "metadata": {},
   "outputs": [
    {
     "data": {
      "text/plain": [
       "'A Light in the Attic'"
      ]
     },
     "execution_count": 78,
     "metadata": {},
     "output_type": "execute_result"
    }
   ],
   "source": [
    "example.select('a')[1]['title']"
   ]
  },
  {
   "cell_type": "code",
   "execution_count": 79,
   "metadata": {},
   "outputs": [],
   "source": [
    "# we can check if something is rating 2 starsby(string call in, example.select(rating))\n",
    "#example.select('a')[1]['title'] to grab the book title"
   ]
  },
  {
   "cell_type": "code",
   "execution_count": 85,
   "metadata": {},
   "outputs": [],
   "source": [
    "book_titles=[]\n",
    "for n in range(1,51):\n",
    "    scrape_url=base_url.format(n)\n",
    "    res=requests.get( scrape_url)\n",
    "    soup=bs4.BeautifulSoup(res.text,'lxml')\n",
    "    books=soup.select('.product_pod')\n",
    "    for book in books:\n",
    "        if len(book.select(\".star-rating.Two\"))!=0:\n",
    "             book_title=book.select('a')[1]['title']\n",
    "             book_titles.append(book_title)\n",
    "        \n",
    "            \n",
    "               \n",
    "        "
   ]
  },
  {
   "cell_type": "code",
   "execution_count": 86,
   "metadata": {},
   "outputs": [
    {
     "data": {
      "text/plain": [
       "['Starving Hearts (Triangular Trade Trilogy, #1)',\n",
       " 'Libertarianism for Beginners',\n",
       " \"It's Only the Himalayas\",\n",
       " 'How Music Works',\n",
       " 'Maude (1883-1993):She Grew Up with the country',\n",
       " \"You can't bury them all: Poems\",\n",
       " 'Reasons to Stay Alive',\n",
       " 'Without Borders (Wanderlove #1)',\n",
       " 'Soul Reader',\n",
       " 'Security',\n",
       " 'Saga, Volume 5 (Saga (Collected Editions) #5)',\n",
       " 'Reskilling America: Learning to Labor in the Twenty-First Century',\n",
       " 'Political Suicide: Missteps, Peccadilloes, Bad Calls, Backroom Hijinx, Sordid Pasts, Rotten Breaks, and Just Plain Dumb Mistakes in the Annals of American Politics',\n",
       " 'Obsidian (Lux #1)',\n",
       " 'My Paris Kitchen: Recipes and Stories',\n",
       " 'Masks and Shadows',\n",
       " 'Lumberjanes, Vol. 2: Friendship to the Max (Lumberjanes #5-8)',\n",
       " 'Lumberjanes Vol. 3: A Terrible Plan (Lumberjanes #9-12)',\n",
       " 'Judo: Seven Steps to Black Belt (an Introductory Guide for Beginners)',\n",
       " 'I Hate Fairyland, Vol. 1: Madly Ever After (I Hate Fairyland (Compilations) #1-5)',\n",
       " 'Giant Days, Vol. 2 (Giant Days #5-8)',\n",
       " 'Everydata: The Misinformation Hidden in the Little Data You Consume Every Day',\n",
       " \"Don't Be a Jerk: And Other Practical Advice from Dogen, Japan's Greatest Zen Master\",\n",
       " 'Bossypants',\n",
       " 'Bitch Planet, Vol. 1: Extraordinary Machine (Bitch Planet (Collected Editions))',\n",
       " 'Avatar: The Last Airbender: Smoke and Shadow, Part 3 (Smoke and Shadow #3)',\n",
       " 'Tuesday Nights in 1980',\n",
       " 'The Psychopath Test: A Journey Through the Madness Industry',\n",
       " 'The Power of Now: A Guide to Spiritual Enlightenment',\n",
       " \"The Omnivore's Dilemma: A Natural History of Four Meals\",\n",
       " 'The Love and Lemons Cookbook: An Apple-to-Zucchini Celebration of Impromptu Cooking',\n",
       " 'The Girl on the Train',\n",
       " 'The Emerald Mystery',\n",
       " 'The Argonauts',\n",
       " 'Suddenly in Love (Lake Haven #1)',\n",
       " 'Soft Apocalypse',\n",
       " \"So You've Been Publicly Shamed\",\n",
       " 'Shoe Dog: A Memoir by the Creator of NIKE',\n",
       " 'Louisa: The Extraordinary Life of Mrs. Adams',\n",
       " 'Large Print Heart of the Pride',\n",
       " 'Grumbles',\n",
       " 'Chasing Heaven: What Dying Taught Me About Living',\n",
       " 'Becoming Wise: An Inquiry into the Mystery and Art of Living',\n",
       " 'Beauty Restored (Riley Family Legacy Novellas #3)',\n",
       " 'Batman: The Long Halloween (Batman)',\n",
       " \"Ayumi's Violin\",\n",
       " 'Wild Swans',\n",
       " \"What's It Like in Space?: Stories from Astronauts Who've Been There\",\n",
       " 'Until Friday Night (The Field Party #1)',\n",
       " 'Unbroken: A World War II Story of Survival, Resilience, and Redemption',\n",
       " 'Twenty Yawns',\n",
       " 'Through the Woods',\n",
       " 'This Is Where It Ends',\n",
       " 'The Year of Magical Thinking',\n",
       " 'The Last Mile (Amos Decker #2)',\n",
       " 'The Immortal Life of Henrietta Lacks',\n",
       " 'The Hidden Oracle (The Trials of Apollo #1)',\n",
       " 'The Guilty (Will Robie #4)',\n",
       " 'Red Hood/Arsenal, Vol. 1: Open for Business (Red Hood/Arsenal #1)',\n",
       " 'Once Was a Time',\n",
       " 'No Dream Is Too High: Life Lessons From a Man Who Walked on the Moon',\n",
       " 'Naruto (3-in-1 Edition), Vol. 14: Includes Vols. 40, 41 & 42 (Naruto: Omnibus #14)',\n",
       " 'More Than Music (Chasing the Dream #1)',\n",
       " 'Lowriders to the Center of the Earth (Lowriders in Space #2)',\n",
       " 'Eat Fat, Get Thin',\n",
       " 'Doctor Sleep (The Shining #2)',\n",
       " 'Crazy Love: Overwhelmed by a Relentless God',\n",
       " 'Carrie',\n",
       " 'Batman: Europa',\n",
       " 'Angels Walking (Angels Walking #1)',\n",
       " 'Adulthood Is a Myth: A \"Sarah\\'s Scribbles\" Collection',\n",
       " 'A Study in Scarlet (Sherlock Holmes #1)',\n",
       " 'A Series of Catastrophes and Miracles: A True Story of Love, Science, and Cancer',\n",
       " \"A People's History of the United States\",\n",
       " 'My Kitchen Year: 136 Recipes That Saved My Life',\n",
       " 'The Lonely City: Adventures in the Art of Being Alone',\n",
       " 'The Dinner Party',\n",
       " 'Stars Above (The Lunar Chronicles #4.5)',\n",
       " 'Love, Lies and Spies',\n",
       " 'Troublemaker: Surviving Hollywood and Scientology',\n",
       " 'The Widow',\n",
       " 'Setting the World on Fire: The Brief, Astonishing Life of St. Catherine of Siena',\n",
       " 'Mothering Sunday',\n",
       " 'Lilac Girls',\n",
       " '10% Happier: How I Tamed the Voice in My Head, Reduced Stress Without Losing My Edge, and Found Self-Help That Actually Works',\n",
       " 'Underlying Notes',\n",
       " 'The Flowers Lied',\n",
       " 'Modern Day Fables',\n",
       " \"Chernobyl 01:23:40: The Incredible True Story of the World's Worst Nuclear Disaster\",\n",
       " '23 Degrees South: A Tropical Tale of Changing Whether...',\n",
       " 'When Breath Becomes Air',\n",
       " 'Vagabonding: An Uncommon Guide to the Art of Long-Term World Travel',\n",
       " 'The Martian (The Martian #1)',\n",
       " \"Miller's Valley\",\n",
       " \"Love That Boy: What Two Presidents, Eight Road Trips, and My Son Taught Me About a Parent's Expectations\",\n",
       " 'Left Behind (Left Behind #1)',\n",
       " 'Howl and Other Poems',\n",
       " \"Heaven is for Real: A Little Boy's Astounding Story of His Trip to Heaven and Back\",\n",
       " \"Brazen: The Courage to Find the You That's Been Hiding\",\n",
       " '32 Yolks',\n",
       " 'Wildlife of New York: A Five-Borough Coloring Book',\n",
       " 'Unreasonable Hope: Finding Faith in the God Who Brings Purpose to Your Pain',\n",
       " 'The Art Book',\n",
       " 'Steal Like an Artist: 10 Things Nobody Told You About Being Creative',\n",
       " 'Raymie Nightingale',\n",
       " 'Like Never Before (Walker Family #2)',\n",
       " 'How to Be a Domestic Goddess: Baking and the Art of Comfort Cooking',\n",
       " 'Finding God in the Ruins: How God Redeems Pain',\n",
       " 'Chronicles, Vol. 1',\n",
       " 'A Summer In Europe',\n",
       " 'The Rise and Fall of the Third Reich: A History of Nazi Germany',\n",
       " 'The Makings of a Fatherless Child',\n",
       " 'The Fellowship of the Ring (The Lord of the Rings #1)',\n",
       " \"Tell the Wolves I'm Home\",\n",
       " 'In the Woods (Dublin Murder Squad #1)',\n",
       " 'Give It Back',\n",
       " 'Why Save the Bankers?: And Other Essays on Our Economic and Political Crisis',\n",
       " 'The Raven King (The Raven Cycle #4)',\n",
       " 'The Expatriates',\n",
       " 'The 5th Wave (The 5th Wave #1)',\n",
       " 'Peak: Secrets from the New Science of Expertise',\n",
       " 'Logan Kade (Fallen Crest High #5.5)',\n",
       " \"I Know Why the Caged Bird Sings (Maya Angelou's Autobiography #1)\",\n",
       " 'Drama',\n",
       " \"America's War for the Greater Middle East: A Military History\",\n",
       " 'A Game of Thrones (A Song of Ice and Fire #1)',\n",
       " \"The Pilgrim's Progress\",\n",
       " 'The Hound of the Baskervilles (Sherlock Holmes #5)',\n",
       " \"The Geography of Bliss: One Grump's Search for the Happiest Places in the World\",\n",
       " 'The Demonists (Demonist #1)',\n",
       " 'The Demon Prince of Momochi House, Vol. 4 (The Demon Prince of Momochi House #4)',\n",
       " 'Misery',\n",
       " 'Far From True (Promise Falls Trilogy #2)',\n",
       " 'Confessions of a Shopaholic (Shopaholic #1)',\n",
       " 'Vegan Vegetarian Omnivore: Dinner for Everyone at the Table',\n",
       " 'Two Boys Kissing',\n",
       " 'Twilight (Twilight #1)',\n",
       " 'Twenties Girl',\n",
       " 'The Tipping Point: How Little Things Can Make a Big Difference',\n",
       " 'The Stand',\n",
       " 'The Picture of Dorian Gray',\n",
       " 'The Name of God is Mercy',\n",
       " \"The Lover's Dictionary\",\n",
       " 'The Last Painting of Sara de Vos',\n",
       " 'The Guns of August',\n",
       " 'The Girl Who Played with Fire (Millennium Trilogy #2)',\n",
       " 'The Da Vinci Code (Robert Langdon #2)',\n",
       " 'The Cat in the Hat (Beginner Books B-1)',\n",
       " 'The Book Thief',\n",
       " 'The Autobiography of Malcolm X',\n",
       " \"Surely You're Joking, Mr. Feynman!: Adventures of a Curious Character\",\n",
       " 'Soldier (Talon #3)',\n",
       " 'Shopaholic & Baby (Shopaholic #5)',\n",
       " 'Seven Days in the Art World',\n",
       " 'Rework',\n",
       " 'Packing for Mars: The Curious Science of Life in the Void',\n",
       " 'Orange Is the New Black',\n",
       " 'One for the Money (Stephanie Plum #1)',\n",
       " 'Midnight Riot (Peter Grant/ Rivers of London - books #1)',\n",
       " 'Me Talk Pretty One Day',\n",
       " 'Manuscript Found in Accra',\n",
       " 'Lust & Wonder',\n",
       " \"Life, the Universe and Everything (Hitchhiker's Guide to the Galaxy #3)\",\n",
       " 'Life After Life',\n",
       " 'I Am Malala: The Girl Who Stood Up for Education and Was Shot by the Taliban',\n",
       " 'House of Lost Worlds: Dinosaurs, Dynasties, and the Story of Life on Earth',\n",
       " 'Horrible Bear!',\n",
       " 'Holidays on Ice',\n",
       " 'Girl in the Blue Coat',\n",
       " 'Fruits Basket, Vol. 3 (Fruits Basket #3)',\n",
       " 'Cosmos',\n",
       " 'Civilization and Its Discontents',\n",
       " \"Catastrophic Happiness: Finding Joy in Childhood's Messy Years\",\n",
       " 'Career of Evil (Cormoran Strike #3)',\n",
       " 'Born to Run: A Hidden Tribe, Superathletes, and the Greatest Race the World Has Never Seen',\n",
       " \"Best of My Love (Fool's Gold #20)\",\n",
       " 'Beowulf',\n",
       " 'Awkward',\n",
       " 'And Then There Were None',\n",
       " 'A Storm of Swords (A Song of Ice and Fire #3)',\n",
       " 'The Suffragettes (Little Black Classics, #96)',\n",
       " 'Vampire Girl (Vampire Girl #1)',\n",
       " 'Three Wishes (River of Time: California #1)',\n",
       " 'The Wicked + The Divine, Vol. 1: The Faust Act (The Wicked + The Divine)',\n",
       " 'The Little Prince',\n",
       " 'The Last Girl (The Dominion Trilogy #1)',\n",
       " 'Taking Shots (Assassins #1)',\n",
       " 'Settling the Score (The Summer Games #1)',\n",
       " 'Rhythm, Chord & Malykhin',\n",
       " 'One Second (Seven #7)',\n",
       " \"Old Records Never Die: One Man's Quest for His Vinyl and His Past\",\n",
       " 'Of Mice and Men',\n",
       " 'My Perfect Mistake (Over the Top #1)',\n",
       " 'Meditations',\n",
       " 'Frankenstein',\n",
       " 'Emma']"
      ]
     },
     "execution_count": 86,
     "metadata": {},
     "output_type": "execute_result"
    }
   ],
   "source": [
    "book_titles"
   ]
  },
  {
   "cell_type": "code",
   "execution_count": 94,
   "metadata": {},
   "outputs": [],
   "source": [
    "#TASK 1 TO GET THE NAMES OF AUTHOR ON THE FIRST PAGE"
   ]
  },
  {
   "cell_type": "code",
   "execution_count": 87,
   "metadata": {},
   "outputs": [],
   "source": [
    "import requests"
   ]
  },
  {
   "cell_type": "code",
   "execution_count": 88,
   "metadata": {},
   "outputs": [],
   "source": [
    "import bs4"
   ]
  },
  {
   "cell_type": "code",
   "execution_count": 89,
   "metadata": {},
   "outputs": [],
   "source": [
    "res=requests.get(\"https://quotes.toscrape.com/\")"
   ]
  },
  {
   "cell_type": "code",
   "execution_count": 92,
   "metadata": {},
   "outputs": [],
   "source": [
    "soup=bs4.BeautifulSoup(res.text,'lxml')"
   ]
  },
  {
   "cell_type": "code",
   "execution_count": 93,
   "metadata": {},
   "outputs": [
    {
     "data": {
      "text/plain": [
       "<!DOCTYPE html>\n",
       "<html lang=\"en\">\n",
       "<head>\n",
       "<meta charset=\"utf-8\"/>\n",
       "<title>Quotes to Scrape</title>\n",
       "<link href=\"/static/bootstrap.min.css\" rel=\"stylesheet\"/>\n",
       "<link href=\"/static/main.css\" rel=\"stylesheet\"/>\n",
       "</head>\n",
       "<body>\n",
       "<div class=\"container\">\n",
       "<div class=\"row header-box\">\n",
       "<div class=\"col-md-8\">\n",
       "<h1>\n",
       "<a href=\"/\" style=\"text-decoration: none\">Quotes to Scrape</a>\n",
       "</h1>\n",
       "</div>\n",
       "<div class=\"col-md-4\">\n",
       "<p>\n",
       "<a href=\"/login\">Login</a>\n",
       "</p>\n",
       "</div>\n",
       "</div>\n",
       "<div class=\"row\">\n",
       "<div class=\"col-md-8\">\n",
       "<div class=\"quote\" itemscope=\"\" itemtype=\"http://schema.org/CreativeWork\">\n",
       "<span class=\"text\" itemprop=\"text\">“The world as we have created it is a process of our thinking. It cannot be changed without changing our thinking.”</span>\n",
       "<span>by <small class=\"author\" itemprop=\"author\">Albert Einstein</small>\n",
       "<a href=\"/author/Albert-Einstein\">(about)</a>\n",
       "</span>\n",
       "<div class=\"tags\">\n",
       "            Tags:\n",
       "            <meta class=\"keywords\" content=\"change,deep-thoughts,thinking,world\" itemprop=\"keywords\"/>\n",
       "<a class=\"tag\" href=\"/tag/change/page/1/\">change</a>\n",
       "<a class=\"tag\" href=\"/tag/deep-thoughts/page/1/\">deep-thoughts</a>\n",
       "<a class=\"tag\" href=\"/tag/thinking/page/1/\">thinking</a>\n",
       "<a class=\"tag\" href=\"/tag/world/page/1/\">world</a>\n",
       "</div>\n",
       "</div>\n",
       "<div class=\"quote\" itemscope=\"\" itemtype=\"http://schema.org/CreativeWork\">\n",
       "<span class=\"text\" itemprop=\"text\">“It is our choices, Harry, that show what we truly are, far more than our abilities.”</span>\n",
       "<span>by <small class=\"author\" itemprop=\"author\">J.K. Rowling</small>\n",
       "<a href=\"/author/J-K-Rowling\">(about)</a>\n",
       "</span>\n",
       "<div class=\"tags\">\n",
       "            Tags:\n",
       "            <meta class=\"keywords\" content=\"abilities,choices\" itemprop=\"keywords\"/>\n",
       "<a class=\"tag\" href=\"/tag/abilities/page/1/\">abilities</a>\n",
       "<a class=\"tag\" href=\"/tag/choices/page/1/\">choices</a>\n",
       "</div>\n",
       "</div>\n",
       "<div class=\"quote\" itemscope=\"\" itemtype=\"http://schema.org/CreativeWork\">\n",
       "<span class=\"text\" itemprop=\"text\">“There are only two ways to live your life. One is as though nothing is a miracle. The other is as though everything is a miracle.”</span>\n",
       "<span>by <small class=\"author\" itemprop=\"author\">Albert Einstein</small>\n",
       "<a href=\"/author/Albert-Einstein\">(about)</a>\n",
       "</span>\n",
       "<div class=\"tags\">\n",
       "            Tags:\n",
       "            <meta class=\"keywords\" content=\"inspirational,life,live,miracle,miracles\" itemprop=\"keywords\"/>\n",
       "<a class=\"tag\" href=\"/tag/inspirational/page/1/\">inspirational</a>\n",
       "<a class=\"tag\" href=\"/tag/life/page/1/\">life</a>\n",
       "<a class=\"tag\" href=\"/tag/live/page/1/\">live</a>\n",
       "<a class=\"tag\" href=\"/tag/miracle/page/1/\">miracle</a>\n",
       "<a class=\"tag\" href=\"/tag/miracles/page/1/\">miracles</a>\n",
       "</div>\n",
       "</div>\n",
       "<div class=\"quote\" itemscope=\"\" itemtype=\"http://schema.org/CreativeWork\">\n",
       "<span class=\"text\" itemprop=\"text\">“The person, be it gentleman or lady, who has not pleasure in a good novel, must be intolerably stupid.”</span>\n",
       "<span>by <small class=\"author\" itemprop=\"author\">Jane Austen</small>\n",
       "<a href=\"/author/Jane-Austen\">(about)</a>\n",
       "</span>\n",
       "<div class=\"tags\">\n",
       "            Tags:\n",
       "            <meta class=\"keywords\" content=\"aliteracy,books,classic,humor\" itemprop=\"keywords\"/>\n",
       "<a class=\"tag\" href=\"/tag/aliteracy/page/1/\">aliteracy</a>\n",
       "<a class=\"tag\" href=\"/tag/books/page/1/\">books</a>\n",
       "<a class=\"tag\" href=\"/tag/classic/page/1/\">classic</a>\n",
       "<a class=\"tag\" href=\"/tag/humor/page/1/\">humor</a>\n",
       "</div>\n",
       "</div>\n",
       "<div class=\"quote\" itemscope=\"\" itemtype=\"http://schema.org/CreativeWork\">\n",
       "<span class=\"text\" itemprop=\"text\">“Imperfection is beauty, madness is genius and it's better to be absolutely ridiculous than absolutely boring.”</span>\n",
       "<span>by <small class=\"author\" itemprop=\"author\">Marilyn Monroe</small>\n",
       "<a href=\"/author/Marilyn-Monroe\">(about)</a>\n",
       "</span>\n",
       "<div class=\"tags\">\n",
       "            Tags:\n",
       "            <meta class=\"keywords\" content=\"be-yourself,inspirational\" itemprop=\"keywords\"/>\n",
       "<a class=\"tag\" href=\"/tag/be-yourself/page/1/\">be-yourself</a>\n",
       "<a class=\"tag\" href=\"/tag/inspirational/page/1/\">inspirational</a>\n",
       "</div>\n",
       "</div>\n",
       "<div class=\"quote\" itemscope=\"\" itemtype=\"http://schema.org/CreativeWork\">\n",
       "<span class=\"text\" itemprop=\"text\">“Try not to become a man of success. Rather become a man of value.”</span>\n",
       "<span>by <small class=\"author\" itemprop=\"author\">Albert Einstein</small>\n",
       "<a href=\"/author/Albert-Einstein\">(about)</a>\n",
       "</span>\n",
       "<div class=\"tags\">\n",
       "            Tags:\n",
       "            <meta class=\"keywords\" content=\"adulthood,success,value\" itemprop=\"keywords\"/>\n",
       "<a class=\"tag\" href=\"/tag/adulthood/page/1/\">adulthood</a>\n",
       "<a class=\"tag\" href=\"/tag/success/page/1/\">success</a>\n",
       "<a class=\"tag\" href=\"/tag/value/page/1/\">value</a>\n",
       "</div>\n",
       "</div>\n",
       "<div class=\"quote\" itemscope=\"\" itemtype=\"http://schema.org/CreativeWork\">\n",
       "<span class=\"text\" itemprop=\"text\">“It is better to be hated for what you are than to be loved for what you are not.”</span>\n",
       "<span>by <small class=\"author\" itemprop=\"author\">André Gide</small>\n",
       "<a href=\"/author/Andre-Gide\">(about)</a>\n",
       "</span>\n",
       "<div class=\"tags\">\n",
       "            Tags:\n",
       "            <meta class=\"keywords\" content=\"life,love\" itemprop=\"keywords\"/>\n",
       "<a class=\"tag\" href=\"/tag/life/page/1/\">life</a>\n",
       "<a class=\"tag\" href=\"/tag/love/page/1/\">love</a>\n",
       "</div>\n",
       "</div>\n",
       "<div class=\"quote\" itemscope=\"\" itemtype=\"http://schema.org/CreativeWork\">\n",
       "<span class=\"text\" itemprop=\"text\">“I have not failed. I've just found 10,000 ways that won't work.”</span>\n",
       "<span>by <small class=\"author\" itemprop=\"author\">Thomas A. Edison</small>\n",
       "<a href=\"/author/Thomas-A-Edison\">(about)</a>\n",
       "</span>\n",
       "<div class=\"tags\">\n",
       "            Tags:\n",
       "            <meta class=\"keywords\" content=\"edison,failure,inspirational,paraphrased\" itemprop=\"keywords\"/>\n",
       "<a class=\"tag\" href=\"/tag/edison/page/1/\">edison</a>\n",
       "<a class=\"tag\" href=\"/tag/failure/page/1/\">failure</a>\n",
       "<a class=\"tag\" href=\"/tag/inspirational/page/1/\">inspirational</a>\n",
       "<a class=\"tag\" href=\"/tag/paraphrased/page/1/\">paraphrased</a>\n",
       "</div>\n",
       "</div>\n",
       "<div class=\"quote\" itemscope=\"\" itemtype=\"http://schema.org/CreativeWork\">\n",
       "<span class=\"text\" itemprop=\"text\">“A woman is like a tea bag; you never know how strong it is until it's in hot water.”</span>\n",
       "<span>by <small class=\"author\" itemprop=\"author\">Eleanor Roosevelt</small>\n",
       "<a href=\"/author/Eleanor-Roosevelt\">(about)</a>\n",
       "</span>\n",
       "<div class=\"tags\">\n",
       "            Tags:\n",
       "            <meta class=\"keywords\" content=\"misattributed-eleanor-roosevelt\" itemprop=\"keywords\"/>\n",
       "<a class=\"tag\" href=\"/tag/misattributed-eleanor-roosevelt/page/1/\">misattributed-eleanor-roosevelt</a>\n",
       "</div>\n",
       "</div>\n",
       "<div class=\"quote\" itemscope=\"\" itemtype=\"http://schema.org/CreativeWork\">\n",
       "<span class=\"text\" itemprop=\"text\">“A day without sunshine is like, you know, night.”</span>\n",
       "<span>by <small class=\"author\" itemprop=\"author\">Steve Martin</small>\n",
       "<a href=\"/author/Steve-Martin\">(about)</a>\n",
       "</span>\n",
       "<div class=\"tags\">\n",
       "            Tags:\n",
       "            <meta class=\"keywords\" content=\"humor,obvious,simile\" itemprop=\"keywords\"/>\n",
       "<a class=\"tag\" href=\"/tag/humor/page/1/\">humor</a>\n",
       "<a class=\"tag\" href=\"/tag/obvious/page/1/\">obvious</a>\n",
       "<a class=\"tag\" href=\"/tag/simile/page/1/\">simile</a>\n",
       "</div>\n",
       "</div>\n",
       "<nav>\n",
       "<ul class=\"pager\">\n",
       "<li class=\"next\">\n",
       "<a href=\"/page/2/\">Next <span aria-hidden=\"true\">→</span></a>\n",
       "</li>\n",
       "</ul>\n",
       "</nav>\n",
       "</div>\n",
       "<div class=\"col-md-4 tags-box\">\n",
       "<h2>Top Ten tags</h2>\n",
       "<span class=\"tag-item\">\n",
       "<a class=\"tag\" href=\"/tag/love/\" style=\"font-size: 28px\">love</a>\n",
       "</span>\n",
       "<span class=\"tag-item\">\n",
       "<a class=\"tag\" href=\"/tag/inspirational/\" style=\"font-size: 26px\">inspirational</a>\n",
       "</span>\n",
       "<span class=\"tag-item\">\n",
       "<a class=\"tag\" href=\"/tag/life/\" style=\"font-size: 26px\">life</a>\n",
       "</span>\n",
       "<span class=\"tag-item\">\n",
       "<a class=\"tag\" href=\"/tag/humor/\" style=\"font-size: 24px\">humor</a>\n",
       "</span>\n",
       "<span class=\"tag-item\">\n",
       "<a class=\"tag\" href=\"/tag/books/\" style=\"font-size: 22px\">books</a>\n",
       "</span>\n",
       "<span class=\"tag-item\">\n",
       "<a class=\"tag\" href=\"/tag/reading/\" style=\"font-size: 14px\">reading</a>\n",
       "</span>\n",
       "<span class=\"tag-item\">\n",
       "<a class=\"tag\" href=\"/tag/friendship/\" style=\"font-size: 10px\">friendship</a>\n",
       "</span>\n",
       "<span class=\"tag-item\">\n",
       "<a class=\"tag\" href=\"/tag/friends/\" style=\"font-size: 8px\">friends</a>\n",
       "</span>\n",
       "<span class=\"tag-item\">\n",
       "<a class=\"tag\" href=\"/tag/truth/\" style=\"font-size: 8px\">truth</a>\n",
       "</span>\n",
       "<span class=\"tag-item\">\n",
       "<a class=\"tag\" href=\"/tag/simile/\" style=\"font-size: 6px\">simile</a>\n",
       "</span>\n",
       "</div>\n",
       "</div>\n",
       "</div>\n",
       "<footer class=\"footer\">\n",
       "<div class=\"container\">\n",
       "<p class=\"text-muted\">\n",
       "                Quotes by: <a href=\"https://www.goodreads.com/quotes\">GoodReads.com</a>\n",
       "</p>\n",
       "<p class=\"copyright\">\n",
       "                Made with <span class=\"sh-red\">❤</span> by <a href=\"https://scrapinghub.com\">Scrapinghub</a>\n",
       "</p>\n",
       "</div>\n",
       "</footer>\n",
       "</body>\n",
       "</html>"
      ]
     },
     "execution_count": 93,
     "metadata": {},
     "output_type": "execute_result"
    }
   ],
   "source": [
    "soup"
   ]
  },
  {
   "cell_type": "code",
   "execution_count": 106,
   "metadata": {},
   "outputs": [],
   "source": [
    "author=soup.select('.author')"
   ]
  },
  {
   "cell_type": "code",
   "execution_count": 116,
   "metadata": {},
   "outputs": [
    {
     "data": {
      "text/plain": [
       "[<small class=\"author\" itemprop=\"author\">Albert Einstein</small>,\n",
       " <small class=\"author\" itemprop=\"author\">J.K. Rowling</small>,\n",
       " <small class=\"author\" itemprop=\"author\">Albert Einstein</small>,\n",
       " <small class=\"author\" itemprop=\"author\">Jane Austen</small>,\n",
       " <small class=\"author\" itemprop=\"author\">Marilyn Monroe</small>,\n",
       " <small class=\"author\" itemprop=\"author\">Albert Einstein</small>,\n",
       " <small class=\"author\" itemprop=\"author\">André Gide</small>,\n",
       " <small class=\"author\" itemprop=\"author\">Thomas A. Edison</small>,\n",
       " <small class=\"author\" itemprop=\"author\">Eleanor Roosevelt</small>,\n",
       " <small class=\"author\" itemprop=\"author\">Steve Martin</small>]"
      ]
     },
     "execution_count": 116,
     "metadata": {},
     "output_type": "execute_result"
    }
   ],
   "source": [
    "author"
   ]
  },
  {
   "cell_type": "code",
   "execution_count": 132,
   "metadata": {},
   "outputs": [],
   "source": [
    "authors=set()\n",
    "for name in soup.select('.author'):\n",
    "    authors.add(name.text)"
   ]
  },
  {
   "cell_type": "code",
   "execution_count": 133,
   "metadata": {},
   "outputs": [
    {
     "data": {
      "text/plain": [
       "{'Albert Einstein',\n",
       " 'André Gide',\n",
       " 'Eleanor Roosevelt',\n",
       " 'J.K. Rowling',\n",
       " 'Jane Austen',\n",
       " 'Marilyn Monroe',\n",
       " 'Steve Martin',\n",
       " 'Thomas A. Edison'}"
      ]
     },
     "execution_count": 133,
     "metadata": {},
     "output_type": "execute_result"
    }
   ],
   "source": [
    "authors"
   ]
  },
  {
   "cell_type": "code",
   "execution_count": 127,
   "metadata": {},
   "outputs": [],
   "source": [
    "quotes=soup.select(\".text\")"
   ]
  },
  {
   "cell_type": "code",
   "execution_count": 128,
   "metadata": {},
   "outputs": [
    {
     "data": {
      "text/plain": [
       "[<span class=\"text\" itemprop=\"text\">“The world as we have created it is a process of our thinking. It cannot be changed without changing our thinking.”</span>,\n",
       " <span class=\"text\" itemprop=\"text\">“It is our choices, Harry, that show what we truly are, far more than our abilities.”</span>,\n",
       " <span class=\"text\" itemprop=\"text\">“There are only two ways to live your life. One is as though nothing is a miracle. The other is as though everything is a miracle.”</span>,\n",
       " <span class=\"text\" itemprop=\"text\">“The person, be it gentleman or lady, who has not pleasure in a good novel, must be intolerably stupid.”</span>,\n",
       " <span class=\"text\" itemprop=\"text\">“Imperfection is beauty, madness is genius and it's better to be absolutely ridiculous than absolutely boring.”</span>,\n",
       " <span class=\"text\" itemprop=\"text\">“Try not to become a man of success. Rather become a man of value.”</span>,\n",
       " <span class=\"text\" itemprop=\"text\">“It is better to be hated for what you are than to be loved for what you are not.”</span>,\n",
       " <span class=\"text\" itemprop=\"text\">“I have not failed. I've just found 10,000 ways that won't work.”</span>,\n",
       " <span class=\"text\" itemprop=\"text\">“A woman is like a tea bag; you never know how strong it is until it's in hot water.”</span>,\n",
       " <span class=\"text\" itemprop=\"text\">“A day without sunshine is like, you know, night.”</span>]"
      ]
     },
     "execution_count": 128,
     "metadata": {},
     "output_type": "execute_result"
    }
   ],
   "source": [
    "quotes"
   ]
  },
  {
   "cell_type": "code",
   "execution_count": 137,
   "metadata": {},
   "outputs": [],
   "source": [
    "quotes=[]\n",
    "for quote in soup.select(\".text\"):\n",
    "    quotes.append(quote.text)"
   ]
  },
  {
   "cell_type": "code",
   "execution_count": 138,
   "metadata": {},
   "outputs": [
    {
     "data": {
      "text/plain": [
       "['“The world as we have created it is a process of our thinking. It cannot be changed without changing our thinking.”',\n",
       " '“It is our choices, Harry, that show what we truly are, far more than our abilities.”',\n",
       " '“There are only two ways to live your life. One is as though nothing is a miracle. The other is as though everything is a miracle.”',\n",
       " '“The person, be it gentleman or lady, who has not pleasure in a good novel, must be intolerably stupid.”',\n",
       " \"“Imperfection is beauty, madness is genius and it's better to be absolutely ridiculous than absolutely boring.”\",\n",
       " '“Try not to become a man of success. Rather become a man of value.”',\n",
       " '“It is better to be hated for what you are than to be loved for what you are not.”',\n",
       " \"“I have not failed. I've just found 10,000 ways that won't work.”\",\n",
       " \"“A woman is like a tea bag; you never know how strong it is until it's in hot water.”\",\n",
       " '“A day without sunshine is like, you know, night.”']"
      ]
     },
     "execution_count": 138,
     "metadata": {},
     "output_type": "execute_result"
    }
   ],
   "source": [
    "quotes"
   ]
  },
  {
   "cell_type": "code",
   "execution_count": 129,
   "metadata": {},
   "outputs": [],
   "source": [
    "#TASK: Inspect the site and use Beautiful Soup to extract the top ten tags from the requests text shown on the top right from the home page (e.g Love,Inspirational,Life, etc...). HINT: Keep in mind there are also tags underneath each quote, try to find a class only present in the top right tags, perhaps check the span."
   ]
  },
  {
   "cell_type": "code",
   "execution_count": 131,
   "metadata": {},
   "outputs": [
    {
     "data": {
      "text/plain": [
       "[<span class=\"tag-item\">\n",
       " <a class=\"tag\" href=\"/tag/love/\" style=\"font-size: 28px\">love</a>\n",
       " </span>, <span class=\"tag-item\">\n",
       " <a class=\"tag\" href=\"/tag/inspirational/\" style=\"font-size: 26px\">inspirational</a>\n",
       " </span>, <span class=\"tag-item\">\n",
       " <a class=\"tag\" href=\"/tag/life/\" style=\"font-size: 26px\">life</a>\n",
       " </span>, <span class=\"tag-item\">\n",
       " <a class=\"tag\" href=\"/tag/humor/\" style=\"font-size: 24px\">humor</a>\n",
       " </span>, <span class=\"tag-item\">\n",
       " <a class=\"tag\" href=\"/tag/books/\" style=\"font-size: 22px\">books</a>\n",
       " </span>, <span class=\"tag-item\">\n",
       " <a class=\"tag\" href=\"/tag/reading/\" style=\"font-size: 14px\">reading</a>\n",
       " </span>, <span class=\"tag-item\">\n",
       " <a class=\"tag\" href=\"/tag/friendship/\" style=\"font-size: 10px\">friendship</a>\n",
       " </span>, <span class=\"tag-item\">\n",
       " <a class=\"tag\" href=\"/tag/friends/\" style=\"font-size: 8px\">friends</a>\n",
       " </span>, <span class=\"tag-item\">\n",
       " <a class=\"tag\" href=\"/tag/truth/\" style=\"font-size: 8px\">truth</a>\n",
       " </span>, <span class=\"tag-item\">\n",
       " <a class=\"tag\" href=\"/tag/simile/\" style=\"font-size: 6px\">simile</a>\n",
       " </span>]"
      ]
     },
     "execution_count": 131,
     "metadata": {},
     "output_type": "execute_result"
    }
   ],
   "source": [
    "soup.select('.tag-item')"
   ]
  },
  {
   "cell_type": "code",
   "execution_count": 139,
   "metadata": {},
   "outputs": [],
   "source": [
    "tag_items=[]\n",
    "for tag_item in soup.select('.tag-item'):\n",
    "    tag_items.append(tag_item.text)"
   ]
  },
  {
   "cell_type": "code",
   "execution_count": 140,
   "metadata": {},
   "outputs": [
    {
     "data": {
      "text/plain": [
       "['\\nlove\\n',\n",
       " '\\ninspirational\\n',\n",
       " '\\nlife\\n',\n",
       " '\\nhumor\\n',\n",
       " '\\nbooks\\n',\n",
       " '\\nreading\\n',\n",
       " '\\nfriendship\\n',\n",
       " '\\nfriends\\n',\n",
       " '\\ntruth\\n',\n",
       " '\\nsimile\\n']"
      ]
     },
     "execution_count": 140,
     "metadata": {},
     "output_type": "execute_result"
    }
   ],
   "source": [
    "tag_items"
   ]
  },
  {
   "cell_type": "code",
   "execution_count": null,
   "metadata": {},
   "outputs": [],
   "source": []
  }
 ],
 "metadata": {
  "kernelspec": {
   "display_name": "Python 3",
   "language": "python",
   "name": "python3"
  },
  "language_info": {
   "codemirror_mode": {
    "name": "ipython",
    "version": 3
   },
   "file_extension": ".py",
   "mimetype": "text/x-python",
   "name": "python",
   "nbconvert_exporter": "python",
   "pygments_lexer": "ipython3",
   "version": "3.7.3"
  }
 },
 "nbformat": 4,
 "nbformat_minor": 2
}
